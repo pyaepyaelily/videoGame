{
 "cells": [
  {
   "cell_type": "code",
   "execution_count": 4,
   "id": "42c58e2b",
   "metadata": {},
   "outputs": [],
   "source": [
    "import glob\n",
    "import os\n",
    "import numpy as np\n",
    "import pandas as pd\n",
    "import seaborn as sb\n",
    "import matplotlib.pyplot as plt\n",
    "import texthero as hero\n",
    "from texthero import preprocessing\n",
    "sb.set()"
   ]
  },
  {
   "cell_type": "code",
   "execution_count": 5,
   "id": "e1fdac1a",
   "metadata": {},
   "outputs": [
    {
     "name": "stderr",
     "output_type": "stream",
     "text": [
      "C:\\Education\\Study\\EE0005\\Anaconda\\lib\\site-packages\\IPython\\core\\interactiveshell.py:3437: DtypeWarning: Columns (23) have mixed types.Specify dtype option on import or set low_memory=False.\n",
      "  exec(code_obj, self.user_global_ns, self.user_ns)\n",
      "C:\\Education\\Study\\EE0005\\Anaconda\\lib\\site-packages\\IPython\\core\\interactiveshell.py:3437: DtypeWarning: Columns (1,23) have mixed types.Specify dtype option on import or set low_memory=False.\n",
      "  exec(code_obj, self.user_global_ns, self.user_ns)\n",
      "C:\\Education\\Study\\EE0005\\Anaconda\\lib\\site-packages\\IPython\\core\\interactiveshell.py:3357: DtypeWarning: Columns (2) have mixed types.Specify dtype option on import or set low_memory=False.\n",
      "  if (await self.run_code(code, result,  async_=asy)):\n",
      "C:\\Education\\Study\\EE0005\\Anaconda\\lib\\site-packages\\IPython\\core\\interactiveshell.py:3357: DtypeWarning: Columns (23) have mixed types.Specify dtype option on import or set low_memory=False.\n",
      "  if (await self.run_code(code, result,  async_=asy)):\n"
     ]
    }
   ],
   "source": [
    "steamData = pd.read_csv('steam_data/steam.csv')\n",
    "steamSupportInfo = pd.read_csv('steam_data/steam_support_info.csv')\n",
    "steamChart = pd.read_csv('steam_data/steamCharts.csv')\n",
    "steamSpyTagData = pd.read_csv('steam_data/steamspy_tag_data.csv')\n",
    "steamGames = pd.concat(map(pd.read_csv, glob.glob(os.path.join('', \"steam_data/steam_games/steam_games*.csv\"))))\n",
    "steamMediaData = pd.concat(map(pd.read_csv, glob.glob(os.path.join('', \"steam_data/steam_media_data/steam_media_data*.csv\"))))\n",
    "steamRequirements = pd.concat(map(pd.read_csv, glob.glob(os.path.join('', \"steam_data/steam_requirements/steam_requirements*.csv\"))))\n",
    "steamDescription = pd.concat(map(pd.read_csv, glob.glob(os.path.join('', \"steam_data/steam_description/steam_description*.csv\"))))\n",
    "\n",
    "#game reviews\n",
    "steam_HalfOfTheGameReviews = pd.concat(map(pd.read_csv, glob.glob(os.path.join('', \"steam_data/steam_reviews/steam_review_*.csv\"))))\n",
    "files = glob.glob(\"steam_data/steam_reviews\" + '**/**' + \"/*.csv\")\n",
    "steamReviews_fromFolder = pd.concat([pd.read_csv(f) for f in files ])\n",
    "steamReviewsDF = [steam_HalfOfTheGameReviews, steamReviews_fromFolder]\n",
    "steamCombinedReviews = pd.concat(steamReviewsDF)"
   ]
  },
  {
   "cell_type": "code",
   "execution_count": 6,
   "id": "b1f7fa3a",
   "metadata": {},
   "outputs": [],
   "source": [
    "#rename for easier identification\n",
    "steamGames = steamGames.rename(columns={\"name\": \"title\"})\n",
    "\n",
    "#create a custom cleaning pipeline\n",
    "custom_pipeline = [preprocessing.fillna\n",
    "                   , preprocessing.lowercase\n",
    "                   , preprocessing.remove_punctuation\n",
    "                   , preprocessing.remove_diacritics\n",
    "                   , preprocessing.remove_whitespace]\n",
    "\n",
    "steamCombinedReviews['title'] = hero.clean(steamCombinedReviews['title'], pipeline = custom_pipeline)\n",
    "steamGames['title'] = hero.clean(steamGames['title'], pipeline = custom_pipeline)"
   ]
  },
  {
   "cell_type": "markdown",
   "id": "b6ff1a79",
   "metadata": {},
   "source": [
    "Find average time needed to complete a game with regards to how popular it is.\n",
    "\n",
    "Find price of game with regards to number of players\n",
    "\n"
   ]
  },
  {
   "cell_type": "code",
   "execution_count": 7,
   "id": "6833f7fe",
   "metadata": {},
   "outputs": [
    {
     "data": {
      "text/plain": [
       "0        586.0\n",
       "1       5269.0\n",
       "2       7993.0\n",
       "3       6794.0\n",
       "4       6504.0\n",
       "        ...   \n",
       "386    21594.0\n",
       "387     9443.0\n",
       "388     4736.0\n",
       "389    31836.0\n",
       "390    15128.0\n",
       "Name: author.playtime_at_review, Length: 4532560, dtype: object"
      ]
     },
     "execution_count": 7,
     "metadata": {},
     "output_type": "execute_result"
    }
   ],
   "source": [
    "#cleaning steam reviews dataset, removing reviews of 0 playtime\n",
    "steamCombinedReviews_clean = steamCombinedReviews.copy()\n",
    "\n",
    "steamCombinedReviews_clean[\"author.playtime_at_review\"].fillna(value=\"\")"
   ]
  },
  {
   "cell_type": "code",
   "execution_count": 8,
   "id": "a8871b58",
   "metadata": {
    "scrolled": true
   },
   "outputs": [
    {
     "data": {
      "text/html": [
       "<div>\n",
       "<style scoped>\n",
       "    .dataframe tbody tr th:only-of-type {\n",
       "        vertical-align: middle;\n",
       "    }\n",
       "\n",
       "    .dataframe tbody tr th {\n",
       "        vertical-align: top;\n",
       "    }\n",
       "\n",
       "    .dataframe thead th {\n",
       "        text-align: right;\n",
       "    }\n",
       "</style>\n",
       "<table border=\"1\" class=\"dataframe\">\n",
       "  <thead>\n",
       "    <tr style=\"text-align: right;\">\n",
       "      <th></th>\n",
       "      <th>title</th>\n",
       "      <th>original_price</th>\n",
       "    </tr>\n",
       "  </thead>\n",
       "  <tbody>\n",
       "    <tr>\n",
       "      <th>0</th>\n",
       "      <td>playerunknown s battlegrounds</td>\n",
       "      <td>$29.99</td>\n",
       "    </tr>\n",
       "    <tr>\n",
       "      <th>1</th>\n",
       "      <td>battletech</td>\n",
       "      <td>$39.99</td>\n",
       "    </tr>\n",
       "    <tr>\n",
       "      <th>2</th>\n",
       "      <td>dayz</td>\n",
       "      <td>$44.99</td>\n",
       "    </tr>\n",
       "    <tr>\n",
       "      <th>3</th>\n",
       "      <td>human fall flat</td>\n",
       "      <td>$14.99</td>\n",
       "    </tr>\n",
       "    <tr>\n",
       "      <th>4</th>\n",
       "      <td>they are billions</td>\n",
       "      <td>$29.99</td>\n",
       "    </tr>\n",
       "    <tr>\n",
       "      <th>...</th>\n",
       "      <td>...</td>\n",
       "      <td>...</td>\n",
       "    </tr>\n",
       "    <tr>\n",
       "      <th>135</th>\n",
       "      <td>atlas</td>\n",
       "      <td>$29.99</td>\n",
       "    </tr>\n",
       "    <tr>\n",
       "      <th>136</th>\n",
       "      <td>metro exodus</td>\n",
       "      <td>$24.99</td>\n",
       "    </tr>\n",
       "    <tr>\n",
       "      <th>137</th>\n",
       "      <td>transport fever 2</td>\n",
       "      <td>$38.99</td>\n",
       "    </tr>\n",
       "    <tr>\n",
       "      <th>138</th>\n",
       "      <td>halo the master chief collection</td>\n",
       "      <td>$49.99</td>\n",
       "    </tr>\n",
       "    <tr>\n",
       "      <th>139</th>\n",
       "      <td>efootball pes 2020</td>\n",
       "      <td>$59.99</td>\n",
       "    </tr>\n",
       "  </tbody>\n",
       "</table>\n",
       "<p>140 rows × 2 columns</p>\n",
       "</div>"
      ],
      "text/plain": [
       "                                title original_price\n",
       "0       playerunknown s battlegrounds         $29.99\n",
       "1                          battletech         $39.99\n",
       "2                                dayz         $44.99\n",
       "3                     human fall flat         $14.99\n",
       "4                   they are billions         $29.99\n",
       "..                                ...            ...\n",
       "135                             atlas         $29.99\n",
       "136                      metro exodus         $24.99\n",
       "137                 transport fever 2         $38.99\n",
       "138  halo the master chief collection         $49.99\n",
       "139                efootball pes 2020         $59.99\n",
       "\n",
       "[140 rows x 2 columns]"
      ]
     },
     "execution_count": 8,
     "metadata": {},
     "output_type": "execute_result"
    }
   ],
   "source": [
    "steamGames_price = steamGames[['title', 'original_price']]\n",
    "steamCombinedReviews_Title = steamCombinedReviews[['title']]\n",
    "matchTitle1 = steamGames_price.title.isin(steamCombinedReviews_Title.title)\n",
    "steamMatchTitle1 = steamGames_price[matchTitle1]\n",
    "\n",
    "steamUniqueTitle1 = steamMatchTitle1.drop_duplicates(['title'])\n",
    "steamUniqueTitle1 = steamUniqueTitle1.reset_index(drop=True)\n",
    "\n",
    "steamUniqueTitle1\n",
    "nan_value = float(\"NaN\")\n",
    "steamUniqueTitle1.replace(\"\", nan_value, inplace=True)\n",
    "steamUniqueTitle1\n"
   ]
  },
  {
   "cell_type": "code",
   "execution_count": 9,
   "id": "673c866c",
   "metadata": {},
   "outputs": [],
   "source": [
    "#plot y(no. of review) against x(price)\n",
    "\n",
    "#count number of reviews for each game (clean data)\n",
    "\n",
    "\n",
    "steamGames_titles = steamGames[['title']]\n",
    "steamCombinedReviews_Title = steamCombinedReviews[['title']]\n",
    "matchTitle2 = steamGames_titles.title.isin(steamCombinedReviews_Title.title)\n",
    "steamMatchTitle2 = steamGames_titles[matchTitle2]\n"
   ]
  },
  {
   "cell_type": "code",
   "execution_count": 10,
   "id": "28b79f77",
   "metadata": {},
   "outputs": [
    {
     "name": "stdout",
     "output_type": "stream",
     "text": [
      "Number of times a user did not play a game they owned: 20905\n"
     ]
    }
   ],
   "source": [
    "\n",
    "steamData_playtime = steamData[['name', 'average_playtime']]\n",
    "steamData_playtime\n",
    "print(\"Number of times a user did not play a game they owned:\", \n",
    "      len(steamData_playtime[steamData_playtime['average_playtime'] == 0]))\n",
    "#shows that many players do not actually even start a game that they actually own\n"
   ]
  },
  {
   "cell_type": "code",
   "execution_count": 40,
   "id": "ee0fe9f2",
   "metadata": {},
   "outputs": [
    {
     "name": "stdout",
     "output_type": "stream",
     "text": [
      "<class 'pandas.core.frame.DataFrame'>\n",
      "Int64Index: 27075 entries, 0 to 27074\n",
      "Data columns (total 2 columns):\n",
      " #   Column            Non-Null Count  Dtype \n",
      "---  ------            --------------  ----- \n",
      " 0   name              27075 non-null  object\n",
      " 1   average_playtime  27075 non-null  int64 \n",
      "dtypes: int64(1), object(1)\n",
      "memory usage: 634.6+ KB\n"
     ]
    },
    {
     "name": "stderr",
     "output_type": "stream",
     "text": [
      "<ipython-input-40-279b3cbf9f43>:3: SettingWithCopyWarning: \n",
      "A value is trying to be set on a copy of a slice from a DataFrame\n",
      "\n",
      "See the caveats in the documentation: https://pandas.pydata.org/pandas-docs/stable/user_guide/indexing.html#returning-a-view-versus-a-copy\n",
      "  steamData_playtime.dropna(subset = [\"average_playtime\"], inplace=True)\n"
     ]
    }
   ],
   "source": [
    "steamData_playtime[steamData_playtime!= 0]\n",
    "steamData_playtime.replace({'0':np.nan, 0:np.nan})\n",
    "steamData_playtime.dropna(subset = [\"average_playtime\"], inplace=True)"
   ]
  },
  {
   "cell_type": "code",
   "execution_count": 34,
   "id": "c95f3617",
   "metadata": {},
   "outputs": [
    {
     "data": {
      "text/html": [
       "<div>\n",
       "<style scoped>\n",
       "    .dataframe tbody tr th:only-of-type {\n",
       "        vertical-align: middle;\n",
       "    }\n",
       "\n",
       "    .dataframe tbody tr th {\n",
       "        vertical-align: top;\n",
       "    }\n",
       "\n",
       "    .dataframe thead th {\n",
       "        text-align: right;\n",
       "    }\n",
       "</style>\n",
       "<table border=\"1\" class=\"dataframe\">\n",
       "  <thead>\n",
       "    <tr style=\"text-align: right;\">\n",
       "      <th></th>\n",
       "      <th>name</th>\n",
       "      <th>average_playtime</th>\n",
       "    </tr>\n",
       "  </thead>\n",
       "  <tbody>\n",
       "    <tr>\n",
       "      <th>0</th>\n",
       "      <td>Counter-Strike</td>\n",
       "      <td>17612</td>\n",
       "    </tr>\n",
       "    <tr>\n",
       "      <th>1</th>\n",
       "      <td>Team Fortress Classic</td>\n",
       "      <td>277</td>\n",
       "    </tr>\n",
       "    <tr>\n",
       "      <th>2</th>\n",
       "      <td>Day of Defeat</td>\n",
       "      <td>187</td>\n",
       "    </tr>\n",
       "    <tr>\n",
       "      <th>3</th>\n",
       "      <td>Deathmatch Classic</td>\n",
       "      <td>258</td>\n",
       "    </tr>\n",
       "    <tr>\n",
       "      <th>4</th>\n",
       "      <td>Half-Life: Opposing Force</td>\n",
       "      <td>624</td>\n",
       "    </tr>\n",
       "    <tr>\n",
       "      <th>...</th>\n",
       "      <td>...</td>\n",
       "      <td>...</td>\n",
       "    </tr>\n",
       "    <tr>\n",
       "      <th>27070</th>\n",
       "      <td>Room of Pandora</td>\n",
       "      <td>0</td>\n",
       "    </tr>\n",
       "    <tr>\n",
       "      <th>27071</th>\n",
       "      <td>Cyber Gun</td>\n",
       "      <td>0</td>\n",
       "    </tr>\n",
       "    <tr>\n",
       "      <th>27072</th>\n",
       "      <td>Super Star Blast</td>\n",
       "      <td>0</td>\n",
       "    </tr>\n",
       "    <tr>\n",
       "      <th>27073</th>\n",
       "      <td>New Yankee 7: Deer Hunters</td>\n",
       "      <td>0</td>\n",
       "    </tr>\n",
       "    <tr>\n",
       "      <th>27074</th>\n",
       "      <td>Rune Lord</td>\n",
       "      <td>0</td>\n",
       "    </tr>\n",
       "  </tbody>\n",
       "</table>\n",
       "<p>27075 rows × 2 columns</p>\n",
       "</div>"
      ],
      "text/plain": [
       "                             name  average_playtime\n",
       "0                  Counter-Strike             17612\n",
       "1           Team Fortress Classic               277\n",
       "2                   Day of Defeat               187\n",
       "3              Deathmatch Classic               258\n",
       "4       Half-Life: Opposing Force               624\n",
       "...                           ...               ...\n",
       "27070             Room of Pandora                 0\n",
       "27071                   Cyber Gun                 0\n",
       "27072            Super Star Blast                 0\n",
       "27073  New Yankee 7: Deer Hunters                 0\n",
       "27074                   Rune Lord                 0\n",
       "\n",
       "[27075 rows x 2 columns]"
      ]
     },
     "execution_count": 34,
     "metadata": {},
     "output_type": "execute_result"
    }
   ],
   "source": []
  },
  {
   "cell_type": "code",
   "execution_count": null,
   "id": "cc410dfc",
   "metadata": {},
   "outputs": [],
   "source": []
  },
  {
   "cell_type": "code",
   "execution_count": null,
   "id": "b2621ac3",
   "metadata": {},
   "outputs": [],
   "source": []
  },
  {
   "cell_type": "code",
   "execution_count": null,
   "id": "7d89baf6",
   "metadata": {},
   "outputs": [],
   "source": [
    "#sorting games by average minutes of playtime per game when reviewing"
   ]
  }
 ],
 "metadata": {
  "kernelspec": {
   "display_name": "Python 3",
   "language": "python",
   "name": "python3"
  },
  "language_info": {
   "codemirror_mode": {
    "name": "ipython",
    "version": 3
   },
   "file_extension": ".py",
   "mimetype": "text/x-python",
   "name": "python",
   "nbconvert_exporter": "python",
   "pygments_lexer": "ipython3",
   "version": "3.8.8"
  }
 },
 "nbformat": 4,
 "nbformat_minor": 5
}
