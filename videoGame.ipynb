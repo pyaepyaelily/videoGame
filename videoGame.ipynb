{
 "cells": [
  {
   "cell_type": "markdown",
   "id": "7792f2c2",
   "metadata": {},
   "source": [
    "### Libraries"
   ]
  },
  {
   "cell_type": "code",
   "execution_count": 1,
   "id": "57adff21",
   "metadata": {},
   "outputs": [],
   "source": [
    "import glob\n",
    "import os\n",
    "import numpy as np\n",
    "import pandas as pd\n",
    "import seaborn as sb\n",
    "import matplotlib.pyplot as plt # we only need pyplot\n",
    "import texthero as hero\n",
    "from texthero import preprocessing\n",
    "sb.set() # set the default Seaborn style for graphics"
   ]
  },
  {
   "cell_type": "markdown",
   "id": "8a01b895",
   "metadata": {},
   "source": [
    "### Chunking CSV to upload onto GitHub"
   ]
  },
  {
   "cell_type": "markdown",
   "id": "4c622cd1",
   "metadata": {},
   "source": [
    "import pandas as pd\n",
    "\n",
    "chunk_size = 55000\n",
    "batch_no = 1\n",
    "\n",
    "for chunk in pd.read_csv('221100_DayZ.csv', chunksize=chunk_size):\n",
    "    #chunk.to_csv('221100_DayZ' + str(batch_no) + '.csv', index=False)\n",
    "    #batch_no +=1"
   ]
  },
  {
   "cell_type": "markdown",
   "id": "06c1ffed",
   "metadata": {},
   "source": [
    "### Dataset"
   ]
  },
  {
   "cell_type": "code",
   "execution_count": 2,
   "id": "73fac1a9",
   "metadata": {},
   "outputs": [
    {
     "name": "stderr",
     "output_type": "stream",
     "text": [
      "C:\\Users\\Pyae Pyae\\anaconda3\\lib\\site-packages\\IPython\\core\\interactiveshell.py:3437: DtypeWarning: Columns (23) have mixed types.Specify dtype option on import or set low_memory=False.\n",
      "  exec(code_obj, self.user_global_ns, self.user_ns)\n",
      "C:\\Users\\Pyae Pyae\\anaconda3\\lib\\site-packages\\IPython\\core\\interactiveshell.py:3437: DtypeWarning: Columns (1,23) have mixed types.Specify dtype option on import or set low_memory=False.\n",
      "  exec(code_obj, self.user_global_ns, self.user_ns)\n",
      "C:\\Users\\Pyae Pyae\\anaconda3\\lib\\site-packages\\IPython\\core\\interactiveshell.py:3357: DtypeWarning: Columns (2) have mixed types.Specify dtype option on import or set low_memory=False.\n",
      "  if (await self.run_code(code, result,  async_=asy)):\n",
      "C:\\Users\\Pyae Pyae\\anaconda3\\lib\\site-packages\\IPython\\core\\interactiveshell.py:3357: DtypeWarning: Columns (23) have mixed types.Specify dtype option on import or set low_memory=False.\n",
      "  if (await self.run_code(code, result,  async_=asy)):\n"
     ]
    }
   ],
   "source": [
    "steamData = pd.read_csv('steam_data/steam.csv')\n",
    "steamSupportInfo = pd.read_csv('steam_data/steam_support_info.csv')\n",
    "steamChart = pd.read_csv('steam_data/steamCharts.csv')\n",
    "steamSpyTagData = pd.read_csv('steam_data/steamspy_tag_data.csv')\n",
    "steamGames = pd.concat(map(pd.read_csv, glob.glob(os.path.join('', \"steam_data/steam_games/steam_games*.csv\"))))\n",
    "steamMediaData = pd.concat(map(pd.read_csv, glob.glob(os.path.join('', \"steam_data/steam_media_data/steam_media_data*.csv\"))))\n",
    "steamRequirements = pd.concat(map(pd.read_csv, glob.glob(os.path.join('', \"steam_data/steam_requirements/steam_requirements*.csv\"))))\n",
    "steamDescription = pd.concat(map(pd.read_csv, glob.glob(os.path.join('', \"steam_data/steam_description/steam_description*.csv\"))))\n",
    "\n",
    "#game reviews\n",
    "steam_HalfOfTheGameReviews = pd.concat(map(pd.read_csv, glob.glob(os.path.join('', \"steam_data/steam_reviews/steam_review_*.csv\"))))\n",
    "files = glob.glob(\"steam_data/steam_reviews\" + '**/**' + \"/*.csv\")\n",
    "steamReviews_fromFolder = pd.concat([pd.read_csv(f) for f in files ])\n",
    "steamReviewsDF = [steam_HalfOfTheGameReviews, steamReviews_fromFolder]\n",
    "steamCombinedReviews = pd.concat(steamReviewsDF)"
   ]
  },
  {
   "cell_type": "markdown",
   "id": "cbd1e37d",
   "metadata": {},
   "source": [
    "### Cleaning the Dataset"
   ]
  },
  {
   "cell_type": "code",
   "execution_count": 3,
   "id": "faaa72a8",
   "metadata": {},
   "outputs": [],
   "source": [
    "#rename for easier identification\n",
    "steamGames = steamGames.rename(columns={\"name\": \"title\"})\n",
    "\n",
    "#create a custom cleaning pipeline\n",
    "custom_pipeline = [preprocessing.fillna\n",
    "                   , preprocessing.lowercase\n",
    "                   , preprocessing.remove_punctuation\n",
    "                   , preprocessing.remove_diacritics\n",
    "                   , preprocessing.remove_whitespace]\n",
    "\n",
    "steamCombinedReviews['title'] = hero.clean(steamCombinedReviews['title'], pipeline = custom_pipeline)\n",
    "steamGames['title'] = hero.clean(steamGames['title'], pipeline = custom_pipeline)"
   ]
  },
  {
   "cell_type": "markdown",
   "id": "7852453e",
   "metadata": {},
   "source": [
    "##### Getting title and genre"
   ]
  },
  {
   "cell_type": "code",
   "execution_count": 4,
   "id": "ac9b28c2",
   "metadata": {},
   "outputs": [],
   "source": [
    "#getting title and genre from steamGames df\n",
    "steamGames_Title_Genre = steamGames[['title', 'genre']]\n",
    "\n",
    "#getting title and review from steamCombinedReviews df\n",
    "steamCombinedReviews_Title_Reviews = steamCombinedReviews[['title', 'review']]"
   ]
  },
  {
   "cell_type": "markdown",
   "id": "a7bcf4fc",
   "metadata": {},
   "source": [
    "##### matching title in steamGames with steamCombinedReview"
   ]
  },
  {
   "cell_type": "code",
   "execution_count": 6,
   "id": "35ed8eae",
   "metadata": {},
   "outputs": [],
   "source": [
    "matchTitle = steamGames_Title_Genre.title.isin(steamCombinedReviews_Title_Reviews.title)\n",
    "#matchTitle = steamCombinedReviews.title.isin(steamGames.title)\n",
    "#matchTitle\n",
    "steamMatchTitle = steamGames_Title_Genre[matchTitle]"
   ]
  },
  {
   "cell_type": "markdown",
   "id": "d95acc20",
   "metadata": {},
   "source": [
    "##### dropping duplicate values"
   ]
  },
  {
   "cell_type": "code",
   "execution_count": 13,
   "id": "82759861",
   "metadata": {},
   "outputs": [
    {
     "data": {
      "text/html": [
       "<div>\n",
       "<style scoped>\n",
       "    .dataframe tbody tr th:only-of-type {\n",
       "        vertical-align: middle;\n",
       "    }\n",
       "\n",
       "    .dataframe tbody tr th {\n",
       "        vertical-align: top;\n",
       "    }\n",
       "\n",
       "    .dataframe thead th {\n",
       "        text-align: right;\n",
       "    }\n",
       "</style>\n",
       "<table border=\"1\" class=\"dataframe\">\n",
       "  <thead>\n",
       "    <tr style=\"text-align: right;\">\n",
       "      <th></th>\n",
       "      <th>title</th>\n",
       "      <th>genre</th>\n",
       "    </tr>\n",
       "  </thead>\n",
       "  <tbody>\n",
       "    <tr>\n",
       "      <th>1</th>\n",
       "      <td>playerunknown s battlegrounds</td>\n",
       "      <td>Action,Adventure,Massively Multiplayer</td>\n",
       "    </tr>\n",
       "    <tr>\n",
       "      <th>2</th>\n",
       "      <td>battletech</td>\n",
       "      <td>Action,Adventure,Strategy</td>\n",
       "    </tr>\n",
       "    <tr>\n",
       "      <th>7</th>\n",
       "      <td>human fall flat</td>\n",
       "      <td>Adventure,Indie</td>\n",
       "    </tr>\n",
       "    <tr>\n",
       "      <th>8</th>\n",
       "      <td>they are billions</td>\n",
       "      <td>Strategy,Early Access</td>\n",
       "    </tr>\n",
       "    <tr>\n",
       "      <th>42</th>\n",
       "      <td>counter strike source</td>\n",
       "      <td>Action</td>\n",
       "    </tr>\n",
       "    <tr>\n",
       "      <th>...</th>\n",
       "      <td>...</td>\n",
       "      <td>...</td>\n",
       "    </tr>\n",
       "    <tr>\n",
       "      <th>1596</th>\n",
       "      <td>atlas</td>\n",
       "      <td>Action,Adventure,Massively Multiplayer,RPG,Ear...</td>\n",
       "    </tr>\n",
       "    <tr>\n",
       "      <th>1971</th>\n",
       "      <td>metro exodus</td>\n",
       "      <td>Action</td>\n",
       "    </tr>\n",
       "    <tr>\n",
       "      <th>9343</th>\n",
       "      <td>transport fever 2</td>\n",
       "      <td>Simulation,Strategy</td>\n",
       "    </tr>\n",
       "    <tr>\n",
       "      <th>9790</th>\n",
       "      <td>halo the master chief collection</td>\n",
       "      <td>Action</td>\n",
       "    </tr>\n",
       "    <tr>\n",
       "      <th>777</th>\n",
       "      <td>efootball pes 2020</td>\n",
       "      <td>Sports</td>\n",
       "    </tr>\n",
       "  </tbody>\n",
       "</table>\n",
       "<p>131 rows × 2 columns</p>\n",
       "</div>"
      ],
      "text/plain": [
       "                                 title  \\\n",
       "1        playerunknown s battlegrounds   \n",
       "2                           battletech   \n",
       "7                      human fall flat   \n",
       "8                    they are billions   \n",
       "42               counter strike source   \n",
       "...                                ...   \n",
       "1596                             atlas   \n",
       "1971                      metro exodus   \n",
       "9343                 transport fever 2   \n",
       "9790  halo the master chief collection   \n",
       "777                 efootball pes 2020   \n",
       "\n",
       "                                                  genre  \n",
       "1                Action,Adventure,Massively Multiplayer  \n",
       "2                             Action,Adventure,Strategy  \n",
       "7                                       Adventure,Indie  \n",
       "8                                 Strategy,Early Access  \n",
       "42                                               Action  \n",
       "...                                                 ...  \n",
       "1596  Action,Adventure,Massively Multiplayer,RPG,Ear...  \n",
       "1971                                             Action  \n",
       "9343                                Simulation,Strategy  \n",
       "9790                                             Action  \n",
       "777                                              Sports  \n",
       "\n",
       "[131 rows x 2 columns]"
      ]
     },
     "execution_count": 13,
     "metadata": {},
     "output_type": "execute_result"
    }
   ],
   "source": [
    "steamUniqueTitle = steamMatchTitle.drop_duplicates(['title'])\n",
    "steamUniqueTitle"
   ]
  },
  {
   "cell_type": "markdown",
   "id": "41c9498e",
   "metadata": {},
   "source": [
    "##### Remove Early Acess, Massively Multiplayer and Free to Play values"
   ]
  },
  {
   "cell_type": "code",
   "execution_count": 14,
   "id": "c34b2549",
   "metadata": {},
   "outputs": [
    {
     "name": "stderr",
     "output_type": "stream",
     "text": [
      "<ipython-input-14-74eb24daa0d3>:2: FutureWarning: The default value of regex will change from True to False in a future version.\n",
      "  steamUniqueTitle['genre'] = steamUniqueTitle.genre.str.replace(',Early Access?' , '')\n",
      "<ipython-input-14-74eb24daa0d3>:2: SettingWithCopyWarning: \n",
      "A value is trying to be set on a copy of a slice from a DataFrame.\n",
      "Try using .loc[row_indexer,col_indexer] = value instead\n",
      "\n",
      "See the caveats in the documentation: https://pandas.pydata.org/pandas-docs/stable/user_guide/indexing.html#returning-a-view-versus-a-copy\n",
      "  steamUniqueTitle['genre'] = steamUniqueTitle.genre.str.replace(',Early Access?' , '')\n",
      "<ipython-input-14-74eb24daa0d3>:3: FutureWarning: The default value of regex will change from True to False in a future version.\n",
      "  steamUniqueTitle['genre'] = steamUniqueTitle.genre.str.replace(',Massively Multiplayer?' , '')\n",
      "<ipython-input-14-74eb24daa0d3>:3: SettingWithCopyWarning: \n",
      "A value is trying to be set on a copy of a slice from a DataFrame.\n",
      "Try using .loc[row_indexer,col_indexer] = value instead\n",
      "\n",
      "See the caveats in the documentation: https://pandas.pydata.org/pandas-docs/stable/user_guide/indexing.html#returning-a-view-versus-a-copy\n",
      "  steamUniqueTitle['genre'] = steamUniqueTitle.genre.str.replace(',Massively Multiplayer?' , '')\n",
      "<ipython-input-14-74eb24daa0d3>:4: FutureWarning: The default value of regex will change from True to False in a future version.\n",
      "  steamUniqueTitle['genre'] = steamUniqueTitle.genre.str.replace(',Free to Play?' , '')\n",
      "<ipython-input-14-74eb24daa0d3>:4: SettingWithCopyWarning: \n",
      "A value is trying to be set on a copy of a slice from a DataFrame.\n",
      "Try using .loc[row_indexer,col_indexer] = value instead\n",
      "\n",
      "See the caveats in the documentation: https://pandas.pydata.org/pandas-docs/stable/user_guide/indexing.html#returning-a-view-versus-a-copy\n",
      "  steamUniqueTitle['genre'] = steamUniqueTitle.genre.str.replace(',Free to Play?' , '')\n"
     ]
    }
   ],
   "source": [
    "steamUniqueTitle['genre'] = steamUniqueTitle.genre.str.replace(',Early Access?' , '')\n",
    "steamUniqueTitle['genre'] = steamUniqueTitle.genre.str.replace(',Massively Multiplayer?' , '')\n",
    "steamUniqueTitle['genre'] = steamUniqueTitle.genre.str.replace(',Free to Play?' , '')"
   ]
  },
  {
   "cell_type": "code",
   "execution_count": 18,
   "id": "47a806ba",
   "metadata": {},
   "outputs": [
    {
     "name": "stderr",
     "output_type": "stream",
     "text": [
      "C:\\Users\\Pyae Pyae\\anaconda3\\lib\\site-packages\\pandas\\core\\frame.py:3191: SettingWithCopyWarning: \n",
      "A value is trying to be set on a copy of a slice from a DataFrame.\n",
      "Try using .loc[row_indexer,col_indexer] = value instead\n",
      "\n",
      "See the caveats in the documentation: https://pandas.pydata.org/pandas-docs/stable/user_guide/indexing.html#returning-a-view-versus-a-copy\n",
      "  self[k1] = value[k2]\n"
     ]
    }
   ],
   "source": [
    "steamUniqueTitle[['genre1', 'genre2', 'genre3','genre4','genre5','genre6']] = steamUniqueTitle['genre'].str.split(',', expand=True)"
   ]
  },
  {
   "cell_type": "code",
   "execution_count": 19,
   "id": "07cd0c50",
   "metadata": {},
   "outputs": [
    {
     "data": {
      "text/html": [
       "<div>\n",
       "<style scoped>\n",
       "    .dataframe tbody tr th:only-of-type {\n",
       "        vertical-align: middle;\n",
       "    }\n",
       "\n",
       "    .dataframe tbody tr th {\n",
       "        vertical-align: top;\n",
       "    }\n",
       "\n",
       "    .dataframe thead th {\n",
       "        text-align: right;\n",
       "    }\n",
       "</style>\n",
       "<table border=\"1\" class=\"dataframe\">\n",
       "  <thead>\n",
       "    <tr style=\"text-align: right;\">\n",
       "      <th></th>\n",
       "      <th>title</th>\n",
       "      <th>genre</th>\n",
       "      <th>genre1</th>\n",
       "      <th>genre2</th>\n",
       "      <th>genre3</th>\n",
       "      <th>genre4</th>\n",
       "      <th>genre5</th>\n",
       "      <th>genre6</th>\n",
       "    </tr>\n",
       "  </thead>\n",
       "  <tbody>\n",
       "    <tr>\n",
       "      <th>1</th>\n",
       "      <td>playerunknown s battlegrounds</td>\n",
       "      <td>Action,Adventure</td>\n",
       "      <td>Action</td>\n",
       "      <td>Adventure</td>\n",
       "      <td>None</td>\n",
       "      <td>None</td>\n",
       "      <td>None</td>\n",
       "      <td>None</td>\n",
       "    </tr>\n",
       "    <tr>\n",
       "      <th>2</th>\n",
       "      <td>battletech</td>\n",
       "      <td>Action,Adventure,Strategy</td>\n",
       "      <td>Action</td>\n",
       "      <td>Adventure</td>\n",
       "      <td>Strategy</td>\n",
       "      <td>None</td>\n",
       "      <td>None</td>\n",
       "      <td>None</td>\n",
       "    </tr>\n",
       "    <tr>\n",
       "      <th>7</th>\n",
       "      <td>human fall flat</td>\n",
       "      <td>Adventure,Indie</td>\n",
       "      <td>Adventure</td>\n",
       "      <td>Indie</td>\n",
       "      <td>None</td>\n",
       "      <td>None</td>\n",
       "      <td>None</td>\n",
       "      <td>None</td>\n",
       "    </tr>\n",
       "    <tr>\n",
       "      <th>8</th>\n",
       "      <td>they are billions</td>\n",
       "      <td>Strategy</td>\n",
       "      <td>Strategy</td>\n",
       "      <td>None</td>\n",
       "      <td>None</td>\n",
       "      <td>None</td>\n",
       "      <td>None</td>\n",
       "      <td>None</td>\n",
       "    </tr>\n",
       "    <tr>\n",
       "      <th>42</th>\n",
       "      <td>counter strike source</td>\n",
       "      <td>Action</td>\n",
       "      <td>Action</td>\n",
       "      <td>None</td>\n",
       "      <td>None</td>\n",
       "      <td>None</td>\n",
       "      <td>None</td>\n",
       "      <td>None</td>\n",
       "    </tr>\n",
       "    <tr>\n",
       "      <th>...</th>\n",
       "      <td>...</td>\n",
       "      <td>...</td>\n",
       "      <td>...</td>\n",
       "      <td>...</td>\n",
       "      <td>...</td>\n",
       "      <td>...</td>\n",
       "      <td>...</td>\n",
       "      <td>...</td>\n",
       "    </tr>\n",
       "    <tr>\n",
       "      <th>1596</th>\n",
       "      <td>atlas</td>\n",
       "      <td>Action,Adventure,RPG</td>\n",
       "      <td>Action</td>\n",
       "      <td>Adventure</td>\n",
       "      <td>RPG</td>\n",
       "      <td>None</td>\n",
       "      <td>None</td>\n",
       "      <td>None</td>\n",
       "    </tr>\n",
       "    <tr>\n",
       "      <th>1971</th>\n",
       "      <td>metro exodus</td>\n",
       "      <td>Action</td>\n",
       "      <td>Action</td>\n",
       "      <td>None</td>\n",
       "      <td>None</td>\n",
       "      <td>None</td>\n",
       "      <td>None</td>\n",
       "      <td>None</td>\n",
       "    </tr>\n",
       "    <tr>\n",
       "      <th>9343</th>\n",
       "      <td>transport fever 2</td>\n",
       "      <td>Simulation,Strategy</td>\n",
       "      <td>Simulation</td>\n",
       "      <td>Strategy</td>\n",
       "      <td>None</td>\n",
       "      <td>None</td>\n",
       "      <td>None</td>\n",
       "      <td>None</td>\n",
       "    </tr>\n",
       "    <tr>\n",
       "      <th>9790</th>\n",
       "      <td>halo the master chief collection</td>\n",
       "      <td>Action</td>\n",
       "      <td>Action</td>\n",
       "      <td>None</td>\n",
       "      <td>None</td>\n",
       "      <td>None</td>\n",
       "      <td>None</td>\n",
       "      <td>None</td>\n",
       "    </tr>\n",
       "    <tr>\n",
       "      <th>777</th>\n",
       "      <td>efootball pes 2020</td>\n",
       "      <td>Sports</td>\n",
       "      <td>Sports</td>\n",
       "      <td>None</td>\n",
       "      <td>None</td>\n",
       "      <td>None</td>\n",
       "      <td>None</td>\n",
       "      <td>None</td>\n",
       "    </tr>\n",
       "  </tbody>\n",
       "</table>\n",
       "<p>131 rows × 8 columns</p>\n",
       "</div>"
      ],
      "text/plain": [
       "                                 title                      genre      genre1  \\\n",
       "1        playerunknown s battlegrounds           Action,Adventure      Action   \n",
       "2                           battletech  Action,Adventure,Strategy      Action   \n",
       "7                      human fall flat            Adventure,Indie   Adventure   \n",
       "8                    they are billions                   Strategy    Strategy   \n",
       "42               counter strike source                     Action      Action   \n",
       "...                                ...                        ...         ...   \n",
       "1596                             atlas       Action,Adventure,RPG      Action   \n",
       "1971                      metro exodus                     Action      Action   \n",
       "9343                 transport fever 2        Simulation,Strategy  Simulation   \n",
       "9790  halo the master chief collection                     Action      Action   \n",
       "777                 efootball pes 2020                     Sports      Sports   \n",
       "\n",
       "         genre2    genre3 genre4 genre5 genre6  \n",
       "1     Adventure      None   None   None   None  \n",
       "2     Adventure  Strategy   None   None   None  \n",
       "7         Indie      None   None   None   None  \n",
       "8          None      None   None   None   None  \n",
       "42         None      None   None   None   None  \n",
       "...         ...       ...    ...    ...    ...  \n",
       "1596  Adventure       RPG   None   None   None  \n",
       "1971       None      None   None   None   None  \n",
       "9343   Strategy      None   None   None   None  \n",
       "9790       None      None   None   None   None  \n",
       "777        None      None   None   None   None  \n",
       "\n",
       "[131 rows x 8 columns]"
      ]
     },
     "execution_count": 19,
     "metadata": {},
     "output_type": "execute_result"
    }
   ],
   "source": [
    "steamUniqueTitle"
   ]
  },
  {
   "cell_type": "code",
   "execution_count": 20,
   "id": "50ce30de",
   "metadata": {},
   "outputs": [],
   "source": [
    "#steamUniqueTitle.to_excel(\"output.xlsx\")  "
   ]
  }
 ],
 "metadata": {
  "kernelspec": {
   "display_name": "Python 3",
   "language": "python",
   "name": "python3"
  },
  "language_info": {
   "codemirror_mode": {
    "name": "ipython",
    "version": 3
   },
   "file_extension": ".py",
   "mimetype": "text/x-python",
   "name": "python",
   "nbconvert_exporter": "python",
   "pygments_lexer": "ipython3",
   "version": "3.8.8"
  }
 },
 "nbformat": 4,
 "nbformat_minor": 5
}
