{
 "cells": [
  {
   "cell_type": "markdown",
   "id": "7792f2c2",
   "metadata": {},
   "source": [
    "### Libraries"
   ]
  },
  {
   "cell_type": "code",
   "execution_count": 54,
   "id": "57adff21",
   "metadata": {},
   "outputs": [],
   "source": [
    "import glob\n",
    "import os\n",
    "import numpy as np\n",
    "import pandas as pd\n",
    "import seaborn as sb\n",
    "import matplotlib.pyplot as plt # we only need pyplot\n",
    "import texthero as hero\n",
    "from texthero import preprocessing\n",
    "sb.set() # set the default Seaborn style for graphics\n",
    "from matplotlib.ticker import FuncFormatter, MaxNLocator\n",
    "import matplotlib.dates as mdates"
   ]
  },
  {
   "cell_type": "markdown",
   "id": "8a01b895",
   "metadata": {},
   "source": [
    "### Chunking CSV to upload onto GitHub"
   ]
  },
  {
   "cell_type": "markdown",
   "id": "4c622cd1",
   "metadata": {},
   "source": [
    "import pandas as pd\n",
    "\n",
    "chunk_size = 55000\n",
    "batch_no = 1\n",
    "\n",
    "for chunk in pd.read_csv('221100_DayZ.csv', chunksize=chunk_size):\n",
    "    #chunk.to_csv('221100_DayZ' + str(batch_no) + '.csv', index=False)\n",
    "    #batch_no +=1"
   ]
  },
  {
   "cell_type": "markdown",
   "id": "06c1ffed",
   "metadata": {},
   "source": [
    "### Dataset"
   ]
  },
  {
   "cell_type": "code",
   "execution_count": 2,
   "id": "73fac1a9",
   "metadata": {},
   "outputs": [
    {
     "name": "stderr",
     "output_type": "stream",
     "text": [
      "C:\\Users\\Pyae Pyae\\anaconda3\\lib\\site-packages\\IPython\\core\\interactiveshell.py:3437: DtypeWarning: Columns (23) have mixed types.Specify dtype option on import or set low_memory=False.\n",
      "  exec(code_obj, self.user_global_ns, self.user_ns)\n",
      "C:\\Users\\Pyae Pyae\\anaconda3\\lib\\site-packages\\IPython\\core\\interactiveshell.py:3437: DtypeWarning: Columns (1,23) have mixed types.Specify dtype option on import or set low_memory=False.\n",
      "  exec(code_obj, self.user_global_ns, self.user_ns)\n",
      "C:\\Users\\Pyae Pyae\\anaconda3\\lib\\site-packages\\IPython\\core\\interactiveshell.py:3357: DtypeWarning: Columns (2) have mixed types.Specify dtype option on import or set low_memory=False.\n",
      "  if (await self.run_code(code, result,  async_=asy)):\n",
      "C:\\Users\\Pyae Pyae\\anaconda3\\lib\\site-packages\\IPython\\core\\interactiveshell.py:3357: DtypeWarning: Columns (23) have mixed types.Specify dtype option on import or set low_memory=False.\n",
      "  if (await self.run_code(code, result,  async_=asy)):\n"
     ]
    }
   ],
   "source": [
    "steamData = pd.read_csv('steam_data/steam.csv')\n",
    "steamSupportInfo = pd.read_csv('steam_data/steam_support_info.csv')\n",
    "steamChart = pd.read_csv('steam_data/steamCharts.csv')\n",
    "steamSpyTagData = pd.read_csv('steam_data/steamspy_tag_data.csv')\n",
    "steamGames = pd.concat(map(pd.read_csv, glob.glob(os.path.join('', \"steam_data/steam_games/steam_games*.csv\"))))\n",
    "steamMediaData = pd.concat(map(pd.read_csv, glob.glob(os.path.join('', \"steam_data/steam_media_data/steam_media_data*.csv\"))))\n",
    "steamRequirements = pd.concat(map(pd.read_csv, glob.glob(os.path.join('', \"steam_data/steam_requirements/steam_requirements*.csv\"))))\n",
    "steamDescription = pd.concat(map(pd.read_csv, glob.glob(os.path.join('', \"steam_data/steam_description/steam_description*.csv\"))))\n",
    "\n",
    "#game reviews\n",
    "steam_HalfOfTheGameReviews = pd.concat(map(pd.read_csv, glob.glob(os.path.join('', \"steam_data/steam_reviews/steam_review_*.csv\"))))\n",
    "files = glob.glob(\"steam_data/steam_reviews\" + '**/**' + \"/*.csv\")\n",
    "steamReviews_fromFolder = pd.concat([pd.read_csv(f) for f in files ])\n",
    "steamReviewsDF = [steam_HalfOfTheGameReviews, steamReviews_fromFolder]\n",
    "steamCombinedReviews = pd.concat(steamReviewsDF)"
   ]
  },
  {
   "cell_type": "markdown",
   "id": "cbd1e37d",
   "metadata": {},
   "source": [
    "### Cleaning the Dataset"
   ]
  },
  {
   "cell_type": "code",
   "execution_count": 3,
   "id": "faaa72a8",
   "metadata": {},
   "outputs": [],
   "source": [
    "#rename for easier identification\n",
    "steamGames = steamGames.rename(columns={\"name\": \"title\"})\n",
    "\n",
    "#create a custom cleaning pipeline\n",
    "custom_pipeline = [preprocessing.fillna\n",
    "                   , preprocessing.lowercase\n",
    "                   , preprocessing.remove_punctuation\n",
    "                   , preprocessing.remove_diacritics\n",
    "                   , preprocessing.remove_whitespace]\n",
    "\n",
    "steamCombinedReviews['title'] = hero.clean(steamCombinedReviews['title'], pipeline = custom_pipeline)\n",
    "steamGames['title'] = hero.clean(steamGames['title'], pipeline = custom_pipeline)"
   ]
  },
  {
   "cell_type": "markdown",
   "id": "5dc3d663",
   "metadata": {},
   "source": [
    "##### Getting title, genre and release date"
   ]
  },
  {
   "cell_type": "code",
   "execution_count": 4,
   "id": "ac9b28c2",
   "metadata": {},
   "outputs": [],
   "source": [
    "#getting title and genre from steamGames df\n",
    "steamGames_Title_Genre = steamGames[['title', 'genre', 'release_date']]\n",
    "\n",
    "#getting title and review from steamCombinedReviews df\n",
    "steamCombinedReviews_Title_Reviews = steamCombinedReviews[['title', 'review']]"
   ]
  },
  {
   "cell_type": "markdown",
   "id": "a7bcf4fc",
   "metadata": {},
   "source": [
    "##### matching title in steamGames with steamCombinedReview"
   ]
  },
  {
   "cell_type": "code",
   "execution_count": 5,
   "id": "35ed8eae",
   "metadata": {},
   "outputs": [],
   "source": [
    "matchTitle = steamGames_Title_Genre.title.isin(steamCombinedReviews_Title_Reviews.title)\n",
    "steamMatchTitle = steamGames_Title_Genre[matchTitle]"
   ]
  },
  {
   "cell_type": "markdown",
   "id": "d21cd5e6",
   "metadata": {},
   "source": [
    "##### dropping duplicate values"
   ]
  },
  {
   "cell_type": "code",
   "execution_count": 6,
   "id": "82759861",
   "metadata": {},
   "outputs": [
    {
     "name": "stdout",
     "output_type": "stream",
     "text": [
      "<class 'pandas.core.frame.DataFrame'>\n",
      "RangeIndex: 131 entries, 0 to 130\n",
      "Data columns (total 3 columns):\n",
      " #   Column        Non-Null Count  Dtype \n",
      "---  ------        --------------  ----- \n",
      " 0   title         130 non-null    object\n",
      " 1   genre         130 non-null    object\n",
      " 2   release_date  127 non-null    object\n",
      "dtypes: object(3)\n",
      "memory usage: 3.2+ KB\n"
     ]
    }
   ],
   "source": [
    "steamUniqueTitle = steamMatchTitle.drop_duplicates(['title'])\n",
    "steamUniqueTitle = steamUniqueTitle.reset_index(drop=True)\n",
    "\n",
    "steamUniqueTitle\n",
    "nan_value = float(\"NaN\")\n",
    "steamUniqueTitle.replace(\"\", nan_value, inplace=True)\n",
    "steamUniqueTitle.info()\n",
    "\n",
    "steamUniqueTitle.dropna(subset = [\"genre\"], inplace=True)\n",
    "steamUniqueTitle\n",
    "steamUniqueTitle.to_excel(\"output.xlsx\")"
   ]
  },
  {
   "cell_type": "code",
   "execution_count": 7,
   "id": "fcceeb72",
   "metadata": {},
   "outputs": [],
   "source": [
    "#steamUniqueTitle.to_excel(\"output.xlsx\")"
   ]
  },
  {
   "cell_type": "markdown",
   "id": "1ad28e49",
   "metadata": {},
   "source": [
    "##### remove Early Acess, Massively Multiplayer and Free to Play values from genre column"
   ]
  },
  {
   "cell_type": "code",
   "execution_count": 8,
   "id": "4d0de1a8",
   "metadata": {},
   "outputs": [
    {
     "name": "stderr",
     "output_type": "stream",
     "text": [
      "<ipython-input-8-1b6a5137f3ce>:1: FutureWarning: The default value of regex will change from True to False in a future version.\n",
      "  steamUniqueTitle['genre'] = steamUniqueTitle.genre.str.replace(',Early Access?', '')\n",
      "<ipython-input-8-1b6a5137f3ce>:2: FutureWarning: The default value of regex will change from True to False in a future version.\n",
      "  steamUniqueTitle['genre'] = steamUniqueTitle.genre.str.replace(',Massively Multiplayer?', '')\n",
      "<ipython-input-8-1b6a5137f3ce>:3: FutureWarning: The default value of regex will change from True to False in a future version.\n",
      "  steamUniqueTitle['genre'] = steamUniqueTitle.genre.str.replace('Massively Multiplayer,?', '')\n",
      "<ipython-input-8-1b6a5137f3ce>:4: FutureWarning: The default value of regex will change from True to False in a future version.\n",
      "  steamUniqueTitle['genre'] = steamUniqueTitle.genre.str.replace(',Free to Play?', '')\n",
      "<ipython-input-8-1b6a5137f3ce>:5: FutureWarning: The default value of regex will change from True to False in a future version.\n",
      "  steamUniqueTitle['genre'] = steamUniqueTitle.genre.str.replace('Free to Play,?', '')\n"
     ]
    }
   ],
   "source": [
    "steamUniqueTitle['genre'] = steamUniqueTitle.genre.str.replace(',Early Access?', '')\n",
    "steamUniqueTitle['genre'] = steamUniqueTitle.genre.str.replace(',Massively Multiplayer?', '')\n",
    "steamUniqueTitle['genre'] = steamUniqueTitle.genre.str.replace('Massively Multiplayer,?', '')\n",
    "steamUniqueTitle['genre'] = steamUniqueTitle.genre.str.replace(',Free to Play?', '')\n",
    "steamUniqueTitle['genre'] = steamUniqueTitle.genre.str.replace('Free to Play,?', '')"
   ]
  },
  {
   "cell_type": "markdown",
   "id": "59f9b182",
   "metadata": {},
   "source": [
    "##### remove Coming Soon values from release_date column"
   ]
  },
  {
   "cell_type": "code",
   "execution_count": 9,
   "id": "19fd2993",
   "metadata": {},
   "outputs": [],
   "source": [
    "steamUniqueTitle['release_date'] = steamUniqueTitle.release_date.str.replace('Coming Soon' , '')"
   ]
  },
  {
   "cell_type": "markdown",
   "id": "6bfa7bec",
   "metadata": {},
   "source": [
    "##### split genre into 6 columns"
   ]
  },
  {
   "cell_type": "code",
   "execution_count": 10,
   "id": "6335e08d",
   "metadata": {},
   "outputs": [],
   "source": [
    "steamUniqueTitle[['genre1', 'genre2', 'genre3','genre4','genre5','genre6']] = steamUniqueTitle['genre'].str.split(',', expand=True)"
   ]
  },
  {
   "cell_type": "markdown",
   "id": "5a1395cc",
   "metadata": {},
   "source": [
    "##### dropping genre, title, and release date columns to get the total count of genre"
   ]
  },
  {
   "cell_type": "code",
   "execution_count": 11,
   "id": "86aef8d3",
   "metadata": {},
   "outputs": [],
   "source": [
    "steamGenreCount = steamUniqueTitle.drop(columns=['genre','title', 'release_date'])"
   ]
  },
  {
   "cell_type": "markdown",
   "id": "ebc11f7d",
   "metadata": {},
   "source": [
    "##### reset index and rename the column"
   ]
  },
  {
   "cell_type": "code",
   "execution_count": 12,
   "id": "f61a4926",
   "metadata": {},
   "outputs": [],
   "source": [
    "steamGenreGraph = steamGenreCount.stack().value_counts().reset_index()\n",
    "steamGenreGraph.columns = ['genre','count']"
   ]
  },
  {
   "cell_type": "markdown",
   "id": "a172ccd0",
   "metadata": {},
   "source": [
    "##### graph to see which genre is most popular "
   ]
  },
  {
   "cell_type": "code",
   "execution_count": 13,
   "id": "e8fc8af9",
   "metadata": {},
   "outputs": [
    {
     "data": {
      "text/plain": [
       "<AxesSubplot:xlabel='genre', ylabel='count'>"
      ]
     },
     "execution_count": 13,
     "metadata": {},
     "output_type": "execute_result"
    },
    {
     "data": {
      "image/png": "[encoded data removed]",
      "text/plain": [
       "<Figure size 1080x432 with 1 Axes>"
      ]
     },
     "metadata": {},
     "output_type": "display_data"
    }
   ],
   "source": [
    "fig_dims = (15, 6)\n",
    "fig, ax = plt.subplots(figsize=fig_dims)\n",
    "sb.barplot(x=\"genre\", y=\"count\", data=steamGenreGraph, ax=ax)"
   ]
  },
  {
   "cell_type": "markdown",
   "id": "0a265dfe",
   "metadata": {},
   "source": [
    "we can see that most popular genres are action, indie and simulation"
   ]
  },
  {
   "cell_type": "code",
   "execution_count": 14,
   "id": "f9d2e940",
   "metadata": {},
   "outputs": [
    {
     "data": {
      "text/html": [
       "<div>\n",
       "<style scoped>\n",
       "    .dataframe tbody tr th:only-of-type {\n",
       "        vertical-align: middle;\n",
       "    }\n",
       "\n",
       "    .dataframe tbody tr th {\n",
       "        vertical-align: top;\n",
       "    }\n",
       "\n",
       "    .dataframe thead th {\n",
       "        text-align: right;\n",
       "    }\n",
       "</style>\n",
       "<table border=\"1\" class=\"dataframe\">\n",
       "  <thead>\n",
       "    <tr style=\"text-align: right;\">\n",
       "      <th></th>\n",
       "      <th>genre</th>\n",
       "      <th>release_date</th>\n",
       "      <th>year</th>\n",
       "    </tr>\n",
       "  </thead>\n",
       "  <tbody>\n",
       "    <tr>\n",
       "      <th>0</th>\n",
       "      <td>Action,Adventure</td>\n",
       "      <td>Dec 21, 2017</td>\n",
       "      <td>2017</td>\n",
       "    </tr>\n",
       "    <tr>\n",
       "      <th>1</th>\n",
       "      <td>Action,Adventure,Strategy</td>\n",
       "      <td>Apr 24, 2018</td>\n",
       "      <td>2018</td>\n",
       "    </tr>\n",
       "    <tr>\n",
       "      <th>2</th>\n",
       "      <td>Adventure,Indie</td>\n",
       "      <td>Jul 22, 2016</td>\n",
       "      <td>2016</td>\n",
       "    </tr>\n",
       "    <tr>\n",
       "      <th>3</th>\n",
       "      <td>Strategy</td>\n",
       "      <td>Dec 12, 2017</td>\n",
       "      <td>2017</td>\n",
       "    </tr>\n",
       "    <tr>\n",
       "      <th>4</th>\n",
       "      <td>Action</td>\n",
       "      <td>Nov 1, 2004</td>\n",
       "      <td>2004</td>\n",
       "    </tr>\n",
       "    <tr>\n",
       "      <th>...</th>\n",
       "      <td>...</td>\n",
       "      <td>...</td>\n",
       "      <td>...</td>\n",
       "    </tr>\n",
       "    <tr>\n",
       "      <th>126</th>\n",
       "      <td>Action,Adventure,RPG</td>\n",
       "      <td>Dec 22, 2018</td>\n",
       "      <td>2018</td>\n",
       "    </tr>\n",
       "    <tr>\n",
       "      <th>127</th>\n",
       "      <td>Action</td>\n",
       "      <td>Feb 14, 2019</td>\n",
       "      <td>2019</td>\n",
       "    </tr>\n",
       "    <tr>\n",
       "      <th>128</th>\n",
       "      <td>Simulation,Strategy</td>\n",
       "      <td>Q4 2019</td>\n",
       "      <td>2019</td>\n",
       "    </tr>\n",
       "    <tr>\n",
       "      <th>129</th>\n",
       "      <td>Action</td>\n",
       "      <td></td>\n",
       "      <td></td>\n",
       "    </tr>\n",
       "    <tr>\n",
       "      <th>130</th>\n",
       "      <td>Sports</td>\n",
       "      <td>Sep 10, 2019</td>\n",
       "      <td>2019</td>\n",
       "    </tr>\n",
       "  </tbody>\n",
       "</table>\n",
       "<p>130 rows × 3 columns</p>\n",
       "</div>"
      ],
      "text/plain": [
       "                         genre  release_date  year\n",
       "0             Action,Adventure  Dec 21, 2017  2017\n",
       "1    Action,Adventure,Strategy  Apr 24, 2018  2018\n",
       "2              Adventure,Indie  Jul 22, 2016  2016\n",
       "3                     Strategy  Dec 12, 2017  2017\n",
       "4                       Action   Nov 1, 2004  2004\n",
       "..                         ...           ...   ...\n",
       "126       Action,Adventure,RPG  Dec 22, 2018  2018\n",
       "127                     Action  Feb 14, 2019  2019\n",
       "128        Simulation,Strategy       Q4 2019  2019\n",
       "129                     Action                    \n",
       "130                     Sports  Sep 10, 2019  2019\n",
       "\n",
       "[130 rows x 3 columns]"
      ]
     },
     "execution_count": 14,
     "metadata": {},
     "output_type": "execute_result"
    }
   ],
   "source": [
    "# storing first 3 letters of name as username\n",
    "steamGenre_Date = steamUniqueTitle\n",
    "steamGenre_Date['year'] = steamGenre_Date['release_date'].str.slice(-4)\n",
    "steamGenre_Date = steamUniqueTitle.drop(columns=['title', 'genre1', 'genre2', 'genre3','genre4','genre5','genre6'])\n",
    "#steamGenre_Date = steamUniqueTitle.drop(columns=['title','release_date'])\n",
    "steamGenre_Date"
   ]
  },
  {
   "cell_type": "code",
   "execution_count": 15,
   "id": "44c3b543",
   "metadata": {},
   "outputs": [
    {
     "data": {
      "text/html": [
       "<div>\n",
       "<style scoped>\n",
       "    .dataframe tbody tr th:only-of-type {\n",
       "        vertical-align: middle;\n",
       "    }\n",
       "\n",
       "    .dataframe tbody tr th {\n",
       "        vertical-align: top;\n",
       "    }\n",
       "\n",
       "    .dataframe thead th {\n",
       "        text-align: right;\n",
       "    }\n",
       "</style>\n",
       "<table border=\"1\" class=\"dataframe\">\n",
       "  <thead>\n",
       "    <tr style=\"text-align: right;\">\n",
       "      <th></th>\n",
       "      <th>genre</th>\n",
       "      <th>release_date</th>\n",
       "      <th>year</th>\n",
       "    </tr>\n",
       "  </thead>\n",
       "  <tbody>\n",
       "    <tr>\n",
       "      <th>0</th>\n",
       "      <td>Action,Adventure</td>\n",
       "      <td>Dec 21, 2017</td>\n",
       "      <td>2017</td>\n",
       "    </tr>\n",
       "    <tr>\n",
       "      <th>1</th>\n",
       "      <td>Action,Adventure,Strategy</td>\n",
       "      <td>Apr 24, 2018</td>\n",
       "      <td>2018</td>\n",
       "    </tr>\n",
       "    <tr>\n",
       "      <th>4</th>\n",
       "      <td>Action</td>\n",
       "      <td>Nov 1, 2004</td>\n",
       "      <td>2004</td>\n",
       "    </tr>\n",
       "    <tr>\n",
       "      <th>5</th>\n",
       "      <td>Action,Adventure,RPG</td>\n",
       "      <td>Oct 9, 2017</td>\n",
       "      <td>2017</td>\n",
       "    </tr>\n",
       "    <tr>\n",
       "      <th>8</th>\n",
       "      <td>Action,Simulation,Strategy</td>\n",
       "      <td>May 15, 2014</td>\n",
       "      <td>2014</td>\n",
       "    </tr>\n",
       "    <tr>\n",
       "      <th>...</th>\n",
       "      <td>...</td>\n",
       "      <td>...</td>\n",
       "      <td>...</td>\n",
       "    </tr>\n",
       "    <tr>\n",
       "      <th>121</th>\n",
       "      <td>Action,Adventure</td>\n",
       "      <td>Sep 1, 2015</td>\n",
       "      <td>2015</td>\n",
       "    </tr>\n",
       "    <tr>\n",
       "      <th>123</th>\n",
       "      <td>Action</td>\n",
       "      <td>Nov 1, 2000</td>\n",
       "      <td>2000</td>\n",
       "    </tr>\n",
       "    <tr>\n",
       "      <th>126</th>\n",
       "      <td>Action,Adventure,RPG</td>\n",
       "      <td>Dec 22, 2018</td>\n",
       "      <td>2018</td>\n",
       "    </tr>\n",
       "    <tr>\n",
       "      <th>127</th>\n",
       "      <td>Action</td>\n",
       "      <td>Feb 14, 2019</td>\n",
       "      <td>2019</td>\n",
       "    </tr>\n",
       "    <tr>\n",
       "      <th>129</th>\n",
       "      <td>Action</td>\n",
       "      <td></td>\n",
       "      <td></td>\n",
       "    </tr>\n",
       "  </tbody>\n",
       "</table>\n",
       "<p>69 rows × 3 columns</p>\n",
       "</div>"
      ],
      "text/plain": [
       "                          genre  release_date  year\n",
       "0              Action,Adventure  Dec 21, 2017  2017\n",
       "1     Action,Adventure,Strategy  Apr 24, 2018  2018\n",
       "4                        Action   Nov 1, 2004  2004\n",
       "5          Action,Adventure,RPG   Oct 9, 2017  2017\n",
       "8    Action,Simulation,Strategy  May 15, 2014  2014\n",
       "..                          ...           ...   ...\n",
       "121            Action,Adventure   Sep 1, 2015  2015\n",
       "123                      Action   Nov 1, 2000  2000\n",
       "126        Action,Adventure,RPG  Dec 22, 2018  2018\n",
       "127                      Action  Feb 14, 2019  2019\n",
       "129                      Action                    \n",
       "\n",
       "[69 rows x 3 columns]"
      ]
     },
     "execution_count": 15,
     "metadata": {},
     "output_type": "execute_result"
    }
   ],
   "source": [
    "test =steamGenre_Date.loc[steamGenre_Date['genre'].str.contains(\"action\", case=False)]\n",
    "test"
   ]
  },
  {
   "cell_type": "code",
   "execution_count": 16,
   "id": "6b317eff",
   "metadata": {},
   "outputs": [],
   "source": [
    "#options = ['Action','Indie','Simulation']\n",
    "#options = ['Action']\n",
    "#test = steamGenre_Date.loc[steamGenre_Date['genre1'].isin(options) | steamGenre_Date['genre2'].isin(options) | steamGenre_Date['genre3'].isin(options)\n",
    "                          # | steamGenre_Date['genre4'].isin(options) | steamGenre_Date['genre5'].isin(options) | steamGenre_Date['genre6'].isin(options)]\n",
    "\n",
    "\n",
    "#test"
   ]
  },
  {
   "cell_type": "code",
   "execution_count": 17,
   "id": "17e1503b",
   "metadata": {},
   "outputs": [
    {
     "data": {
      "text/plain": [
       "genre           object\n",
       "release_date    object\n",
       "year            object\n",
       "dtype: object"
      ]
     },
     "execution_count": 17,
     "metadata": {},
     "output_type": "execute_result"
    }
   ],
   "source": [
    "test.dtypes"
   ]
  },
  {
   "cell_type": "code",
   "execution_count": 18,
   "id": "50e656ba",
   "metadata": {},
   "outputs": [
    {
     "name": "stderr",
     "output_type": "stream",
     "text": [
      "<ipython-input-18-9f3bffe6c8a0>:1: SettingWithCopyWarning: \n",
      "A value is trying to be set on a copy of a slice from a DataFrame.\n",
      "Try using .loc[row_indexer,col_indexer] = value instead\n",
      "\n",
      "See the caveats in the documentation: https://pandas.pydata.org/pandas-docs/stable/user_guide/indexing.html#returning-a-view-versus-a-copy\n",
      "  test[\"year\"] = pd.to_numeric(test[\"year\"])\n"
     ]
    }
   ],
   "source": [
    "test[\"year\"] = pd.to_numeric(test[\"year\"])\n",
    "#test[\"year\"] = test[\"year\"].astype(str).astype(int)"
   ]
  },
  {
   "cell_type": "code",
   "execution_count": 19,
   "id": "2895c838",
   "metadata": {},
   "outputs": [
    {
     "name": "stderr",
     "output_type": "stream",
     "text": [
      "<ipython-input-19-bb7be34a852b>:1: SettingWithCopyWarning: \n",
      "A value is trying to be set on a copy of a slice from a DataFrame.\n",
      "Try using .loc[row_indexer,col_indexer] = value instead\n",
      "\n",
      "See the caveats in the documentation: https://pandas.pydata.org/pandas-docs/stable/user_guide/indexing.html#returning-a-view-versus-a-copy\n",
      "  test[\"year\"] = test[\"year\"].fillna(0.0).astype(int)\n"
     ]
    }
   ],
   "source": [
    "test[\"year\"] = test[\"year\"].fillna(0.0).astype(int)"
   ]
  },
  {
   "cell_type": "code",
   "execution_count": 20,
   "id": "bcb3148a",
   "metadata": {},
   "outputs": [
    {
     "name": "stderr",
     "output_type": "stream",
     "text": [
      "C:\\Users\\Pyae Pyae\\anaconda3\\lib\\site-packages\\pandas\\core\\frame.py:4308: SettingWithCopyWarning: \n",
      "A value is trying to be set on a copy of a slice from a DataFrame\n",
      "\n",
      "See the caveats in the documentation: https://pandas.pydata.org/pandas-docs/stable/user_guide/indexing.html#returning-a-view-versus-a-copy\n",
      "  return super().drop(\n"
     ]
    }
   ],
   "source": [
    "# Get names of indexes for which column Age has value 30\n",
    "indexNames =test[ test['year'] == 0 ].index\n",
    "# Delete these row indexes from dataFrame\n",
    "test.drop(indexNames , inplace=True)\n"
   ]
  },
  {
   "cell_type": "code",
   "execution_count": 21,
   "id": "c57fd5b8",
   "metadata": {},
   "outputs": [],
   "source": [
    "test.to_excel(\"output.xlsx\")"
   ]
  },
  {
   "cell_type": "code",
   "execution_count": 38,
   "id": "462ceb84",
   "metadata": {},
   "outputs": [
    {
     "data": {
      "text/plain": [
       "Int64Index([2000, 2004, 2009, 2010, 2011, 2012, 2013, 2014, 2015, 2016, 2017,\n",
       "            2018, 2019],\n",
       "           dtype='int64', name='year')"
      ]
     },
     "execution_count": 38,
     "metadata": {},
     "output_type": "execute_result"
    }
   ],
   "source": [
    "grouped = test.groupby(\"year\").count()\n",
    "grouped.index"
   ]
  },
  {
   "cell_type": "code",
   "execution_count": 39,
   "id": "72254a3b",
   "metadata": {},
   "outputs": [
    {
     "data": {
      "text/html": [
       "<div>\n",
       "<style scoped>\n",
       "    .dataframe tbody tr th:only-of-type {\n",
       "        vertical-align: middle;\n",
       "    }\n",
       "\n",
       "    .dataframe tbody tr th {\n",
       "        vertical-align: top;\n",
       "    }\n",
       "\n",
       "    .dataframe thead th {\n",
       "        text-align: right;\n",
       "    }\n",
       "</style>\n",
       "<table border=\"1\" class=\"dataframe\">\n",
       "  <thead>\n",
       "    <tr style=\"text-align: right;\">\n",
       "      <th></th>\n",
       "      <th>year</th>\n",
       "      <th>genre</th>\n",
       "      <th>release_date</th>\n",
       "    </tr>\n",
       "  </thead>\n",
       "  <tbody>\n",
       "    <tr>\n",
       "      <th>0</th>\n",
       "      <td>2000</td>\n",
       "      <td>1</td>\n",
       "      <td>1</td>\n",
       "    </tr>\n",
       "    <tr>\n",
       "      <th>1</th>\n",
       "      <td>2004</td>\n",
       "      <td>1</td>\n",
       "      <td>1</td>\n",
       "    </tr>\n",
       "    <tr>\n",
       "      <th>2</th>\n",
       "      <td>2009</td>\n",
       "      <td>1</td>\n",
       "      <td>1</td>\n",
       "    </tr>\n",
       "    <tr>\n",
       "      <th>3</th>\n",
       "      <td>2010</td>\n",
       "      <td>1</td>\n",
       "      <td>1</td>\n",
       "    </tr>\n",
       "    <tr>\n",
       "      <th>4</th>\n",
       "      <td>2011</td>\n",
       "      <td>2</td>\n",
       "      <td>2</td>\n",
       "    </tr>\n",
       "    <tr>\n",
       "      <th>5</th>\n",
       "      <td>2012</td>\n",
       "      <td>1</td>\n",
       "      <td>1</td>\n",
       "    </tr>\n",
       "    <tr>\n",
       "      <th>6</th>\n",
       "      <td>2013</td>\n",
       "      <td>3</td>\n",
       "      <td>3</td>\n",
       "    </tr>\n",
       "    <tr>\n",
       "      <th>7</th>\n",
       "      <td>2014</td>\n",
       "      <td>3</td>\n",
       "      <td>3</td>\n",
       "    </tr>\n",
       "    <tr>\n",
       "      <th>8</th>\n",
       "      <td>2015</td>\n",
       "      <td>9</td>\n",
       "      <td>9</td>\n",
       "    </tr>\n",
       "    <tr>\n",
       "      <th>9</th>\n",
       "      <td>2016</td>\n",
       "      <td>8</td>\n",
       "      <td>8</td>\n",
       "    </tr>\n",
       "    <tr>\n",
       "      <th>10</th>\n",
       "      <td>2017</td>\n",
       "      <td>10</td>\n",
       "      <td>10</td>\n",
       "    </tr>\n",
       "    <tr>\n",
       "      <th>11</th>\n",
       "      <td>2018</td>\n",
       "      <td>18</td>\n",
       "      <td>18</td>\n",
       "    </tr>\n",
       "    <tr>\n",
       "      <th>12</th>\n",
       "      <td>2019</td>\n",
       "      <td>10</td>\n",
       "      <td>10</td>\n",
       "    </tr>\n",
       "  </tbody>\n",
       "</table>\n",
       "</div>"
      ],
      "text/plain": [
       "    year  genre  release_date\n",
       "0   2000      1             1\n",
       "1   2004      1             1\n",
       "2   2009      1             1\n",
       "3   2010      1             1\n",
       "4   2011      2             2\n",
       "5   2012      1             1\n",
       "6   2013      3             3\n",
       "7   2014      3             3\n",
       "8   2015      9             9\n",
       "9   2016      8             8\n",
       "10  2017     10            10\n",
       "11  2018     18            18\n",
       "12  2019     10            10"
      ]
     },
     "execution_count": 39,
     "metadata": {},
     "output_type": "execute_result"
    }
   ],
   "source": [
    "grouped.reset_index(inplace=True)\n",
    "grouped"
   ]
  },
  {
   "cell_type": "code",
   "execution_count": 34,
   "id": "09e8ac69",
   "metadata": {},
   "outputs": [],
   "source": [
    "#grouped['year'] = pd.to_datetime(grouped['year'], format='%Y')"
   ]
  },
  {
   "cell_type": "code",
   "execution_count": 40,
   "id": "b8a5cdf2",
   "metadata": {},
   "outputs": [
    {
     "data": {
      "text/html": [
       "<div>\n",
       "<style scoped>\n",
       "    .dataframe tbody tr th:only-of-type {\n",
       "        vertical-align: middle;\n",
       "    }\n",
       "\n",
       "    .dataframe tbody tr th {\n",
       "        vertical-align: top;\n",
       "    }\n",
       "\n",
       "    .dataframe thead th {\n",
       "        text-align: right;\n",
       "    }\n",
       "</style>\n",
       "<table border=\"1\" class=\"dataframe\">\n",
       "  <thead>\n",
       "    <tr style=\"text-align: right;\">\n",
       "      <th></th>\n",
       "      <th>year</th>\n",
       "      <th>count</th>\n",
       "      <th>release_date</th>\n",
       "    </tr>\n",
       "  </thead>\n",
       "  <tbody>\n",
       "    <tr>\n",
       "      <th>0</th>\n",
       "      <td>2000</td>\n",
       "      <td>1</td>\n",
       "      <td>1</td>\n",
       "    </tr>\n",
       "    <tr>\n",
       "      <th>1</th>\n",
       "      <td>2004</td>\n",
       "      <td>1</td>\n",
       "      <td>1</td>\n",
       "    </tr>\n",
       "    <tr>\n",
       "      <th>2</th>\n",
       "      <td>2009</td>\n",
       "      <td>1</td>\n",
       "      <td>1</td>\n",
       "    </tr>\n",
       "    <tr>\n",
       "      <th>3</th>\n",
       "      <td>2010</td>\n",
       "      <td>1</td>\n",
       "      <td>1</td>\n",
       "    </tr>\n",
       "    <tr>\n",
       "      <th>4</th>\n",
       "      <td>2011</td>\n",
       "      <td>2</td>\n",
       "      <td>2</td>\n",
       "    </tr>\n",
       "    <tr>\n",
       "      <th>5</th>\n",
       "      <td>2012</td>\n",
       "      <td>1</td>\n",
       "      <td>1</td>\n",
       "    </tr>\n",
       "    <tr>\n",
       "      <th>6</th>\n",
       "      <td>2013</td>\n",
       "      <td>3</td>\n",
       "      <td>3</td>\n",
       "    </tr>\n",
       "    <tr>\n",
       "      <th>7</th>\n",
       "      <td>2014</td>\n",
       "      <td>3</td>\n",
       "      <td>3</td>\n",
       "    </tr>\n",
       "    <tr>\n",
       "      <th>8</th>\n",
       "      <td>2015</td>\n",
       "      <td>9</td>\n",
       "      <td>9</td>\n",
       "    </tr>\n",
       "    <tr>\n",
       "      <th>9</th>\n",
       "      <td>2016</td>\n",
       "      <td>8</td>\n",
       "      <td>8</td>\n",
       "    </tr>\n",
       "    <tr>\n",
       "      <th>10</th>\n",
       "      <td>2017</td>\n",
       "      <td>10</td>\n",
       "      <td>10</td>\n",
       "    </tr>\n",
       "    <tr>\n",
       "      <th>11</th>\n",
       "      <td>2018</td>\n",
       "      <td>18</td>\n",
       "      <td>18</td>\n",
       "    </tr>\n",
       "    <tr>\n",
       "      <th>12</th>\n",
       "      <td>2019</td>\n",
       "      <td>10</td>\n",
       "      <td>10</td>\n",
       "    </tr>\n",
       "  </tbody>\n",
       "</table>\n",
       "</div>"
      ],
      "text/plain": [
       "    year  count  release_date\n",
       "0   2000      1             1\n",
       "1   2004      1             1\n",
       "2   2009      1             1\n",
       "3   2010      1             1\n",
       "4   2011      2             2\n",
       "5   2012      1             1\n",
       "6   2013      3             3\n",
       "7   2014      3             3\n",
       "8   2015      9             9\n",
       "9   2016      8             8\n",
       "10  2017     10            10\n",
       "11  2018     18            18\n",
       "12  2019     10            10"
      ]
     },
     "execution_count": 40,
     "metadata": {},
     "output_type": "execute_result"
    }
   ],
   "source": [
    "grouped = grouped.rename(columns={'genre': 'count'})  # old method  \n",
    "grouped['count'] = grouped['count'].astype(int)\n",
    "grouped"
   ]
  },
  {
   "cell_type": "code",
   "execution_count": 60,
   "id": "0c172e06",
   "metadata": {},
   "outputs": [
    {
     "data": {
      "image/png": "[encoded data removed]",
      "text/plain": [
       "<Figure size 1080x576 with 1 Axes>"
      ]
     },
     "metadata": {},
     "output_type": "display_data"
    }
   ],
   "source": [
    "plt.figure(figsize=(15,8))\n",
    "#plt.ylim(1, 20)\n",
    "\n",
    "ax = sb.lineplot(x='year', y='count', data=grouped)\n",
    "#ax.yaxis.set_major_formatter(FuncFormatter(lambda x, _: int(x)))\n",
    "#ax.xaxis.set_major_formatter(FuncFormatter(lambda x, _: int(x)))\n",
    "ya = ax.get_yaxis()\n",
    "ya.set_major_locator(MaxNLocator(integer=True))\n",
    "\n",
    "xa = ax.get_xaxis()\n",
    "xa.set_major_locator(MaxNLocator(integer=True))\n",
    "\n",
    "plt.show()"
   ]
  },
  {
   "cell_type": "code",
   "execution_count": null,
   "id": "3fb13388",
   "metadata": {},
   "outputs": [],
   "source": []
  }
 ],
 "metadata": {
  "kernelspec": {
   "display_name": "Python 3",
   "language": "python",
   "name": "python3"
  },
  "language_info": {
   "codemirror_mode": {
    "name": "ipython",
    "version": 3
   },
   "file_extension": ".py",
   "mimetype": "text/x-python",
   "name": "python",
   "nbconvert_exporter": "python",
   "pygments_lexer": "ipython3",
   "version": "3.8.8"
  }
 },
 "nbformat": 4,
 "nbformat_minor": 5
}
