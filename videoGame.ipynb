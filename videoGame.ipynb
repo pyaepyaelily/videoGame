{
 "cells": [
  {
   "cell_type": "markdown",
   "id": "7792f2c2",
   "metadata": {},
   "source": [
    "### Libraries"
   ]
  },
  {
   "cell_type": "code",
   "execution_count": 1,
   "id": "57adff21",
   "metadata": {},
   "outputs": [],
   "source": [
    "import glob\n",
    "import os\n",
    "import numpy as np\n",
    "import pandas as pd\n",
    "import seaborn as sb\n",
    "import matplotlib.pyplot as plt # we only need pyplot\n",
    "import texthero as hero\n",
    "from texthero import preprocessing\n",
    "sb.set() # set the default Seaborn style for graphics\n",
    "from matplotlib.ticker import FuncFormatter, MaxNLocator\n",
    "import matplotlib.dates as mdates"
   ]
  },
  {
   "cell_type": "markdown",
   "id": "8a01b895",
   "metadata": {},
   "source": [
    "### Chunking CSV to upload onto GitHub"
   ]
  },
  {
   "cell_type": "markdown",
   "id": "4c622cd1",
   "metadata": {},
   "source": [
    "import pandas as pd\n",
    "\n",
    "chunk_size = 55000\n",
    "batch_no = 1\n",
    "\n",
    "for chunk in pd.read_csv('221100_DayZ.csv', chunksize=chunk_size):\n",
    "    #chunk.to_csv('221100_DayZ' + str(batch_no) + '.csv', index=False)\n",
    "    #batch_no +=1"
   ]
  },
  {
   "cell_type": "markdown",
   "id": "06c1ffed",
   "metadata": {},
   "source": [
    "### Dataset"
   ]
  },
  {
   "cell_type": "code",
   "execution_count": 2,
   "id": "73fac1a9",
   "metadata": {},
   "outputs": [
    {
     "name": "stderr",
     "output_type": "stream",
     "text": [
      "C:\\Users\\Pyae Pyae\\anaconda3\\lib\\site-packages\\IPython\\core\\interactiveshell.py:3437: DtypeWarning: Columns (23) have mixed types.Specify dtype option on import or set low_memory=False.\n",
      "  exec(code_obj, self.user_global_ns, self.user_ns)\n",
      "C:\\Users\\Pyae Pyae\\anaconda3\\lib\\site-packages\\IPython\\core\\interactiveshell.py:3437: DtypeWarning: Columns (1,23) have mixed types.Specify dtype option on import or set low_memory=False.\n",
      "  exec(code_obj, self.user_global_ns, self.user_ns)\n",
      "C:\\Users\\Pyae Pyae\\anaconda3\\lib\\site-packages\\IPython\\core\\interactiveshell.py:3357: DtypeWarning: Columns (2) have mixed types.Specify dtype option on import or set low_memory=False.\n",
      "  if (await self.run_code(code, result,  async_=asy)):\n",
      "C:\\Users\\Pyae Pyae\\anaconda3\\lib\\site-packages\\IPython\\core\\interactiveshell.py:3357: DtypeWarning: Columns (23) have mixed types.Specify dtype option on import or set low_memory=False.\n",
      "  if (await self.run_code(code, result,  async_=asy)):\n"
     ]
    }
   ],
   "source": [
    "steamData = pd.read_csv('steam_data/steam.csv')\n",
    "steamSupportInfo = pd.read_csv('steam_data/steam_support_info.csv')\n",
    "steamChart = pd.read_csv('steam_data/steamCharts.csv')\n",
    "steamSpyTagData = pd.read_csv('steam_data/steamspy_tag_data.csv')\n",
    "steamGames = pd.concat(map(pd.read_csv, glob.glob(os.path.join('', \"steam_data/steam_games/steam_games*.csv\"))))\n",
    "steamMediaData = pd.concat(map(pd.read_csv, glob.glob(os.path.join('', \"steam_data/steam_media_data/steam_media_data*.csv\"))))\n",
    "steamRequirements = pd.concat(map(pd.read_csv, glob.glob(os.path.join('', \"steam_data/steam_requirements/steam_requirements*.csv\"))))\n",
    "steamDescription = pd.concat(map(pd.read_csv, glob.glob(os.path.join('', \"steam_data/steam_description/steam_description*.csv\"))))\n",
    "\n",
    "#game reviews\n",
    "steam_HalfOfTheGameReviews = pd.concat(map(pd.read_csv, glob.glob(os.path.join('', \"steam_data/steam_reviews/steam_review_*.csv\"))))\n",
    "files = glob.glob(\"steam_data/steam_reviews\" + '**/**' + \"/*.csv\")\n",
    "steamReviews_fromFolder = pd.concat([pd.read_csv(f) for f in files ])\n",
    "steamReviewsDF = [steam_HalfOfTheGameReviews, steamReviews_fromFolder]\n",
    "steamCombinedReviews = pd.concat(steamReviewsDF)"
   ]
  },
  {
   "cell_type": "markdown",
   "id": "cbd1e37d",
   "metadata": {},
   "source": [
    "### Cleaning the Dataset"
   ]
  },
  {
   "cell_type": "code",
   "execution_count": 3,
   "id": "faaa72a8",
   "metadata": {},
   "outputs": [],
   "source": [
    "#rename for easier identification\n",
    "steamGames = steamGames.rename(columns={\"name\": \"title\"})\n",
    "\n",
    "#create a custom cleaning pipeline\n",
    "custom_pipeline = [preprocessing.fillna\n",
    "                   , preprocessing.lowercase\n",
    "                   , preprocessing.remove_punctuation\n",
    "                   , preprocessing.remove_diacritics\n",
    "                   , preprocessing.remove_whitespace]\n",
    "\n",
    "steamCombinedReviews['title'] = hero.clean(steamCombinedReviews['title'], pipeline = custom_pipeline)\n",
    "steamGames['title'] = hero.clean(steamGames['title'], pipeline = custom_pipeline)\n",
    "steamData['title'] = hero.clean(steamData['name'], pipeline = custom_pipeline)"
   ]
  },
  {
   "cell_type": "markdown",
   "id": "5dc3d663",
   "metadata": {},
   "source": [
    "##### Getting title, genre and release date"
   ]
  },
  {
   "cell_type": "code",
   "execution_count": 4,
   "id": "ac9b28c2",
   "metadata": {},
   "outputs": [],
   "source": [
    "#getting title and genre from steamGames df\n",
    "steamGames_Title_Genre = steamGames[['title', 'genre', 'release_date']]\n",
    "\n",
    "#getting title and review from steamCombinedReviews df\n",
    "steamCombinedReviews_Title_Reviews = steamCombinedReviews[['title', 'review']]\n",
    "\n",
    "#getting title and rating from steamData df\n",
    "steamData_Title_Rating = steamData[['title', 'positive_ratings', 'negative_ratings']]"
   ]
  },
  {
   "cell_type": "code",
   "execution_count": 5,
   "id": "6538d52c",
   "metadata": {},
   "outputs": [
    {
     "data": {
      "text/html": [
       "<div>\n",
       "<style scoped>\n",
       "    .dataframe tbody tr th:only-of-type {\n",
       "        vertical-align: middle;\n",
       "    }\n",
       "\n",
       "    .dataframe tbody tr th {\n",
       "        vertical-align: top;\n",
       "    }\n",
       "\n",
       "    .dataframe thead th {\n",
       "        text-align: right;\n",
       "    }\n",
       "</style>\n",
       "<table border=\"1\" class=\"dataframe\">\n",
       "  <thead>\n",
       "    <tr style=\"text-align: right;\">\n",
       "      <th></th>\n",
       "      <th>title</th>\n",
       "      <th>positive_ratings</th>\n",
       "      <th>negative_ratings</th>\n",
       "    </tr>\n",
       "  </thead>\n",
       "  <tbody>\n",
       "    <tr>\n",
       "      <th>0</th>\n",
       "      <td>counter strike</td>\n",
       "      <td>124534</td>\n",
       "      <td>3339</td>\n",
       "    </tr>\n",
       "    <tr>\n",
       "      <th>1</th>\n",
       "      <td>team fortress classic</td>\n",
       "      <td>3318</td>\n",
       "      <td>633</td>\n",
       "    </tr>\n",
       "    <tr>\n",
       "      <th>2</th>\n",
       "      <td>day of defeat</td>\n",
       "      <td>3416</td>\n",
       "      <td>398</td>\n",
       "    </tr>\n",
       "    <tr>\n",
       "      <th>3</th>\n",
       "      <td>deathmatch classic</td>\n",
       "      <td>1273</td>\n",
       "      <td>267</td>\n",
       "    </tr>\n",
       "    <tr>\n",
       "      <th>4</th>\n",
       "      <td>half life opposing force</td>\n",
       "      <td>5250</td>\n",
       "      <td>288</td>\n",
       "    </tr>\n",
       "    <tr>\n",
       "      <th>...</th>\n",
       "      <td>...</td>\n",
       "      <td>...</td>\n",
       "      <td>...</td>\n",
       "    </tr>\n",
       "    <tr>\n",
       "      <th>27070</th>\n",
       "      <td>room of pandora</td>\n",
       "      <td>3</td>\n",
       "      <td>0</td>\n",
       "    </tr>\n",
       "    <tr>\n",
       "      <th>27071</th>\n",
       "      <td>cyber gun</td>\n",
       "      <td>8</td>\n",
       "      <td>1</td>\n",
       "    </tr>\n",
       "    <tr>\n",
       "      <th>27072</th>\n",
       "      <td>super star blast</td>\n",
       "      <td>0</td>\n",
       "      <td>1</td>\n",
       "    </tr>\n",
       "    <tr>\n",
       "      <th>27073</th>\n",
       "      <td>new yankee 7 deer hunters</td>\n",
       "      <td>2</td>\n",
       "      <td>0</td>\n",
       "    </tr>\n",
       "    <tr>\n",
       "      <th>27074</th>\n",
       "      <td>rune lord</td>\n",
       "      <td>4</td>\n",
       "      <td>0</td>\n",
       "    </tr>\n",
       "  </tbody>\n",
       "</table>\n",
       "<p>27075 rows × 3 columns</p>\n",
       "</div>"
      ],
      "text/plain": [
       "                           title  positive_ratings  negative_ratings\n",
       "0                 counter strike            124534              3339\n",
       "1          team fortress classic              3318               633\n",
       "2                  day of defeat              3416               398\n",
       "3             deathmatch classic              1273               267\n",
       "4       half life opposing force              5250               288\n",
       "...                          ...               ...               ...\n",
       "27070            room of pandora                 3                 0\n",
       "27071                  cyber gun                 8                 1\n",
       "27072           super star blast                 0                 1\n",
       "27073  new yankee 7 deer hunters                 2                 0\n",
       "27074                  rune lord                 4                 0\n",
       "\n",
       "[27075 rows x 3 columns]"
      ]
     },
     "execution_count": 5,
     "metadata": {},
     "output_type": "execute_result"
    }
   ],
   "source": [
    "steamData_Title_Rating"
   ]
  },
  {
   "cell_type": "markdown",
   "id": "a7bcf4fc",
   "metadata": {},
   "source": [
    "##### matching title in steamGames with steamCombinedReview"
   ]
  },
  {
   "cell_type": "code",
   "execution_count": 6,
   "id": "35ed8eae",
   "metadata": {},
   "outputs": [],
   "source": [
    "matchTitleGenre = steamGames_Title_Genre.title.isin(steamCombinedReviews_Title_Reviews.title)\n",
    "steamMatchTitleGenre = steamGames_Title_Genre[matchTitleGenre]"
   ]
  },
  {
   "cell_type": "markdown",
   "id": "d21cd5e6",
   "metadata": {},
   "source": [
    "##### dropping duplicate values"
   ]
  },
  {
   "cell_type": "code",
   "execution_count": 7,
   "id": "82759861",
   "metadata": {},
   "outputs": [
    {
     "name": "stdout",
     "output_type": "stream",
     "text": [
      "<class 'pandas.core.frame.DataFrame'>\n",
      "RangeIndex: 142 entries, 0 to 141\n",
      "Data columns (total 3 columns):\n",
      " #   Column        Non-Null Count  Dtype \n",
      "---  ------        --------------  ----- \n",
      " 0   title         141 non-null    object\n",
      " 1   genre         141 non-null    object\n",
      " 2   release_date  138 non-null    object\n",
      "dtypes: object(3)\n",
      "memory usage: 3.5+ KB\n"
     ]
    },
    {
     "data": {
      "text/html": [
       "<div>\n",
       "<style scoped>\n",
       "    .dataframe tbody tr th:only-of-type {\n",
       "        vertical-align: middle;\n",
       "    }\n",
       "\n",
       "    .dataframe tbody tr th {\n",
       "        vertical-align: top;\n",
       "    }\n",
       "\n",
       "    .dataframe thead th {\n",
       "        text-align: right;\n",
       "    }\n",
       "</style>\n",
       "<table border=\"1\" class=\"dataframe\">\n",
       "  <thead>\n",
       "    <tr style=\"text-align: right;\">\n",
       "      <th></th>\n",
       "      <th>title</th>\n",
       "      <th>genre</th>\n",
       "      <th>release_date</th>\n",
       "    </tr>\n",
       "  </thead>\n",
       "  <tbody>\n",
       "    <tr>\n",
       "      <th>0</th>\n",
       "      <td>playerunknown s battlegrounds</td>\n",
       "      <td>Action,Adventure,Massively Multiplayer</td>\n",
       "      <td>Dec 21, 2017</td>\n",
       "    </tr>\n",
       "    <tr>\n",
       "      <th>1</th>\n",
       "      <td>battletech</td>\n",
       "      <td>Action,Adventure,Strategy</td>\n",
       "      <td>Apr 24, 2018</td>\n",
       "    </tr>\n",
       "    <tr>\n",
       "      <th>2</th>\n",
       "      <td>dayz</td>\n",
       "      <td>Action,Adventure,Massively Multiplayer</td>\n",
       "      <td>Dec 13, 2018</td>\n",
       "    </tr>\n",
       "    <tr>\n",
       "      <th>3</th>\n",
       "      <td>human fall flat</td>\n",
       "      <td>Adventure,Indie</td>\n",
       "      <td>Jul 22, 2016</td>\n",
       "    </tr>\n",
       "    <tr>\n",
       "      <th>4</th>\n",
       "      <td>they are billions</td>\n",
       "      <td>Strategy,Early Access</td>\n",
       "      <td>Dec 12, 2017</td>\n",
       "    </tr>\n",
       "    <tr>\n",
       "      <th>...</th>\n",
       "      <td>...</td>\n",
       "      <td>...</td>\n",
       "      <td>...</td>\n",
       "    </tr>\n",
       "    <tr>\n",
       "      <th>137</th>\n",
       "      <td>transport fever 2</td>\n",
       "      <td>Simulation,Strategy</td>\n",
       "      <td>Q4 2019</td>\n",
       "    </tr>\n",
       "    <tr>\n",
       "      <th>138</th>\n",
       "      <td>halo the master chief collection</td>\n",
       "      <td>Action</td>\n",
       "      <td>Coming Soon</td>\n",
       "    </tr>\n",
       "    <tr>\n",
       "      <th>139</th>\n",
       "      <td>fall guys ultimate knockout</td>\n",
       "      <td>Casual,Indie,Massively Multiplayer,Sports</td>\n",
       "      <td>2020</td>\n",
       "    </tr>\n",
       "    <tr>\n",
       "      <th>140</th>\n",
       "      <td>mount blade ii bannerlord</td>\n",
       "      <td>Action,RPG,Simulation,Strategy</td>\n",
       "      <td>To Be Announced</td>\n",
       "    </tr>\n",
       "    <tr>\n",
       "      <th>141</th>\n",
       "      <td>efootball pes 2020</td>\n",
       "      <td>Sports</td>\n",
       "      <td>Sep 10, 2019</td>\n",
       "    </tr>\n",
       "  </tbody>\n",
       "</table>\n",
       "<p>141 rows × 3 columns</p>\n",
       "</div>"
      ],
      "text/plain": [
       "                                title  \\\n",
       "0       playerunknown s battlegrounds   \n",
       "1                          battletech   \n",
       "2                                dayz   \n",
       "3                     human fall flat   \n",
       "4                   they are billions   \n",
       "..                                ...   \n",
       "137                 transport fever 2   \n",
       "138  halo the master chief collection   \n",
       "139       fall guys ultimate knockout   \n",
       "140         mount blade ii bannerlord   \n",
       "141                efootball pes 2020   \n",
       "\n",
       "                                         genre     release_date  \n",
       "0       Action,Adventure,Massively Multiplayer     Dec 21, 2017  \n",
       "1                    Action,Adventure,Strategy     Apr 24, 2018  \n",
       "2       Action,Adventure,Massively Multiplayer     Dec 13, 2018  \n",
       "3                              Adventure,Indie     Jul 22, 2016  \n",
       "4                        Strategy,Early Access     Dec 12, 2017  \n",
       "..                                         ...              ...  \n",
       "137                        Simulation,Strategy          Q4 2019  \n",
       "138                                     Action      Coming Soon  \n",
       "139  Casual,Indie,Massively Multiplayer,Sports             2020  \n",
       "140             Action,RPG,Simulation,Strategy  To Be Announced  \n",
       "141                                     Sports     Sep 10, 2019  \n",
       "\n",
       "[141 rows x 3 columns]"
      ]
     },
     "execution_count": 7,
     "metadata": {},
     "output_type": "execute_result"
    }
   ],
   "source": [
    "steamUniqueTitleGenre = steamMatchTitleGenre.drop_duplicates(['title'])\n",
    "steamUniqueTitleGenre = steamUniqueTitleGenre.reset_index(drop=True)\n",
    "\n",
    "steamUniqueTitleGenre\n",
    "nan_value = float(\"NaN\")\n",
    "steamUniqueTitleGenre.replace(\"\", nan_value, inplace=True)\n",
    "steamUniqueTitleGenre.info()\n",
    "\n",
    "steamUniqueTitleGenre.dropna(subset = [\"genre\"], inplace=True)\n",
    "steamUniqueTitleGenre\n",
    "#steamUniqueTitleGenre.to_excel(\"output.xlsx\")"
   ]
  },
  {
   "cell_type": "markdown",
   "id": "1ad28e49",
   "metadata": {},
   "source": [
    "##### remove values that we don't use"
   ]
  },
  {
   "cell_type": "code",
   "execution_count": 8,
   "id": "fcceeb72",
   "metadata": {},
   "outputs": [],
   "source": [
    "#steamUniqueTitle.to_excel(\"output.xlsx\")"
   ]
  },
  {
   "cell_type": "code",
   "execution_count": 9,
   "id": "4d0de1a8",
   "metadata": {},
   "outputs": [
    {
     "name": "stderr",
     "output_type": "stream",
     "text": [
      "<ipython-input-9-d9ecd7ece7e5>:1: FutureWarning: The default value of regex will change from True to False in a future version.\n",
      "  steamUniqueTitleGenre['genre'] = steamUniqueTitleGenre.genre.str.replace(',Early Access?', '')\n",
      "<ipython-input-9-d9ecd7ece7e5>:2: FutureWarning: The default value of regex will change from True to False in a future version.\n",
      "  steamUniqueTitleGenre['genre'] = steamUniqueTitleGenre.genre.str.replace(',Massively Multiplayer?', '')\n",
      "<ipython-input-9-d9ecd7ece7e5>:3: FutureWarning: The default value of regex will change from True to False in a future version.\n",
      "  steamUniqueTitleGenre['genre'] = steamUniqueTitleGenre.genre.str.replace('Massively Multiplayer,?', '')\n",
      "<ipython-input-9-d9ecd7ece7e5>:4: FutureWarning: The default value of regex will change from True to False in a future version.\n",
      "  steamUniqueTitleGenre['genre'] = steamUniqueTitleGenre.genre.str.replace(',Free to Play?', '')\n",
      "<ipython-input-9-d9ecd7ece7e5>:5: FutureWarning: The default value of regex will change from True to False in a future version.\n",
      "  steamUniqueTitleGenre['genre'] = steamUniqueTitleGenre.genre.str.replace('Free to Play,?', '')\n"
     ]
    },
    {
     "data": {
      "text/html": [
       "<div>\n",
       "<style scoped>\n",
       "    .dataframe tbody tr th:only-of-type {\n",
       "        vertical-align: middle;\n",
       "    }\n",
       "\n",
       "    .dataframe tbody tr th {\n",
       "        vertical-align: top;\n",
       "    }\n",
       "\n",
       "    .dataframe thead th {\n",
       "        text-align: right;\n",
       "    }\n",
       "</style>\n",
       "<table border=\"1\" class=\"dataframe\">\n",
       "  <thead>\n",
       "    <tr style=\"text-align: right;\">\n",
       "      <th></th>\n",
       "      <th>title</th>\n",
       "      <th>genre</th>\n",
       "      <th>release_date</th>\n",
       "    </tr>\n",
       "  </thead>\n",
       "  <tbody>\n",
       "    <tr>\n",
       "      <th>0</th>\n",
       "      <td>playerunknown s battlegrounds</td>\n",
       "      <td>Action,Adventure</td>\n",
       "      <td>Dec 21, 2017</td>\n",
       "    </tr>\n",
       "    <tr>\n",
       "      <th>1</th>\n",
       "      <td>battletech</td>\n",
       "      <td>Action,Adventure,Strategy</td>\n",
       "      <td>Apr 24, 2018</td>\n",
       "    </tr>\n",
       "    <tr>\n",
       "      <th>2</th>\n",
       "      <td>dayz</td>\n",
       "      <td>Action,Adventure</td>\n",
       "      <td>Dec 13, 2018</td>\n",
       "    </tr>\n",
       "    <tr>\n",
       "      <th>3</th>\n",
       "      <td>human fall flat</td>\n",
       "      <td>Adventure,Indie</td>\n",
       "      <td>Jul 22, 2016</td>\n",
       "    </tr>\n",
       "    <tr>\n",
       "      <th>4</th>\n",
       "      <td>they are billions</td>\n",
       "      <td>Strategy</td>\n",
       "      <td>Dec 12, 2017</td>\n",
       "    </tr>\n",
       "    <tr>\n",
       "      <th>...</th>\n",
       "      <td>...</td>\n",
       "      <td>...</td>\n",
       "      <td>...</td>\n",
       "    </tr>\n",
       "    <tr>\n",
       "      <th>137</th>\n",
       "      <td>transport fever 2</td>\n",
       "      <td>Simulation,Strategy</td>\n",
       "      <td>Q4 2019</td>\n",
       "    </tr>\n",
       "    <tr>\n",
       "      <th>138</th>\n",
       "      <td>halo the master chief collection</td>\n",
       "      <td>Action</td>\n",
       "      <td></td>\n",
       "    </tr>\n",
       "    <tr>\n",
       "      <th>139</th>\n",
       "      <td>fall guys ultimate knockout</td>\n",
       "      <td>Casual,Indie,Sports</td>\n",
       "      <td>2020</td>\n",
       "    </tr>\n",
       "    <tr>\n",
       "      <th>140</th>\n",
       "      <td>mount blade ii bannerlord</td>\n",
       "      <td>Action,RPG,Simulation,Strategy</td>\n",
       "      <td></td>\n",
       "    </tr>\n",
       "    <tr>\n",
       "      <th>141</th>\n",
       "      <td>efootball pes 2020</td>\n",
       "      <td>Sports</td>\n",
       "      <td>Sep 10, 2019</td>\n",
       "    </tr>\n",
       "  </tbody>\n",
       "</table>\n",
       "<p>141 rows × 3 columns</p>\n",
       "</div>"
      ],
      "text/plain": [
       "                                title                           genre  \\\n",
       "0       playerunknown s battlegrounds                Action,Adventure   \n",
       "1                          battletech       Action,Adventure,Strategy   \n",
       "2                                dayz                Action,Adventure   \n",
       "3                     human fall flat                 Adventure,Indie   \n",
       "4                   they are billions                        Strategy   \n",
       "..                                ...                             ...   \n",
       "137                 transport fever 2             Simulation,Strategy   \n",
       "138  halo the master chief collection                          Action   \n",
       "139       fall guys ultimate knockout             Casual,Indie,Sports   \n",
       "140         mount blade ii bannerlord  Action,RPG,Simulation,Strategy   \n",
       "141                efootball pes 2020                          Sports   \n",
       "\n",
       "     release_date  \n",
       "0    Dec 21, 2017  \n",
       "1    Apr 24, 2018  \n",
       "2    Dec 13, 2018  \n",
       "3    Jul 22, 2016  \n",
       "4    Dec 12, 2017  \n",
       "..            ...  \n",
       "137       Q4 2019  \n",
       "138                \n",
       "139          2020  \n",
       "140                \n",
       "141  Sep 10, 2019  \n",
       "\n",
       "[141 rows x 3 columns]"
      ]
     },
     "execution_count": 9,
     "metadata": {},
     "output_type": "execute_result"
    }
   ],
   "source": [
    "steamUniqueTitleGenre['genre'] = steamUniqueTitleGenre.genre.str.replace(',Early Access?', '')\n",
    "steamUniqueTitleGenre['genre'] = steamUniqueTitleGenre.genre.str.replace(',Massively Multiplayer?', '')\n",
    "steamUniqueTitleGenre['genre'] = steamUniqueTitleGenre.genre.str.replace('Massively Multiplayer,?', '')\n",
    "steamUniqueTitleGenre['genre'] = steamUniqueTitleGenre.genre.str.replace(',Free to Play?', '')\n",
    "steamUniqueTitleGenre['genre'] = steamUniqueTitleGenre.genre.str.replace('Free to Play,?', '')\n",
    "\n",
    "steamUniqueTitleGenre['release_date'] = steamUniqueTitleGenre.release_date.str.replace('Early Access' , '')\n",
    "steamUniqueTitleGenre['release_date'] = steamUniqueTitleGenre.release_date.str.replace('Coming Soon' , '')\n",
    "steamUniqueTitleGenre['release_date'] = steamUniqueTitleGenre.release_date.str.replace('To Be Announced' , '')\n",
    "\n",
    "steamUniqueTitleGenre"
   ]
  },
  {
   "cell_type": "markdown",
   "id": "6bfa7bec",
   "metadata": {},
   "source": [
    "##### split genre into 6 columns"
   ]
  },
  {
   "cell_type": "code",
   "execution_count": 10,
   "id": "6335e08d",
   "metadata": {},
   "outputs": [],
   "source": [
    "steamUniqueTitleGenre[['genre1', 'genre2', 'genre3','genre4','genre5','genre6']] = steamUniqueTitleGenre['genre'].str.split(',', expand=True)"
   ]
  },
  {
   "cell_type": "markdown",
   "id": "5a1395cc",
   "metadata": {},
   "source": [
    "##### dropping genre, title, and release date columns to get the total count of genre"
   ]
  },
  {
   "cell_type": "code",
   "execution_count": 12,
   "id": "86aef8d3",
   "metadata": {},
   "outputs": [],
   "source": [
    "steamGenreCount = steamUniqueTitleGenre.drop(columns=['genre','title', 'release_date'])"
   ]
  },
  {
   "cell_type": "markdown",
   "id": "ebc11f7d",
   "metadata": {},
   "source": [
    "##### reset index and rename the column"
   ]
  },
  {
   "cell_type": "code",
   "execution_count": 13,
   "id": "f61a4926",
   "metadata": {},
   "outputs": [
    {
     "data": {
      "text/html": [
       "<div>\n",
       "<style scoped>\n",
       "    .dataframe tbody tr th:only-of-type {\n",
       "        vertical-align: middle;\n",
       "    }\n",
       "\n",
       "    .dataframe tbody tr th {\n",
       "        vertical-align: top;\n",
       "    }\n",
       "\n",
       "    .dataframe thead th {\n",
       "        text-align: right;\n",
       "    }\n",
       "</style>\n",
       "<table border=\"1\" class=\"dataframe\">\n",
       "  <thead>\n",
       "    <tr style=\"text-align: right;\">\n",
       "      <th></th>\n",
       "      <th>genre</th>\n",
       "      <th>count</th>\n",
       "    </tr>\n",
       "  </thead>\n",
       "  <tbody>\n",
       "    <tr>\n",
       "      <th>0</th>\n",
       "      <td>Action</td>\n",
       "      <td>74</td>\n",
       "    </tr>\n",
       "    <tr>\n",
       "      <th>1</th>\n",
       "      <td>Simulation</td>\n",
       "      <td>51</td>\n",
       "    </tr>\n",
       "    <tr>\n",
       "      <th>2</th>\n",
       "      <td>Indie</td>\n",
       "      <td>51</td>\n",
       "    </tr>\n",
       "    <tr>\n",
       "      <th>3</th>\n",
       "      <td>Strategy</td>\n",
       "      <td>46</td>\n",
       "    </tr>\n",
       "    <tr>\n",
       "      <th>4</th>\n",
       "      <td>Adventure</td>\n",
       "      <td>40</td>\n",
       "    </tr>\n",
       "    <tr>\n",
       "      <th>5</th>\n",
       "      <td>RPG</td>\n",
       "      <td>33</td>\n",
       "    </tr>\n",
       "    <tr>\n",
       "      <th>6</th>\n",
       "      <td>Sports</td>\n",
       "      <td>7</td>\n",
       "    </tr>\n",
       "    <tr>\n",
       "      <th>7</th>\n",
       "      <td>Casual</td>\n",
       "      <td>6</td>\n",
       "    </tr>\n",
       "    <tr>\n",
       "      <th>8</th>\n",
       "      <td>Racing</td>\n",
       "      <td>4</td>\n",
       "    </tr>\n",
       "  </tbody>\n",
       "</table>\n",
       "</div>"
      ],
      "text/plain": [
       "        genre  count\n",
       "0      Action     74\n",
       "1  Simulation     51\n",
       "2       Indie     51\n",
       "3    Strategy     46\n",
       "4   Adventure     40\n",
       "5         RPG     33\n",
       "6      Sports      7\n",
       "7      Casual      6\n",
       "8      Racing      4"
      ]
     },
     "execution_count": 13,
     "metadata": {},
     "output_type": "execute_result"
    }
   ],
   "source": [
    "steamGenreGraph = steamGenreCount.stack().value_counts().reset_index()\n",
    "steamGenreGraph.columns = ['genre','count']\n",
    "steamGenreGraph"
   ]
  },
  {
   "cell_type": "markdown",
   "id": "a172ccd0",
   "metadata": {},
   "source": [
    "##### graph to see which genre is most popular "
   ]
  },
  {
   "cell_type": "code",
   "execution_count": 14,
   "id": "e8fc8af9",
   "metadata": {},
   "outputs": [
    {
     "data": {
      "text/plain": [
       "<AxesSubplot:xlabel='genre', ylabel='count'>"
      ]
     },
     "execution_count": 14,
     "metadata": {},
     "output_type": "execute_result"
    },
    {
     "data": {
      "image/png": "[encoded data removed]",
      "text/plain": [
       "<Figure size 1080x432 with 1 Axes>"
      ]
     },
     "metadata": {},
     "output_type": "display_data"
    }
   ],
   "source": [
    "fig_dims = (15, 6)\n",
    "fig, ax = plt.subplots(figsize=fig_dims)\n",
    "sb.barplot(x=\"genre\", y=\"count\", data=steamGenreGraph, ax=ax)"
   ]
  },
  {
   "cell_type": "markdown",
   "id": "0a265dfe",
   "metadata": {},
   "source": [
    "we can see that most popular genres are action, indie and simulation"
   ]
  },
  {
   "cell_type": "code",
   "execution_count": 16,
   "id": "f9d2e940",
   "metadata": {},
   "outputs": [
    {
     "data": {
      "text/html": [
       "<div>\n",
       "<style scoped>\n",
       "    .dataframe tbody tr th:only-of-type {\n",
       "        vertical-align: middle;\n",
       "    }\n",
       "\n",
       "    .dataframe tbody tr th {\n",
       "        vertical-align: top;\n",
       "    }\n",
       "\n",
       "    .dataframe thead th {\n",
       "        text-align: right;\n",
       "    }\n",
       "</style>\n",
       "<table border=\"1\" class=\"dataframe\">\n",
       "  <thead>\n",
       "    <tr style=\"text-align: right;\">\n",
       "      <th></th>\n",
       "      <th>genre</th>\n",
       "      <th>release_date</th>\n",
       "      <th>year</th>\n",
       "    </tr>\n",
       "  </thead>\n",
       "  <tbody>\n",
       "    <tr>\n",
       "      <th>0</th>\n",
       "      <td>Action,Adventure</td>\n",
       "      <td>Dec 21, 2017</td>\n",
       "      <td>2017</td>\n",
       "    </tr>\n",
       "    <tr>\n",
       "      <th>1</th>\n",
       "      <td>Action,Adventure,Strategy</td>\n",
       "      <td>Apr 24, 2018</td>\n",
       "      <td>2018</td>\n",
       "    </tr>\n",
       "    <tr>\n",
       "      <th>2</th>\n",
       "      <td>Action,Adventure</td>\n",
       "      <td>Dec 13, 2018</td>\n",
       "      <td>2018</td>\n",
       "    </tr>\n",
       "    <tr>\n",
       "      <th>3</th>\n",
       "      <td>Adventure,Indie</td>\n",
       "      <td>Jul 22, 2016</td>\n",
       "      <td>2016</td>\n",
       "    </tr>\n",
       "    <tr>\n",
       "      <th>4</th>\n",
       "      <td>Strategy</td>\n",
       "      <td>Dec 12, 2017</td>\n",
       "      <td>2017</td>\n",
       "    </tr>\n",
       "    <tr>\n",
       "      <th>...</th>\n",
       "      <td>...</td>\n",
       "      <td>...</td>\n",
       "      <td>...</td>\n",
       "    </tr>\n",
       "    <tr>\n",
       "      <th>137</th>\n",
       "      <td>Simulation,Strategy</td>\n",
       "      <td>Q4 2019</td>\n",
       "      <td>2019</td>\n",
       "    </tr>\n",
       "    <tr>\n",
       "      <th>138</th>\n",
       "      <td>Action</td>\n",
       "      <td></td>\n",
       "      <td></td>\n",
       "    </tr>\n",
       "    <tr>\n",
       "      <th>139</th>\n",
       "      <td>Casual,Indie,Sports</td>\n",
       "      <td>2020</td>\n",
       "      <td>2020</td>\n",
       "    </tr>\n",
       "    <tr>\n",
       "      <th>140</th>\n",
       "      <td>Action,RPG,Simulation,Strategy</td>\n",
       "      <td></td>\n",
       "      <td></td>\n",
       "    </tr>\n",
       "    <tr>\n",
       "      <th>141</th>\n",
       "      <td>Sports</td>\n",
       "      <td>Sep 10, 2019</td>\n",
       "      <td>2019</td>\n",
       "    </tr>\n",
       "  </tbody>\n",
       "</table>\n",
       "<p>141 rows × 3 columns</p>\n",
       "</div>"
      ],
      "text/plain": [
       "                              genre  release_date  year\n",
       "0                  Action,Adventure  Dec 21, 2017  2017\n",
       "1         Action,Adventure,Strategy  Apr 24, 2018  2018\n",
       "2                  Action,Adventure  Dec 13, 2018  2018\n",
       "3                   Adventure,Indie  Jul 22, 2016  2016\n",
       "4                          Strategy  Dec 12, 2017  2017\n",
       "..                              ...           ...   ...\n",
       "137             Simulation,Strategy       Q4 2019  2019\n",
       "138                          Action                    \n",
       "139             Casual,Indie,Sports          2020  2020\n",
       "140  Action,RPG,Simulation,Strategy                    \n",
       "141                          Sports  Sep 10, 2019  2019\n",
       "\n",
       "[141 rows x 3 columns]"
      ]
     },
     "execution_count": 16,
     "metadata": {},
     "output_type": "execute_result"
    }
   ],
   "source": [
    "# storing last 4 letters of release_date as year\n",
    "steamGenre_Date = steamUniqueTitleGenre\n",
    "steamGenre_Date['year'] = steamGenre_Date['release_date'].str.slice(-4)\n",
    "\n",
    "#dropping unused columns\n",
    "steamGenre_Date = steamUniqueTitleGenre.drop(columns=['title', 'genre1', 'genre2', 'genre3','genre4','genre5','genre6'])\n",
    "steamGenre_Date"
   ]
  },
  {
   "cell_type": "markdown",
   "id": "09e930d7",
   "metadata": {},
   "source": [
    "##### storing the top 3 genre individually"
   ]
  },
  {
   "cell_type": "code",
   "execution_count": 17,
   "id": "44c3b543",
   "metadata": {},
   "outputs": [],
   "source": [
    "action =steamGenre_Date.loc[steamGenre_Date['genre'].str.contains(\"action\", case=False)]\n",
    "indie =steamGenre_Date.loc[steamGenre_Date['genre'].str.contains(\"indie\", case=False)]\n",
    "simulation = steamGenre_Date.loc[steamGenre_Date['genre'].str.contains(\"simulation\", case=False)]"
   ]
  },
  {
   "cell_type": "markdown",
   "id": "4b938ca3",
   "metadata": {},
   "source": [
    "##### converting year to int"
   ]
  },
  {
   "cell_type": "code",
   "execution_count": 18,
   "id": "50e656ba",
   "metadata": {},
   "outputs": [
    {
     "name": "stderr",
     "output_type": "stream",
     "text": [
      "<ipython-input-18-50453b4e2ebd>:1: SettingWithCopyWarning: \n",
      "A value is trying to be set on a copy of a slice from a DataFrame.\n",
      "Try using .loc[row_indexer,col_indexer] = value instead\n",
      "\n",
      "See the caveats in the documentation: https://pandas.pydata.org/pandas-docs/stable/user_guide/indexing.html#returning-a-view-versus-a-copy\n",
      "  action[\"year\"] = pd.to_numeric(action[\"year\"])\n",
      "<ipython-input-18-50453b4e2ebd>:2: SettingWithCopyWarning: \n",
      "A value is trying to be set on a copy of a slice from a DataFrame.\n",
      "Try using .loc[row_indexer,col_indexer] = value instead\n",
      "\n",
      "See the caveats in the documentation: https://pandas.pydata.org/pandas-docs/stable/user_guide/indexing.html#returning-a-view-versus-a-copy\n",
      "  indie[\"year\"] = pd.to_numeric(indie[\"year\"])\n",
      "<ipython-input-18-50453b4e2ebd>:3: SettingWithCopyWarning: \n",
      "A value is trying to be set on a copy of a slice from a DataFrame.\n",
      "Try using .loc[row_indexer,col_indexer] = value instead\n",
      "\n",
      "See the caveats in the documentation: https://pandas.pydata.org/pandas-docs/stable/user_guide/indexing.html#returning-a-view-versus-a-copy\n",
      "  simulation[\"year\"] = pd.to_numeric(simulation[\"year\"])\n",
      "<ipython-input-18-50453b4e2ebd>:5: SettingWithCopyWarning: \n",
      "A value is trying to be set on a copy of a slice from a DataFrame.\n",
      "Try using .loc[row_indexer,col_indexer] = value instead\n",
      "\n",
      "See the caveats in the documentation: https://pandas.pydata.org/pandas-docs/stable/user_guide/indexing.html#returning-a-view-versus-a-copy\n",
      "  action[\"year\"] = action[\"year\"].fillna(0.0).astype(int)\n",
      "<ipython-input-18-50453b4e2ebd>:6: SettingWithCopyWarning: \n",
      "A value is trying to be set on a copy of a slice from a DataFrame.\n",
      "Try using .loc[row_indexer,col_indexer] = value instead\n",
      "\n",
      "See the caveats in the documentation: https://pandas.pydata.org/pandas-docs/stable/user_guide/indexing.html#returning-a-view-versus-a-copy\n",
      "  indie[\"year\"] = indie[\"year\"].fillna(0.0).astype(int)\n",
      "<ipython-input-18-50453b4e2ebd>:7: SettingWithCopyWarning: \n",
      "A value is trying to be set on a copy of a slice from a DataFrame.\n",
      "Try using .loc[row_indexer,col_indexer] = value instead\n",
      "\n",
      "See the caveats in the documentation: https://pandas.pydata.org/pandas-docs/stable/user_guide/indexing.html#returning-a-view-versus-a-copy\n",
      "  simulation[\"year\"] = simulation[\"year\"].fillna(0.0).astype(int)\n"
     ]
    }
   ],
   "source": [
    "action[\"year\"] = pd.to_numeric(action[\"year\"])\n",
    "indie[\"year\"] = pd.to_numeric(indie[\"year\"])\n",
    "simulation[\"year\"] = pd.to_numeric(simulation[\"year\"])\n",
    "\n",
    "action[\"year\"] = action[\"year\"].fillna(0.0).astype(int)\n",
    "indie[\"year\"] = indie[\"year\"].fillna(0.0).astype(int)\n",
    "simulation[\"year\"] = simulation[\"year\"].fillna(0.0).astype(int)\n",
    "\n",
    "action.to_excel(\"output.xlsx\")"
   ]
  },
  {
   "cell_type": "markdown",
   "id": "e1a29a25",
   "metadata": {},
   "source": [
    "##### dropping rows that has 2020 in \"year\" column because it is outlier"
   ]
  },
  {
   "cell_type": "code",
   "execution_count": 19,
   "id": "bcb3148a",
   "metadata": {},
   "outputs": [
    {
     "name": "stderr",
     "output_type": "stream",
     "text": [
      "C:\\Users\\Pyae Pyae\\anaconda3\\lib\\site-packages\\pandas\\core\\frame.py:4308: SettingWithCopyWarning: \n",
      "A value is trying to be set on a copy of a slice from a DataFrame\n",
      "\n",
      "See the caveats in the documentation: https://pandas.pydata.org/pandas-docs/stable/user_guide/indexing.html#returning-a-view-versus-a-copy\n",
      "  return super().drop(\n",
      "C:\\Users\\Pyae Pyae\\anaconda3\\lib\\site-packages\\pandas\\core\\frame.py:4308: SettingWithCopyWarning: \n",
      "A value is trying to be set on a copy of a slice from a DataFrame\n",
      "\n",
      "See the caveats in the documentation: https://pandas.pydata.org/pandas-docs/stable/user_guide/indexing.html#returning-a-view-versus-a-copy\n",
      "  return super().drop(\n",
      "C:\\Users\\Pyae Pyae\\anaconda3\\lib\\site-packages\\pandas\\core\\frame.py:4308: SettingWithCopyWarning: \n",
      "A value is trying to be set on a copy of a slice from a DataFrame\n",
      "\n",
      "See the caveats in the documentation: https://pandas.pydata.org/pandas-docs/stable/user_guide/indexing.html#returning-a-view-versus-a-copy\n",
      "  return super().drop(\n"
     ]
    }
   ],
   "source": [
    "# Get names of indexes for which column action has value 2020\n",
    "indexAction = action[action['year'] == 2020].index\n",
    "# Delete these row indexes from dataFrame\n",
    "indexAction = action.drop(indexAction , inplace=True)\n",
    "\n",
    "# Get names of indexes for which indie action has value 2020\n",
    "indexIndie = indie[indie['year'] == 2020].index\n",
    "# Delete these row indexes from dataFrame\n",
    "indexIndie = indie.drop(indexIndie , inplace=True)\n",
    "\n",
    "# Get names of indexes for which column simulation has value 2020\n",
    "indexSimulation = simulation[simulation['year'] == 2020].index\n",
    "# Delete these row indexes from dataFrame\n",
    "indexIndie = simulation.drop(indexSimulation , inplace=True)\n"
   ]
  },
  {
   "cell_type": "markdown",
   "id": "5fe4d86d",
   "metadata": {},
   "source": [
    "##### grouping data based on year"
   ]
  },
  {
   "cell_type": "code",
   "execution_count": 20,
   "id": "462ceb84",
   "metadata": {},
   "outputs": [],
   "source": [
    "groupedAction = action.groupby(\"year\").count()\n",
    "groupedIndie = indie.groupby(\"year\").count()\n",
    "groupedSimulation = simulation.groupby(\"year\").count()\n",
    "\n",
    "#reset index\n",
    "groupedAction.reset_index(inplace=True)\n",
    "groupedIndie.reset_index(inplace=True)\n",
    "groupedSimulation.reset_index(inplace=True)"
   ]
  },
  {
   "cell_type": "markdown",
   "id": "00937136",
   "metadata": {},
   "source": [
    "##### rename and convert the count to corresponding genre"
   ]
  },
  {
   "cell_type": "code",
   "execution_count": 21,
   "id": "b8a5cdf2",
   "metadata": {},
   "outputs": [],
   "source": [
    "groupedAction = groupedAction.rename(columns={'genre': 'action count'})  # old method  \n",
    "groupedAction['action count'] = groupedAction['action count'].astype(int)\n",
    "\n",
    "groupedIndie = groupedIndie.rename(columns={'genre': 'indie count'})  # old method  \n",
    "groupedIndie['indie count'] = groupedIndie['indie count'].astype(int)\n",
    "\n",
    "groupedSimulation = groupedSimulation.rename(columns={'genre': 'simulation count'})  # old method  \n",
    "groupedSimulation['simulation count'] = groupedSimulation['simulation count'].astype(int)\n",
    "\n",
    "#drop \"release_date\" column\n",
    "groupedAction = groupedAction.drop(columns=['release_date'])\n",
    "groupedIndie = groupedIndie.drop(columns=['release_date'])\n",
    "groupedSimulation = groupedSimulation.drop(columns=['release_date'])\n"
   ]
  },
  {
   "cell_type": "markdown",
   "id": "99a8ab94",
   "metadata": {},
   "source": [
    "##### merge the top 3 dataframes into one for lineplot"
   ]
  },
  {
   "cell_type": "code",
   "execution_count": 22,
   "id": "530e471c",
   "metadata": {},
   "outputs": [
    {
     "data": {
      "text/html": [
       "<div>\n",
       "<style scoped>\n",
       "    .dataframe tbody tr th:only-of-type {\n",
       "        vertical-align: middle;\n",
       "    }\n",
       "\n",
       "    .dataframe tbody tr th {\n",
       "        vertical-align: top;\n",
       "    }\n",
       "\n",
       "    .dataframe thead th {\n",
       "        text-align: right;\n",
       "    }\n",
       "</style>\n",
       "<table border=\"1\" class=\"dataframe\">\n",
       "  <thead>\n",
       "    <tr style=\"text-align: right;\">\n",
       "      <th></th>\n",
       "      <th>year</th>\n",
       "      <th>action count</th>\n",
       "      <th>indie count</th>\n",
       "      <th>simulation count</th>\n",
       "    </tr>\n",
       "  </thead>\n",
       "  <tbody>\n",
       "    <tr>\n",
       "      <th>0</th>\n",
       "      <td>2012</td>\n",
       "      <td>1</td>\n",
       "      <td>2</td>\n",
       "      <td>2</td>\n",
       "    </tr>\n",
       "    <tr>\n",
       "      <th>1</th>\n",
       "      <td>2013</td>\n",
       "      <td>3</td>\n",
       "      <td>1</td>\n",
       "      <td>3</td>\n",
       "    </tr>\n",
       "    <tr>\n",
       "      <th>2</th>\n",
       "      <td>2014</td>\n",
       "      <td>3</td>\n",
       "      <td>3</td>\n",
       "      <td>3</td>\n",
       "    </tr>\n",
       "    <tr>\n",
       "      <th>3</th>\n",
       "      <td>2015</td>\n",
       "      <td>10</td>\n",
       "      <td>5</td>\n",
       "      <td>7</td>\n",
       "    </tr>\n",
       "    <tr>\n",
       "      <th>4</th>\n",
       "      <td>2016</td>\n",
       "      <td>10</td>\n",
       "      <td>11</td>\n",
       "      <td>8</td>\n",
       "    </tr>\n",
       "    <tr>\n",
       "      <th>5</th>\n",
       "      <td>2017</td>\n",
       "      <td>10</td>\n",
       "      <td>5</td>\n",
       "      <td>4</td>\n",
       "    </tr>\n",
       "    <tr>\n",
       "      <th>6</th>\n",
       "      <td>2018</td>\n",
       "      <td>19</td>\n",
       "      <td>13</td>\n",
       "      <td>13</td>\n",
       "    </tr>\n",
       "    <tr>\n",
       "      <th>7</th>\n",
       "      <td>2019</td>\n",
       "      <td>10</td>\n",
       "      <td>8</td>\n",
       "      <td>7</td>\n",
       "    </tr>\n",
       "  </tbody>\n",
       "</table>\n",
       "</div>"
      ],
      "text/plain": [
       "   year  action count  indie count  simulation count\n",
       "0  2012             1            2                 2\n",
       "1  2013             3            1                 3\n",
       "2  2014             3            3                 3\n",
       "3  2015            10            5                 7\n",
       "4  2016            10           11                 8\n",
       "5  2017            10            5                 4\n",
       "6  2018            19           13                13\n",
       "7  2019            10            8                 7"
      ]
     },
     "execution_count": 22,
     "metadata": {},
     "output_type": "execute_result"
    }
   ],
   "source": [
    "genreTimeLine = groupedAction.merge(groupedIndie,on='year').merge(groupedSimulation,on='year')\n",
    "genreTimeLine"
   ]
  },
  {
   "cell_type": "code",
   "execution_count": 23,
   "id": "ae15bc29",
   "metadata": {},
   "outputs": [
    {
     "data": {
      "image/png": "[encoded data removed]",
      "text/plain": [
       "<Figure size 1080x576 with 1 Axes>"
      ]
     },
     "metadata": {},
     "output_type": "display_data"
    }
   ],
   "source": [
    "plt.figure(figsize=(15,8))\n",
    "sb.lineplot(x='year', y='value', hue='variable', \n",
    "             data=pd.melt(genreTimeLine, ['year']))\n",
    "\n",
    "ya = ax.get_yaxis()\n",
    "ya.set_major_locator(MaxNLocator(integer=True))\n",
    "\n",
    "xa = ax.get_xaxis()\n",
    "xa.set_major_locator(MaxNLocator(integer=True))\n",
    "\n",
    "plt.show()"
   ]
  },
  {
   "cell_type": "markdown",
   "id": "76385df1",
   "metadata": {},
   "source": [
    " We can see that there is a sharp drop in 2019. \n",
    " \n",
    " Based on this article, https://gamedaily.biz/article/1489/year-over-year-game-release-numbers-slowed-for-steam-in-2019 , they also said that there is a drop 2019 which is the same as the graph shown above. They mentioned that the drop may be due to the Steam’s notoriously-difficultmarketing and discoverability environment."
   ]
  }
 ],
 "metadata": {
  "kernelspec": {
   "display_name": "Python 3",
   "language": "python",
   "name": "python3"
  },
  "language_info": {
   "codemirror_mode": {
    "name": "ipython",
    "version": 3
   },
   "file_extension": ".py",
   "mimetype": "text/x-python",
   "name": "python",
   "nbconvert_exporter": "python",
   "pygments_lexer": "ipython3",
   "version": "3.8.8"
  }
 },
 "nbformat": 4,
 "nbformat_minor": 5
}
