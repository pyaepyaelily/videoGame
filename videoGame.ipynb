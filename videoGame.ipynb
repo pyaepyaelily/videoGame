{
 "cells": [
  {
   "cell_type": "markdown",
   "id": "52275442",
   "metadata": {},
   "source": [
    "### Libraries"
   ]
  },
  {
   "cell_type": "code",
   "execution_count": 19,
   "id": "a87e7ab6",
   "metadata": {},
   "outputs": [],
   "source": [
    "import glob\n",
    "import os\n",
    "import numpy as np\n",
    "import pandas as pd\n",
    "import seaborn as sb\n",
    "import matplotlib.pyplot as plt # we only need pyplot\n",
    "sb.set() # set the default Seaborn style for graphics"
   ]
  },
  {
   "cell_type": "markdown",
   "id": "627e0ead",
   "metadata": {},
   "source": [
    "### Dataset"
   ]
  },
  {
   "cell_type": "code",
   "execution_count": 17,
   "id": "e09e7cc5",
   "metadata": {},
   "outputs": [],
   "source": [
    "steamData = pd.read_csv('steam_data/steam.csv')\n",
    "steamSupportInfo = pd.read_csv('steam_data/steam_support_info.csv')\n",
    "steamChart = pd.read_csv('steam_data/steamCharts.csv')\n",
    "steamSpyTagData = pd.read_csv('steam_data/steamspy_tag_data.csv')\n",
    "steamGames = pd.concat(map(pd.read_csv, glob.glob(os.path.join('', \"steam_data/steam_games/steam_games*.csv\"))))"
   ]
  },
  {
   "cell_type": "code",
   "execution_count": 26,
   "id": "b5208ccb",
   "metadata": {},
   "outputs": [],
   "source": [
    "steamMediaData = pd.concat(map(pd.read_csv, glob.glob(os.path.join('', \"steam_data/steam_media_data/steam_media_data*.csv\"))))"
   ]
  },
  {
   "cell_type": "code",
   "execution_count": 27,
   "id": "dbbe9d88",
   "metadata": {},
   "outputs": [
    {
     "data": {
      "text/plain": [
       "<bound method DataFrame.info of       steam_appid                                       header_image  \\\n",
       "0              10  https://steamcdn-a.akamaihd.net/steam/apps/10/...   \n",
       "1              20  https://steamcdn-a.akamaihd.net/steam/apps/20/...   \n",
       "2              30  https://steamcdn-a.akamaihd.net/steam/apps/30/...   \n",
       "3              40  https://steamcdn-a.akamaihd.net/steam/apps/40/...   \n",
       "4              50  https://steamcdn-a.akamaihd.net/steam/apps/50/...   \n",
       "...           ...                                                ...   \n",
       "1327      1065230  https://steamcdn-a.akamaihd.net/steam/apps/106...   \n",
       "1328      1065570  https://steamcdn-a.akamaihd.net/steam/apps/106...   \n",
       "1329      1065650  https://steamcdn-a.akamaihd.net/steam/apps/106...   \n",
       "1330      1066700  https://steamcdn-a.akamaihd.net/steam/apps/106...   \n",
       "1331      1069460  https://steamcdn-a.akamaihd.net/steam/apps/106...   \n",
       "\n",
       "                                            screenshots  \\\n",
       "0     [{'id': 0, 'path_thumbnail': 'https://steamcdn...   \n",
       "1     [{'id': 0, 'path_thumbnail': 'https://steamcdn...   \n",
       "2     [{'id': 0, 'path_thumbnail': 'https://steamcdn...   \n",
       "3     [{'id': 0, 'path_thumbnail': 'https://steamcdn...   \n",
       "4     [{'id': 0, 'path_thumbnail': 'https://steamcdn...   \n",
       "...                                                 ...   \n",
       "1327  [{'id': 0, 'path_thumbnail': 'https://steamcdn...   \n",
       "1328  [{'id': 0, 'path_thumbnail': 'https://steamcdn...   \n",
       "1329  [{'id': 0, 'path_thumbnail': 'https://steamcdn...   \n",
       "1330  [{'id': 0, 'path_thumbnail': 'https://steamcdn...   \n",
       "1331  [{'id': 0, 'path_thumbnail': 'https://steamcdn...   \n",
       "\n",
       "                                             background  \\\n",
       "0     https://steamcdn-a.akamaihd.net/steam/apps/10/...   \n",
       "1     https://steamcdn-a.akamaihd.net/steam/apps/20/...   \n",
       "2     https://steamcdn-a.akamaihd.net/steam/apps/30/...   \n",
       "3     https://steamcdn-a.akamaihd.net/steam/apps/40/...   \n",
       "4     https://steamcdn-a.akamaihd.net/steam/apps/50/...   \n",
       "...                                                 ...   \n",
       "1327  https://steamcdn-a.akamaihd.net/steam/apps/106...   \n",
       "1328  https://steamcdn-a.akamaihd.net/steam/apps/106...   \n",
       "1329  https://steamcdn-a.akamaihd.net/steam/apps/106...   \n",
       "1330  https://steamcdn-a.akamaihd.net/steam/apps/106...   \n",
       "1331  https://steamcdn-a.akamaihd.net/steam/apps/106...   \n",
       "\n",
       "                                                 movies  \n",
       "0                                                   NaN  \n",
       "1                                                   NaN  \n",
       "2                                                   NaN  \n",
       "3                                                   NaN  \n",
       "4                                                   NaN  \n",
       "...                                                 ...  \n",
       "1327  [{'id': 256747452, 'name': 'Video', 'thumbnail...  \n",
       "1328  [{'id': 256747487, 'name': 'Game Trailer', 'th...  \n",
       "1329  [{'id': 256747530, 'name': 'Gameplay Trailer',...  \n",
       "1330  [{'id': 256747638, 'name': 'Main Trailer', 'th...  \n",
       "1331  [{'id': 256748098, 'name': 'Main Trailer', 'th...  \n",
       "\n",
       "[27332 rows x 5 columns]>"
      ]
     },
     "execution_count": 27,
     "metadata": {},
     "output_type": "execute_result"
    }
   ],
   "source": [
    "steamMediaData.info"
   ]
  },
  {
   "cell_type": "code",
   "execution_count": null,
   "id": "625bac3d",
   "metadata": {},
   "outputs": [],
   "source": []
  }
 ],
 "metadata": {
  "kernelspec": {
   "display_name": "Python 3",
   "language": "python",
   "name": "python3"
  },
  "language_info": {
   "codemirror_mode": {
    "name": "ipython",
    "version": 3
   },
   "file_extension": ".py",
   "mimetype": "text/x-python",
   "name": "python",
   "nbconvert_exporter": "python",
   "pygments_lexer": "ipython3",
   "version": "3.8.8"
  }
 },
 "nbformat": 4,
 "nbformat_minor": 5
}
