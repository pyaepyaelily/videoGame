{
 "cells": [
  {
   "cell_type": "markdown",
   "id": "7792f2c2",
   "metadata": {},
   "source": [
    "### Libraries"
   ]
  },
  {
   "cell_type": "code",
   "execution_count": 1,
   "id": "57adff21",
   "metadata": {},
   "outputs": [],
   "source": [
    "import glob\n",
    "import os\n",
    "import numpy as np\n",
    "import pandas as pd\n",
    "import seaborn as sb\n",
    "import matplotlib.pyplot as plt # we only need pyplot\n",
    "import texthero as hero\n",
    "from texthero import preprocessing\n",
    "from texthero import stopwords\n",
    "sb.set() # set the default Seaborn style for graphics\n",
    "from matplotlib.ticker import FuncFormatter, MaxNLocator\n",
    "import matplotlib.dates as mdates"
   ]
  },
  {
   "cell_type": "markdown",
   "id": "8a01b895",
   "metadata": {},
   "source": [
    "### Chunking CSV to upload onto GitHub"
   ]
  },
  {
   "cell_type": "markdown",
   "id": "4c622cd1",
   "metadata": {},
   "source": [
    "import pandas as pd\n",
    "\n",
    "chunk_size = 55000\n",
    "batch_no = 1\n",
    "\n",
    "for chunk in pd.read_csv('221100_DayZ.csv', chunksize=chunk_size):\n",
    "    #chunk.to_csv('221100_DayZ' + str(batch_no) + '.csv', index=False)\n",
    "    #batch_no +=1"
   ]
  },
  {
   "cell_type": "markdown",
   "id": "06c1ffed",
   "metadata": {},
   "source": [
    "### Dataset"
   ]
  },
  {
   "cell_type": "code",
   "execution_count": 64,
   "id": "73fac1a9",
   "metadata": {},
   "outputs": [
    {
     "name": "stdout",
     "output_type": "stream",
     "text": [
      "191\n"
     ]
    }
   ],
   "source": [
    "steamData = pd.read_csv('steam_data/steam.csv')\n",
    "#steamSupportInfo = pd.read_csv('steam_data/steam_support_info.csv')\n",
    "#steamChart = pd.read_csv('steam_data/steamCharts.csv')\n",
    "#steamSpyTagData = pd.read_csv('steam_data/steamspy_tag_data.csv')\n",
    "steamGames = pd.concat(map(pd.read_csv, glob.glob(os.path.join('', \"steam_data/steam_games/steam_games*.csv\"))))\n",
    "#steamMediaData = pd.concat(map(pd.read_csv, glob.glob(os.path.join('', \"steam_data/steam_media_data/steam_media_data*.csv\"))))\n",
    "#steamRequirements = pd.concat(map(pd.read_csv, glob.glob(os.path.join('', \"steam_data/steam_requirements/steam_requirements*.csv\"))))\n",
    "#steamDescription = pd.concat(map(pd.read_csv, glob.glob(os.path.join('', \"steam_data/steam_description/steam_description*.csv\"))))\n",
    "\n",
    "#game reviews\n",
    "#steam_HalfOfTheGameReviews = pd.concat(map(pd.read_csv, glob.glob(os.path.join('', \"steam_data/steam_reviews/steam_review_*.csv\"))))\n",
    "#files = glob.glob(\"steam_data/steam_reviews\" + '**/**' + \"/*.csv\")\n",
    "#steamReviews_fromFolder = pd.concat([pd.read_csv(f) for f in files ])\n",
    "#steamReviewsDF = [steam_HalfOfTheGameReviews, steamReviews_fromFolder]\n",
    "#steamCombinedReviews = pd.concat(steamReviewsDF)\n",
    "\n",
    "\n",
    "#game reviews\n",
    "firstHalfReviewFiles =glob.glob(os.path.join('', \"steam_data/steam_reviews/steam_review_*.csv\"))\n",
    "secondHalfReviewFiles = glob.glob(\"steam_data/steam_reviews\" + '**/**' + \"/*.csv\")\n",
    "allReviewFiles = firstHalfReviewFiles + secondHalfReviewFiles\n",
    "print(len(allReviewFiles))"
   ]
  },
  {
   "cell_type": "markdown",
   "id": "cbd1e37d",
   "metadata": {},
   "source": [
    "### Cleaning the Dataset"
   ]
  },
  {
   "cell_type": "markdown",
   "id": "60ff63bf",
   "metadata": {},
   "source": [
    "##### renaming and getting the columns we need"
   ]
  },
  {
   "cell_type": "code",
   "execution_count": 65,
   "id": "faaa72a8",
   "metadata": {},
   "outputs": [],
   "source": [
    "#rename for easier identification\n",
    "steamGames = steamGames.rename(columns={\"name\": \"title\"})\n",
    "steamData = steamData.rename(columns={\"name\": \"title\", \"genres\":\"genre\"})\n",
    "\n",
    "#drop columns\n",
    "steamGames = steamGames[[\"title\", \"genre\",\"release_date\"]]\n",
    "steamData = steamData[['title', 'genre', 'release_date','owners','positive_ratings', 'negative_ratings','price']]\n",
    "\n",
    "#Check got any NA, if got drop\n",
    "#steamGames.isna().sum()\n",
    "#steamGames[steamGames['title'].isnull()]\n",
    "steamGames = steamGames.dropna()\n",
    "\n",
    "#steamData.isna().sum()"
   ]
  },
  {
   "cell_type": "markdown",
   "id": "cc30ef5e",
   "metadata": {},
   "source": [
    "#####  text processing using texthero"
   ]
  },
  {
   "cell_type": "code",
   "execution_count": 66,
   "id": "38193072",
   "metadata": {},
   "outputs": [],
   "source": [
    "#text processing for reviews\n",
    "default_stopwords = stopwords.DEFAULT\n",
    "custom_stopwords = default_stopwords.union(set([\"game\",\"mods\",\"/\"]))\n",
    "\n",
    "custom_pipeline_review = [preprocessing.fillna\n",
    "                          , preprocessing.lowercase\n",
    "                          , preprocessing.remove_punctuation\n",
    "                          , preprocessing.remove_diacritics\n",
    "                          , preprocessing.remove_whitespace\n",
    "                          ,preprocessing.remove_digits]\n",
    "                          #, preprocessing.drop_no_content]"
   ]
  },
  {
   "cell_type": "code",
   "execution_count": 67,
   "id": "84f0741f",
   "metadata": {},
   "outputs": [],
   "source": [
    "#text processing for title\n",
    "custom_pipeline = [preprocessing.fillna\n",
    "                   , preprocessing.lowercase\n",
    "                   , preprocessing.remove_punctuation\n",
    "                   , preprocessing.remove_diacritics\n",
    "                   , preprocessing.remove_whitespace]\n",
    "\n",
    "steamGames['title'] = hero.clean(steamGames['title'], pipeline = custom_pipeline)\n",
    "steamData['title'] = hero.clean(steamData['title'], pipeline = custom_pipeline)"
   ]
  },
  {
   "cell_type": "code",
   "execution_count": null,
   "id": "e497ea63",
   "metadata": {},
   "outputs": [],
   "source": [
    "# def chunks(lst, n):\n",
    "#     #Yield successive n-sized chunks from lst\n",
    "#     for i in range(0, len(lst), n):\n",
    "#         yield lst[i:i + n]\n",
    "\n",
    "# listofDF = list()\n",
    "# for files in chunks(allReviewFiles,20):\n",
    "#     reviewsDF = pd.concat([pd.read_csv(f, encoding = \"ISO-8859-1\", engine='python') for f in files])\n",
    "#     reviewsDF = reviewsDF[[\"title\", \"review\",\"voted_up\"]]\n",
    "#     reviewsDF = reviewsDF.reset_index(drop=True)\n",
    "    \n",
    "    \n",
    "    \n",
    "#     titleSerie = hero.clean(reviewsDF.title, pipeline = custom_pipeline)\n",
    "#     reviewSerie = hero.clean(reviewsDF.review, pipeline=custom_pipeline_review)\n",
    "#     reviewSerie = hero.remove_stopwords(reviewSerie, custom_stopwords)\n",
    "#     voteSerie = reviewsDF[[\"voted_up\"]]\n",
    "    \n",
    "    \n",
    "#     reviewsTitle = pd.concat([titleSerie, reviewSerie, voteSerie], axis=1).reset_index(drop=True)\n",
    "\n",
    "#     listofDF.append(reviewsTitle)"
   ]
  },
  {
   "cell_type": "code",
   "execution_count": null,
   "id": "ff9bf03e",
   "metadata": {},
   "outputs": [],
   "source": [
    "#reviewTitleDF = pd.concat(listofDF)"
   ]
  },
  {
   "cell_type": "code",
   "execution_count": null,
   "id": "edf0bc20",
   "metadata": {},
   "outputs": [],
   "source": [
    "#reviewTitleDF.title.unique()"
   ]
  },
  {
   "cell_type": "markdown",
   "id": "465f6e24",
   "metadata": {},
   "source": [
    "##### stored clean reviewTitle df in HDFStore as processing take about 11 minutes"
   ]
  },
  {
   "cell_type": "code",
   "execution_count": 6,
   "id": "48f6fa10",
   "metadata": {},
   "outputs": [],
   "source": [
    "store = pd.HDFStore('store.h5')\n",
    "#store['reviewTitleDF'] = reviewTitleDF  # save it"
   ]
  },
  {
   "cell_type": "code",
   "execution_count": 7,
   "id": "7406635b",
   "metadata": {},
   "outputs": [],
   "source": [
    "#this take a while to load also but faster than processing\n",
    "storedReviewsTitleDF = store['reviewTitleDF'] #load it"
   ]
  },
  {
   "cell_type": "code",
   "execution_count": 8,
   "id": "1c474b27",
   "metadata": {},
   "outputs": [],
   "source": [
    "cleanReviewsTitle = storedReviewsTitleDF.rename(columns={\"review\": \"clean_review\"})\n",
    "#cleanReviewsTitle\n",
    "\n",
    "#convert any blank row to na and drop them\n",
    "cleanReviewsTitle = cleanReviewsTitle.replace(r'^\\s+$', np.nan, regex=True)\n",
    "\n",
    "#cleanReviewsTitle.isna().sum()\n",
    "#cleanReviewsTitle[cleanReviewsTitle['voted_up'].isnull()]\n",
    "cleanReviewsTitle = cleanReviewsTitle.dropna()\n",
    "\n",
    "# cleanReviewsTitle.isna().sum()\n",
    "# cleanReviewsTitle.isnull().values.any()"
   ]
  },
  {
   "cell_type": "markdown",
   "id": "cdc2e041",
   "metadata": {},
   "source": [
    "##### putting the data into another dataframe "
   ]
  },
  {
   "cell_type": "code",
   "execution_count": 68,
   "id": "ac9b28c2",
   "metadata": {},
   "outputs": [],
   "source": [
    "steamGames_Title_Genre = steamGames\n",
    "steamData_Title_Rating = steamData"
   ]
  },
  {
   "cell_type": "markdown",
   "id": "a7bcf4fc",
   "metadata": {},
   "source": [
    "##### matching title"
   ]
  },
  {
   "cell_type": "code",
   "execution_count": 69,
   "id": "35ed8eae",
   "metadata": {},
   "outputs": [],
   "source": [
    "#Genre\n",
    "matchTitleGenre = steamGames_Title_Genre.title.isin(cleanReviewsTitle.title)\n",
    "steamMatchTitleGenre = steamGames_Title_Genre[matchTitleGenre]\n",
    "steamUniqueTitleGenre = steamMatchTitleGenre\n",
    "\n",
    "#Rating\n",
    "matchTitleRating = steamData_Title_Rating.title.isin(cleanReviewsTitle.title)\n",
    "steamMatchTitleRating = steamData_Title_Rating[matchTitleRating]\n",
    "steamUniqueTitleRating = steamMatchTitleRating"
   ]
  },
  {
   "cell_type": "markdown",
   "id": "1ad28e49",
   "metadata": {},
   "source": [
    "##### remove values that we don't use"
   ]
  },
  {
   "cell_type": "code",
   "execution_count": 70,
   "id": "4d0de1a8",
   "metadata": {},
   "outputs": [
    {
     "name": "stderr",
     "output_type": "stream",
     "text": [
      "<ipython-input-70-79a5f394d0a3>:2: FutureWarning: The default value of regex will change from True to False in a future version.\n",
      "  steamUniqueTitleGenre['genre'] = steamUniqueTitleGenre.genre.str.replace(',Early Access?', '')\n",
      "<ipython-input-70-79a5f394d0a3>:2: SettingWithCopyWarning: \n",
      "A value is trying to be set on a copy of a slice from a DataFrame.\n",
      "Try using .loc[row_indexer,col_indexer] = value instead\n",
      "\n",
      "See the caveats in the documentation: https://pandas.pydata.org/pandas-docs/stable/user_guide/indexing.html#returning-a-view-versus-a-copy\n",
      "  steamUniqueTitleGenre['genre'] = steamUniqueTitleGenre.genre.str.replace(',Early Access?', '')\n",
      "<ipython-input-70-79a5f394d0a3>:3: FutureWarning: The default value of regex will change from True to False in a future version.\n",
      "  steamUniqueTitleGenre['genre'] = steamUniqueTitleGenre.genre.str.replace('Early Access,?', '')\n",
      "<ipython-input-70-79a5f394d0a3>:3: SettingWithCopyWarning: \n",
      "A value is trying to be set on a copy of a slice from a DataFrame.\n",
      "Try using .loc[row_indexer,col_indexer] = value instead\n",
      "\n",
      "See the caveats in the documentation: https://pandas.pydata.org/pandas-docs/stable/user_guide/indexing.html#returning-a-view-versus-a-copy\n",
      "  steamUniqueTitleGenre['genre'] = steamUniqueTitleGenre.genre.str.replace('Early Access,?', '')\n",
      "<ipython-input-70-79a5f394d0a3>:4: FutureWarning: The default value of regex will change from True to False in a future version.\n",
      "  steamUniqueTitleGenre['genre'] = steamUniqueTitleGenre.genre.str.replace(',Free to Play?', '')\n",
      "<ipython-input-70-79a5f394d0a3>:4: SettingWithCopyWarning: \n",
      "A value is trying to be set on a copy of a slice from a DataFrame.\n",
      "Try using .loc[row_indexer,col_indexer] = value instead\n",
      "\n",
      "See the caveats in the documentation: https://pandas.pydata.org/pandas-docs/stable/user_guide/indexing.html#returning-a-view-versus-a-copy\n",
      "  steamUniqueTitleGenre['genre'] = steamUniqueTitleGenre.genre.str.replace(',Free to Play?', '')\n",
      "<ipython-input-70-79a5f394d0a3>:5: FutureWarning: The default value of regex will change from True to False in a future version.\n",
      "  steamUniqueTitleGenre['genre'] = steamUniqueTitleGenre.genre.str.replace('Free to Play,?', '')\n",
      "<ipython-input-70-79a5f394d0a3>:5: SettingWithCopyWarning: \n",
      "A value is trying to be set on a copy of a slice from a DataFrame.\n",
      "Try using .loc[row_indexer,col_indexer] = value instead\n",
      "\n",
      "See the caveats in the documentation: https://pandas.pydata.org/pandas-docs/stable/user_guide/indexing.html#returning-a-view-versus-a-copy\n",
      "  steamUniqueTitleGenre['genre'] = steamUniqueTitleGenre.genre.str.replace('Free to Play,?', '')\n",
      "<ipython-input-70-79a5f394d0a3>:7: SettingWithCopyWarning: \n",
      "A value is trying to be set on a copy of a slice from a DataFrame.\n",
      "Try using .loc[row_indexer,col_indexer] = value instead\n",
      "\n",
      "See the caveats in the documentation: https://pandas.pydata.org/pandas-docs/stable/user_guide/indexing.html#returning-a-view-versus-a-copy\n",
      "  steamUniqueTitleGenre['release_date'] = steamUniqueTitleGenre.release_date.str.replace('Early Access' , '')\n",
      "<ipython-input-70-79a5f394d0a3>:8: SettingWithCopyWarning: \n",
      "A value is trying to be set on a copy of a slice from a DataFrame.\n",
      "Try using .loc[row_indexer,col_indexer] = value instead\n",
      "\n",
      "See the caveats in the documentation: https://pandas.pydata.org/pandas-docs/stable/user_guide/indexing.html#returning-a-view-versus-a-copy\n",
      "  steamUniqueTitleGenre['release_date'] = steamUniqueTitleGenre.release_date.str.replace('Coming Soon' , '')\n",
      "<ipython-input-70-79a5f394d0a3>:9: SettingWithCopyWarning: \n",
      "A value is trying to be set on a copy of a slice from a DataFrame.\n",
      "Try using .loc[row_indexer,col_indexer] = value instead\n",
      "\n",
      "See the caveats in the documentation: https://pandas.pydata.org/pandas-docs/stable/user_guide/indexing.html#returning-a-view-versus-a-copy\n",
      "  steamUniqueTitleGenre['release_date'] = steamUniqueTitleGenre.release_date.str.replace('To Be Announced' , '')\n",
      "<ipython-input-70-79a5f394d0a3>:14: FutureWarning: The default value of regex will change from True to False in a future version.\n",
      "  steamUniqueTitleRating['genre'] = steamUniqueTitleRating.genre.str.replace(';Early Access?', '')\n",
      "<ipython-input-70-79a5f394d0a3>:14: SettingWithCopyWarning: \n",
      "A value is trying to be set on a copy of a slice from a DataFrame.\n",
      "Try using .loc[row_indexer,col_indexer] = value instead\n",
      "\n",
      "See the caveats in the documentation: https://pandas.pydata.org/pandas-docs/stable/user_guide/indexing.html#returning-a-view-versus-a-copy\n",
      "  steamUniqueTitleRating['genre'] = steamUniqueTitleRating.genre.str.replace(';Early Access?', '')\n",
      "<ipython-input-70-79a5f394d0a3>:15: FutureWarning: The default value of regex will change from True to False in a future version.\n",
      "  steamUniqueTitleRating['genre'] = steamUniqueTitleRating.genre.str.replace('Early Access;?', '')\n",
      "<ipython-input-70-79a5f394d0a3>:15: SettingWithCopyWarning: \n",
      "A value is trying to be set on a copy of a slice from a DataFrame.\n",
      "Try using .loc[row_indexer,col_indexer] = value instead\n",
      "\n",
      "See the caveats in the documentation: https://pandas.pydata.org/pandas-docs/stable/user_guide/indexing.html#returning-a-view-versus-a-copy\n",
      "  steamUniqueTitleRating['genre'] = steamUniqueTitleRating.genre.str.replace('Early Access;?', '')\n",
      "<ipython-input-70-79a5f394d0a3>:16: FutureWarning: The default value of regex will change from True to False in a future version.\n",
      "  steamUniqueTitleRating['genre'] = steamUniqueTitleRating.genre.str.replace(';Free to Play?', '')\n",
      "<ipython-input-70-79a5f394d0a3>:16: SettingWithCopyWarning: \n",
      "A value is trying to be set on a copy of a slice from a DataFrame.\n",
      "Try using .loc[row_indexer,col_indexer] = value instead\n",
      "\n",
      "See the caveats in the documentation: https://pandas.pydata.org/pandas-docs/stable/user_guide/indexing.html#returning-a-view-versus-a-copy\n",
      "  steamUniqueTitleRating['genre'] = steamUniqueTitleRating.genre.str.replace(';Free to Play?', '')\n",
      "<ipython-input-70-79a5f394d0a3>:17: FutureWarning: The default value of regex will change from True to False in a future version.\n",
      "  steamUniqueTitleRating['genre'] = steamUniqueTitleRating.genre.str.replace('Free to Play;?', '')\n",
      "<ipython-input-70-79a5f394d0a3>:17: SettingWithCopyWarning: \n",
      "A value is trying to be set on a copy of a slice from a DataFrame.\n",
      "Try using .loc[row_indexer,col_indexer] = value instead\n",
      "\n",
      "See the caveats in the documentation: https://pandas.pydata.org/pandas-docs/stable/user_guide/indexing.html#returning-a-view-versus-a-copy\n",
      "  steamUniqueTitleRating['genre'] = steamUniqueTitleRating.genre.str.replace('Free to Play;?', '')\n"
     ]
    }
   ],
   "source": [
    "#Genre\n",
    "steamUniqueTitleGenre['genre'] = steamUniqueTitleGenre.genre.str.replace(',Early Access?', '')\n",
    "steamUniqueTitleGenre['genre'] = steamUniqueTitleGenre.genre.str.replace('Early Access,?', '')\n",
    "steamUniqueTitleGenre['genre'] = steamUniqueTitleGenre.genre.str.replace(',Free to Play?', '')\n",
    "steamUniqueTitleGenre['genre'] = steamUniqueTitleGenre.genre.str.replace('Free to Play,?', '')\n",
    "\n",
    "steamUniqueTitleGenre['release_date'] = steamUniqueTitleGenre.release_date.str.replace('Early Access' , '')\n",
    "steamUniqueTitleGenre['release_date'] = steamUniqueTitleGenre.release_date.str.replace('Coming Soon' , '')\n",
    "steamUniqueTitleGenre['release_date'] = steamUniqueTitleGenre.release_date.str.replace('To Be Announced' , '')\n",
    "\n",
    "#steamUniqueTitleGenre.to_excel(\"steamUniqueTitleGenre.xlsx\")\n",
    "\n",
    "#Rating\n",
    "steamUniqueTitleRating['genre'] = steamUniqueTitleRating.genre.str.replace(';Early Access?', '')\n",
    "steamUniqueTitleRating['genre'] = steamUniqueTitleRating.genre.str.replace('Early Access;?', '')\n",
    "steamUniqueTitleRating['genre'] = steamUniqueTitleRating.genre.str.replace(';Free to Play?', '')\n",
    "steamUniqueTitleRating['genre'] = steamUniqueTitleRating.genre.str.replace('Free to Play;?', '')\n",
    "\n",
    "#steamUniqueTitleRating.to_excel(\"steamUniqueTitleRating.xlsx\")"
   ]
  },
  {
   "cell_type": "markdown",
   "id": "740f2cbb",
   "metadata": {},
   "source": [
    "### Genre"
   ]
  },
  {
   "cell_type": "markdown",
   "id": "6bfa7bec",
   "metadata": {},
   "source": [
    "##### split genre into 6 columns"
   ]
  },
  {
   "cell_type": "code",
   "execution_count": null,
   "id": "6335e08d",
   "metadata": {},
   "outputs": [],
   "source": [
    "steamUniqueTitleGenre[['genre1', 'genre2', 'genre3','genre4','genre5','genre6']] = steamUniqueTitleGenre['genre'].str.split(',', expand=True)"
   ]
  },
  {
   "cell_type": "code",
   "execution_count": null,
   "id": "22649620",
   "metadata": {},
   "outputs": [],
   "source": [
    "steamUniqueTitleGenre.dtypes"
   ]
  },
  {
   "cell_type": "markdown",
   "id": "5a1395cc",
   "metadata": {},
   "source": [
    "##### dropping genre, title, and release date columns to get the total count of genre"
   ]
  },
  {
   "cell_type": "code",
   "execution_count": null,
   "id": "86aef8d3",
   "metadata": {},
   "outputs": [],
   "source": [
    "steamGenreCount = steamUniqueTitleGenre.drop(columns=['genre','title', 'release_date'])"
   ]
  },
  {
   "cell_type": "markdown",
   "id": "ebc11f7d",
   "metadata": {},
   "source": [
    "##### reset index and rename the column"
   ]
  },
  {
   "cell_type": "code",
   "execution_count": null,
   "id": "f61a4926",
   "metadata": {},
   "outputs": [],
   "source": [
    "steamGenreGraph = steamGenreCount.stack().value_counts().reset_index()\n",
    "steamGenreGraph.columns = ['genre','count']\n",
    "steamGenreGraph"
   ]
  },
  {
   "cell_type": "markdown",
   "id": "a172ccd0",
   "metadata": {},
   "source": [
    "##### graph to see which genre is most popular "
   ]
  },
  {
   "cell_type": "code",
   "execution_count": null,
   "id": "e8fc8af9",
   "metadata": {},
   "outputs": [],
   "source": [
    "fig_dims = (15, 6)\n",
    "fig, ax = plt.subplots(figsize=fig_dims)\n",
    "sb.barplot(x=\"genre\", y=\"count\", data=steamGenreGraph, ax=ax)"
   ]
  },
  {
   "cell_type": "markdown",
   "id": "0a265dfe",
   "metadata": {},
   "source": [
    "we can see that most of the games' genres are action, indie and simulation. Hence, We can conclude that players are most likely to play these genres compared to the rest."
   ]
  },
  {
   "cell_type": "code",
   "execution_count": null,
   "id": "f9d2e940",
   "metadata": {},
   "outputs": [],
   "source": [
    "# storing last 4 letters of release_date as year\n",
    "steamGenre_Date = steamUniqueTitleGenre\n",
    "steamGenre_Date['year'] = steamGenre_Date['release_date'].str.slice(-4)\n",
    "\n",
    "#dropping unused columns\n",
    "steamGenre_Date = steamUniqueTitleGenre.drop(columns=['title', 'genre1', 'genre2', 'genre3','genre4','genre5','genre6'])\n",
    "steamGenre_Date"
   ]
  },
  {
   "cell_type": "markdown",
   "id": "09e930d7",
   "metadata": {},
   "source": [
    "##### storing the top 3 genre individually"
   ]
  },
  {
   "cell_type": "code",
   "execution_count": null,
   "id": "44c3b543",
   "metadata": {},
   "outputs": [],
   "source": [
    "action =steamGenre_Date.loc[steamGenre_Date['genre'].str.contains(\"action\", case=False)]\n",
    "indie =steamGenre_Date.loc[steamGenre_Date['genre'].str.contains(\"indie\", case=False)]\n",
    "simulation = steamGenre_Date.loc[steamGenre_Date['genre'].str.contains(\"simulation\", case=False)]"
   ]
  },
  {
   "cell_type": "markdown",
   "id": "4b938ca3",
   "metadata": {},
   "source": [
    "##### converting year to int"
   ]
  },
  {
   "cell_type": "code",
   "execution_count": null,
   "id": "50e656ba",
   "metadata": {},
   "outputs": [],
   "source": [
    "action[\"year\"] = pd.to_numeric(action[\"year\"])\n",
    "indie[\"year\"] = pd.to_numeric(indie[\"year\"])\n",
    "simulation[\"year\"] = pd.to_numeric(simulation[\"year\"])\n",
    "\n",
    "action[\"year\"] = action[\"year\"].fillna(0.0).astype(int)\n",
    "indie[\"year\"] = indie[\"year\"].fillna(0.0).astype(int)\n",
    "simulation[\"year\"] = simulation[\"year\"].fillna(0.0).astype(int)"
   ]
  },
  {
   "cell_type": "markdown",
   "id": "e1a29a25",
   "metadata": {},
   "source": [
    "##### dropping rows that has 2020 in \"year\" column because it is outlier"
   ]
  },
  {
   "cell_type": "code",
   "execution_count": null,
   "id": "bcb3148a",
   "metadata": {},
   "outputs": [],
   "source": [
    "# Get names of indexes for which column action has value 2020\n",
    "indexAction = action[action['year'] == 2020].index\n",
    "# Delete these row indexes from dataFrame\n",
    "indexAction = action.drop(indexAction , inplace=True)\n",
    "\n",
    "# Get names of indexes for which indie action has value 2020\n",
    "indexIndie = indie[indie['year'] == 2020].index\n",
    "# Delete these row indexes from dataFrame\n",
    "indexIndie = indie.drop(indexIndie , inplace=True)\n",
    "\n",
    "# Get names of indexes for which column simulation has value 2020\n",
    "indexSimulation = simulation[simulation['year'] == 2020].index\n",
    "# Delete these row indexes from dataFrame\n",
    "indexIndie = simulation.drop(indexSimulation , inplace=True)\n"
   ]
  },
  {
   "cell_type": "markdown",
   "id": "5fe4d86d",
   "metadata": {},
   "source": [
    "##### grouping data based on year"
   ]
  },
  {
   "cell_type": "code",
   "execution_count": null,
   "id": "462ceb84",
   "metadata": {},
   "outputs": [],
   "source": [
    "groupedAction = action.groupby(\"year\").count()\n",
    "groupedIndie = indie.groupby(\"year\").count()\n",
    "groupedSimulation = simulation.groupby(\"year\").count()\n",
    "\n",
    "#reset index\n",
    "groupedAction.reset_index(inplace=True)\n",
    "groupedIndie.reset_index(inplace=True)\n",
    "groupedSimulation.reset_index(inplace=True)"
   ]
  },
  {
   "cell_type": "markdown",
   "id": "00937136",
   "metadata": {},
   "source": [
    "##### rename and convert the count to corresponding genre"
   ]
  },
  {
   "cell_type": "code",
   "execution_count": null,
   "id": "b8a5cdf2",
   "metadata": {},
   "outputs": [],
   "source": [
    "groupedAction = groupedAction.rename(columns={'genre': 'action count'})\n",
    "groupedAction['action count'] = groupedAction['action count'].astype(int)\n",
    "\n",
    "groupedIndie = groupedIndie.rename(columns={'genre': 'indie count'}) \n",
    "groupedIndie['indie count'] = groupedIndie['indie count'].astype(int)\n",
    "\n",
    "groupedSimulation = groupedSimulation.rename(columns={'genre': 'simulation count'})\n",
    "groupedSimulation['simulation count'] = groupedSimulation['simulation count'].astype(int)\n",
    "\n",
    "#drop \"release_date\" column\n",
    "groupedAction = groupedAction.drop(columns=['release_date'])\n",
    "groupedIndie = groupedIndie.drop(columns=['release_date'])\n",
    "groupedSimulation = groupedSimulation.drop(columns=['release_date'])\n"
   ]
  },
  {
   "cell_type": "markdown",
   "id": "99a8ab94",
   "metadata": {},
   "source": [
    "##### merge the top 3 dataframes into one for lineplot"
   ]
  },
  {
   "cell_type": "code",
   "execution_count": null,
   "id": "530e471c",
   "metadata": {},
   "outputs": [],
   "source": [
    "genreTimeLine = groupedAction.merge(groupedIndie,on='year').merge(groupedSimulation,on='year')\n",
    "genreTimeLine"
   ]
  },
  {
   "cell_type": "code",
   "execution_count": null,
   "id": "ae15bc29",
   "metadata": {},
   "outputs": [],
   "source": [
    "plt.figure(figsize=(15,8))\n",
    "sb.lineplot(x='year', y='value', hue='variable', \n",
    "             data=pd.melt(genreTimeLine, ['year']))\n",
    "\n",
    "ya = ax.get_yaxis()\n",
    "ya.set_major_locator(MaxNLocator(integer=True))\n",
    "\n",
    "xa = ax.get_xaxis()\n",
    "xa.set_major_locator(MaxNLocator(integer=True))\n",
    "\n",
    "plt.show()"
   ]
  },
  {
   "cell_type": "markdown",
   "id": "76385df1",
   "metadata": {},
   "source": [
    " We can see that there is a sharp drop in 2019. \n",
    " \n",
    " Based on this article, https://gamedaily.biz/article/1489/year-over-year-game-release-numbers-slowed-for-steam-in-2019 , they also said that there is a drop 2019 which is the same as the graph shown above. They mentioned that the drop may be due to the Steam’s notoriously-difficultmarketing and discoverability environment."
   ]
  },
  {
   "cell_type": "markdown",
   "id": "1978ad1e",
   "metadata": {},
   "source": [
    "### Rating "
   ]
  },
  {
   "cell_type": "code",
   "execution_count": 71,
   "id": "dc0569e9",
   "metadata": {},
   "outputs": [
    {
     "data": {
      "text/html": [
       "<div>\n",
       "<style scoped>\n",
       "    .dataframe tbody tr th:only-of-type {\n",
       "        vertical-align: middle;\n",
       "    }\n",
       "\n",
       "    .dataframe tbody tr th {\n",
       "        vertical-align: top;\n",
       "    }\n",
       "\n",
       "    .dataframe thead th {\n",
       "        text-align: right;\n",
       "    }\n",
       "</style>\n",
       "<table border=\"1\" class=\"dataframe\">\n",
       "  <thead>\n",
       "    <tr style=\"text-align: right;\">\n",
       "      <th></th>\n",
       "      <th>title</th>\n",
       "      <th>genre</th>\n",
       "      <th>release_date</th>\n",
       "      <th>owners</th>\n",
       "      <th>positive_ratings</th>\n",
       "      <th>negative_ratings</th>\n",
       "      <th>price</th>\n",
       "    </tr>\n",
       "  </thead>\n",
       "  <tbody>\n",
       "    <tr>\n",
       "      <th>0</th>\n",
       "      <td>counter strike</td>\n",
       "      <td>Action</td>\n",
       "      <td>2000-11-01</td>\n",
       "      <td>10000000-20000000</td>\n",
       "      <td>124534</td>\n",
       "      <td>3339</td>\n",
       "      <td>7.19</td>\n",
       "    </tr>\n",
       "    <tr>\n",
       "      <th>10</th>\n",
       "      <td>counter strike source</td>\n",
       "      <td>Action</td>\n",
       "      <td>2004-11-01</td>\n",
       "      <td>10000000-20000000</td>\n",
       "      <td>76640</td>\n",
       "      <td>3497</td>\n",
       "      <td>7.19</td>\n",
       "    </tr>\n",
       "    <tr>\n",
       "      <th>21</th>\n",
       "      <td>left 4 dead 2</td>\n",
       "      <td>Action</td>\n",
       "      <td>2009-11-19</td>\n",
       "      <td>10000000-20000000</td>\n",
       "      <td>251789</td>\n",
       "      <td>8418</td>\n",
       "      <td>7.19</td>\n",
       "    </tr>\n",
       "    <tr>\n",
       "      <th>23</th>\n",
       "      <td>portal 2</td>\n",
       "      <td>Action;Adventure</td>\n",
       "      <td>2011-04-18</td>\n",
       "      <td>10000000-20000000</td>\n",
       "      <td>138220</td>\n",
       "      <td>1891</td>\n",
       "      <td>7.19</td>\n",
       "    </tr>\n",
       "    <tr>\n",
       "      <th>121</th>\n",
       "      <td>garry s mod</td>\n",
       "      <td>Indie;Simulation</td>\n",
       "      <td>2006-11-29</td>\n",
       "      <td>10000000-20000000</td>\n",
       "      <td>363721</td>\n",
       "      <td>16433</td>\n",
       "      <td>6.99</td>\n",
       "    </tr>\n",
       "    <tr>\n",
       "      <th>...</th>\n",
       "      <td>...</td>\n",
       "      <td>...</td>\n",
       "      <td>...</td>\n",
       "      <td>...</td>\n",
       "      <td>...</td>\n",
       "      <td>...</td>\n",
       "      <td>...</td>\n",
       "    </tr>\n",
       "    <tr>\n",
       "      <th>21463</th>\n",
       "      <td>atlas</td>\n",
       "      <td>Action;Adventure;Massively Multiplayer;RPG</td>\n",
       "      <td>2018-12-22</td>\n",
       "      <td>1000000-2000000</td>\n",
       "      <td>8621</td>\n",
       "      <td>16359</td>\n",
       "      <td>23.79</td>\n",
       "    </tr>\n",
       "    <tr>\n",
       "      <th>22770</th>\n",
       "      <td>football manager 2019</td>\n",
       "      <td>Simulation;Sports</td>\n",
       "      <td>2018-11-02</td>\n",
       "      <td>200000-500000</td>\n",
       "      <td>2963</td>\n",
       "      <td>1004</td>\n",
       "      <td>37.99</td>\n",
       "    </tr>\n",
       "    <tr>\n",
       "      <th>24798</th>\n",
       "      <td>among us</td>\n",
       "      <td>Casual</td>\n",
       "      <td>2018-11-16</td>\n",
       "      <td>0-20000</td>\n",
       "      <td>60</td>\n",
       "      <td>11</td>\n",
       "      <td>3.99</td>\n",
       "    </tr>\n",
       "    <tr>\n",
       "      <th>25163</th>\n",
       "      <td>bloons td 6</td>\n",
       "      <td>Strategy</td>\n",
       "      <td>2018-12-17</td>\n",
       "      <td>200000-500000</td>\n",
       "      <td>516</td>\n",
       "      <td>251</td>\n",
       "      <td>6.99</td>\n",
       "    </tr>\n",
       "    <tr>\n",
       "      <th>26722</th>\n",
       "      <td></td>\n",
       "      <td>Casual;Indie</td>\n",
       "      <td>2019-03-17</td>\n",
       "      <td>0-20000</td>\n",
       "      <td>1</td>\n",
       "      <td>2</td>\n",
       "      <td>0.79</td>\n",
       "    </tr>\n",
       "  </tbody>\n",
       "</table>\n",
       "<p>104 rows × 7 columns</p>\n",
       "</div>"
      ],
      "text/plain": [
       "                       title                                       genre  \\\n",
       "0             counter strike                                      Action   \n",
       "10     counter strike source                                      Action   \n",
       "21             left 4 dead 2                                      Action   \n",
       "23                  portal 2                            Action;Adventure   \n",
       "121              garry s mod                            Indie;Simulation   \n",
       "...                      ...                                         ...   \n",
       "21463                  atlas  Action;Adventure;Massively Multiplayer;RPG   \n",
       "22770  football manager 2019                           Simulation;Sports   \n",
       "24798               among us                                      Casual   \n",
       "25163            bloons td 6                                    Strategy   \n",
       "26722                                                       Casual;Indie   \n",
       "\n",
       "      release_date             owners  positive_ratings  negative_ratings  \\\n",
       "0       2000-11-01  10000000-20000000            124534              3339   \n",
       "10      2004-11-01  10000000-20000000             76640              3497   \n",
       "21      2009-11-19  10000000-20000000            251789              8418   \n",
       "23      2011-04-18  10000000-20000000            138220              1891   \n",
       "121     2006-11-29  10000000-20000000            363721             16433   \n",
       "...            ...                ...               ...               ...   \n",
       "21463   2018-12-22    1000000-2000000              8621             16359   \n",
       "22770   2018-11-02      200000-500000              2963              1004   \n",
       "24798   2018-11-16            0-20000                60                11   \n",
       "25163   2018-12-17      200000-500000               516               251   \n",
       "26722   2019-03-17            0-20000                 1                 2   \n",
       "\n",
       "       price  \n",
       "0       7.19  \n",
       "10      7.19  \n",
       "21      7.19  \n",
       "23      7.19  \n",
       "121     6.99  \n",
       "...      ...  \n",
       "21463  23.79  \n",
       "22770  37.99  \n",
       "24798   3.99  \n",
       "25163   6.99  \n",
       "26722   0.79  \n",
       "\n",
       "[104 rows x 7 columns]"
      ]
     },
     "execution_count": 71,
     "metadata": {},
     "output_type": "execute_result"
    }
   ],
   "source": [
    "steamUniqueTitleRating"
   ]
  },
  {
   "cell_type": "code",
   "execution_count": 72,
   "id": "d357408b",
   "metadata": {},
   "outputs": [
    {
     "data": {
      "text/plain": [
       "title                object\n",
       "genre                object\n",
       "release_date         object\n",
       "owners               object\n",
       "positive_ratings      int64\n",
       "negative_ratings      int64\n",
       "price               float64\n",
       "dtype: object"
      ]
     },
     "execution_count": 72,
     "metadata": {},
     "output_type": "execute_result"
    }
   ],
   "source": [
    "steamUniqueTitleRating.dtypes"
   ]
  },
  {
   "cell_type": "code",
   "execution_count": 73,
   "id": "d5b10b06",
   "metadata": {},
   "outputs": [],
   "source": [
    "ratingDF = steamUniqueTitleRating"
   ]
  },
  {
   "cell_type": "code",
   "execution_count": 74,
   "id": "f171a27f",
   "metadata": {},
   "outputs": [
    {
     "data": {
      "text/html": [
       "<div>\n",
       "<style scoped>\n",
       "    .dataframe tbody tr th:only-of-type {\n",
       "        vertical-align: middle;\n",
       "    }\n",
       "\n",
       "    .dataframe tbody tr th {\n",
       "        vertical-align: top;\n",
       "    }\n",
       "\n",
       "    .dataframe thead th {\n",
       "        text-align: right;\n",
       "    }\n",
       "</style>\n",
       "<table border=\"1\" class=\"dataframe\">\n",
       "  <thead>\n",
       "    <tr style=\"text-align: right;\">\n",
       "      <th></th>\n",
       "      <th>title</th>\n",
       "      <th>genre</th>\n",
       "      <th>release_date</th>\n",
       "      <th>owners</th>\n",
       "      <th>positive_ratings</th>\n",
       "      <th>negative_ratings</th>\n",
       "      <th>price</th>\n",
       "    </tr>\n",
       "  </thead>\n",
       "  <tbody>\n",
       "    <tr>\n",
       "      <th>0</th>\n",
       "      <td>counter strike</td>\n",
       "      <td>Action</td>\n",
       "      <td>2000-11-01</td>\n",
       "      <td>10000000-20000000</td>\n",
       "      <td>124534</td>\n",
       "      <td>3339</td>\n",
       "      <td>7.19</td>\n",
       "    </tr>\n",
       "    <tr>\n",
       "      <th>10</th>\n",
       "      <td>counter strike source</td>\n",
       "      <td>Action</td>\n",
       "      <td>2004-11-01</td>\n",
       "      <td>10000000-20000000</td>\n",
       "      <td>76640</td>\n",
       "      <td>3497</td>\n",
       "      <td>7.19</td>\n",
       "    </tr>\n",
       "    <tr>\n",
       "      <th>21</th>\n",
       "      <td>left 4 dead 2</td>\n",
       "      <td>Action</td>\n",
       "      <td>2009-11-19</td>\n",
       "      <td>10000000-20000000</td>\n",
       "      <td>251789</td>\n",
       "      <td>8418</td>\n",
       "      <td>7.19</td>\n",
       "    </tr>\n",
       "    <tr>\n",
       "      <th>23</th>\n",
       "      <td>portal 2</td>\n",
       "      <td>Action;Adventure</td>\n",
       "      <td>2011-04-18</td>\n",
       "      <td>10000000-20000000</td>\n",
       "      <td>138220</td>\n",
       "      <td>1891</td>\n",
       "      <td>7.19</td>\n",
       "    </tr>\n",
       "    <tr>\n",
       "      <th>121</th>\n",
       "      <td>garry s mod</td>\n",
       "      <td>Indie;Simulation</td>\n",
       "      <td>2006-11-29</td>\n",
       "      <td>10000000-20000000</td>\n",
       "      <td>363721</td>\n",
       "      <td>16433</td>\n",
       "      <td>6.99</td>\n",
       "    </tr>\n",
       "    <tr>\n",
       "      <th>...</th>\n",
       "      <td>...</td>\n",
       "      <td>...</td>\n",
       "      <td>...</td>\n",
       "      <td>...</td>\n",
       "      <td>...</td>\n",
       "      <td>...</td>\n",
       "      <td>...</td>\n",
       "    </tr>\n",
       "    <tr>\n",
       "      <th>21463</th>\n",
       "      <td>atlas</td>\n",
       "      <td>Action;Adventure;Massively Multiplayer;RPG</td>\n",
       "      <td>2018-12-22</td>\n",
       "      <td>1000000-2000000</td>\n",
       "      <td>8621</td>\n",
       "      <td>16359</td>\n",
       "      <td>23.79</td>\n",
       "    </tr>\n",
       "    <tr>\n",
       "      <th>22770</th>\n",
       "      <td>football manager 2019</td>\n",
       "      <td>Simulation;Sports</td>\n",
       "      <td>2018-11-02</td>\n",
       "      <td>200000-500000</td>\n",
       "      <td>2963</td>\n",
       "      <td>1004</td>\n",
       "      <td>37.99</td>\n",
       "    </tr>\n",
       "    <tr>\n",
       "      <th>24798</th>\n",
       "      <td>among us</td>\n",
       "      <td>Casual</td>\n",
       "      <td>2018-11-16</td>\n",
       "      <td>0-20000</td>\n",
       "      <td>60</td>\n",
       "      <td>11</td>\n",
       "      <td>3.99</td>\n",
       "    </tr>\n",
       "    <tr>\n",
       "      <th>25163</th>\n",
       "      <td>bloons td 6</td>\n",
       "      <td>Strategy</td>\n",
       "      <td>2018-12-17</td>\n",
       "      <td>200000-500000</td>\n",
       "      <td>516</td>\n",
       "      <td>251</td>\n",
       "      <td>6.99</td>\n",
       "    </tr>\n",
       "    <tr>\n",
       "      <th>26722</th>\n",
       "      <td></td>\n",
       "      <td>Casual;Indie</td>\n",
       "      <td>2019-03-17</td>\n",
       "      <td>0-20000</td>\n",
       "      <td>1</td>\n",
       "      <td>2</td>\n",
       "      <td>0.79</td>\n",
       "    </tr>\n",
       "  </tbody>\n",
       "</table>\n",
       "<p>104 rows × 7 columns</p>\n",
       "</div>"
      ],
      "text/plain": [
       "                       title                                       genre  \\\n",
       "0             counter strike                                      Action   \n",
       "10     counter strike source                                      Action   \n",
       "21             left 4 dead 2                                      Action   \n",
       "23                  portal 2                            Action;Adventure   \n",
       "121              garry s mod                            Indie;Simulation   \n",
       "...                      ...                                         ...   \n",
       "21463                  atlas  Action;Adventure;Massively Multiplayer;RPG   \n",
       "22770  football manager 2019                           Simulation;Sports   \n",
       "24798               among us                                      Casual   \n",
       "25163            bloons td 6                                    Strategy   \n",
       "26722                                                       Casual;Indie   \n",
       "\n",
       "      release_date             owners  positive_ratings  negative_ratings  \\\n",
       "0       2000-11-01  10000000-20000000            124534              3339   \n",
       "10      2004-11-01  10000000-20000000             76640              3497   \n",
       "21      2009-11-19  10000000-20000000            251789              8418   \n",
       "23      2011-04-18  10000000-20000000            138220              1891   \n",
       "121     2006-11-29  10000000-20000000            363721             16433   \n",
       "...            ...                ...               ...               ...   \n",
       "21463   2018-12-22    1000000-2000000              8621             16359   \n",
       "22770   2018-11-02      200000-500000              2963              1004   \n",
       "24798   2018-11-16            0-20000                60                11   \n",
       "25163   2018-12-17      200000-500000               516               251   \n",
       "26722   2019-03-17            0-20000                 1                 2   \n",
       "\n",
       "       price  \n",
       "0       7.19  \n",
       "10      7.19  \n",
       "21      7.19  \n",
       "23      7.19  \n",
       "121     6.99  \n",
       "...      ...  \n",
       "21463  23.79  \n",
       "22770  37.99  \n",
       "24798   3.99  \n",
       "25163   6.99  \n",
       "26722   0.79  \n",
       "\n",
       "[104 rows x 7 columns]"
      ]
     },
     "execution_count": 74,
     "metadata": {},
     "output_type": "execute_result"
    }
   ],
   "source": [
    "ratingDF"
   ]
  },
  {
   "cell_type": "markdown",
   "id": "296e3281",
   "metadata": {},
   "source": [
    "##### getting total ratings"
   ]
  },
  {
   "cell_type": "code",
   "execution_count": 75,
   "id": "7c27a7d3",
   "metadata": {},
   "outputs": [],
   "source": [
    "def calc_rating(row):\n",
    "    \"\"\"Calculate rating score based on SteamDB method.\"\"\"\n",
    "    import math\n",
    "\n",
    "    pos = ratingDF['positive_ratings']\n",
    "    neg = ratingDF['negative_ratings']\n",
    "\n",
    "    total_reviews = pos + neg\n",
    "    average = pos / total_reviews\n",
    "    \n",
    "    # pulls score towards 50, pulls more strongly for games with few reviews\n",
    "    score = average - (average*0.5) * 2**(-np.log10(total_reviews + 1))\n",
    "\n",
    "    return score * 100"
   ]
  },
  {
   "cell_type": "code",
   "execution_count": null,
   "id": "c744c7c2",
   "metadata": {},
   "outputs": [],
   "source": [
    "#steamUniqueTitleRating['owners'] = steamUniqueTitleRating['owners'].str.split('-').apply(lambda x: x[0]).astype(int)"
   ]
  },
  {
   "cell_type": "code",
   "execution_count": null,
   "id": "f75fe761",
   "metadata": {},
   "outputs": [],
   "source": [
    "calcRating = calc_rating"
   ]
  },
  {
   "cell_type": "code",
   "execution_count": null,
   "id": "227c305b",
   "metadata": {},
   "outputs": [],
   "source": [
    "print(calcRating)"
   ]
  },
  {
   "cell_type": "code",
   "execution_count": 76,
   "id": "d8676b12",
   "metadata": {},
   "outputs": [
    {
     "name": "stderr",
     "output_type": "stream",
     "text": [
      "<ipython-input-76-fce87ca2aad7>:1: SettingWithCopyWarning: \n",
      "A value is trying to be set on a copy of a slice from a DataFrame.\n",
      "Try using .loc[row_indexer,col_indexer] = value instead\n",
      "\n",
      "See the caveats in the documentation: https://pandas.pydata.org/pandas-docs/stable/user_guide/indexing.html#returning-a-view-versus-a-copy\n",
      "  ratingDF[\"rating\"] = \"\"\n"
     ]
    }
   ],
   "source": [
    "ratingDF[\"rating\"] = \"\""
   ]
  },
  {
   "cell_type": "code",
   "execution_count": 41,
   "id": "b60326b5",
   "metadata": {},
   "outputs": [
    {
     "name": "stderr",
     "output_type": "stream",
     "text": [
      "<ipython-input-41-70074e6a1e7d>:1: SettingWithCopyWarning: \n",
      "A value is trying to be set on a copy of a slice from a DataFrame.\n",
      "Try using .loc[row_indexer,col_indexer] = value instead\n",
      "\n",
      "See the caveats in the documentation: https://pandas.pydata.org/pandas-docs/stable/user_guide/indexing.html#returning-a-view-versus-a-copy\n",
      "  ratingDF['rating'] = ratingDF.apply(calc_rating, axis=1)\n"
     ]
    }
   ],
   "source": [
    "#ratingDF['rating'] = ratingDF.apply(calc_rating, axis=1)"
   ]
  },
  {
   "cell_type": "code",
   "execution_count": 77,
   "id": "9d2e2901",
   "metadata": {},
   "outputs": [
    {
     "name": "stderr",
     "output_type": "stream",
     "text": [
      "<ipython-input-77-6235add563ec>:2: SettingWithCopyWarning: \n",
      "A value is trying to be set on a copy of a slice from a DataFrame.\n",
      "Try using .loc[row_indexer,col_indexer] = value instead\n",
      "\n",
      "See the caveats in the documentation: https://pandas.pydata.org/pandas-docs/stable/user_guide/indexing.html#returning-a-view-versus-a-copy\n",
      "  ratingDF['owners'] = steamUniqueTitleRating['owners'].str.split('-').apply(lambda x: x[0]).astype(int)\n",
      "<ipython-input-77-6235add563ec>:5: SettingWithCopyWarning: \n",
      "A value is trying to be set on a copy of a slice from a DataFrame.\n",
      "Try using .loc[row_indexer,col_indexer] = value instead\n",
      "\n",
      "See the caveats in the documentation: https://pandas.pydata.org/pandas-docs/stable/user_guide/indexing.html#returning-a-view-versus-a-copy\n",
      "  ratingDF['total_ratings'] = ratingDF['positive_ratings'] + steamUniqueTitleRating['negative_ratings']\n",
      "<ipython-input-77-6235add563ec>:6: SettingWithCopyWarning: \n",
      "A value is trying to be set on a copy of a slice from a DataFrame.\n",
      "Try using .loc[row_indexer,col_indexer] = value instead\n",
      "\n",
      "See the caveats in the documentation: https://pandas.pydata.org/pandas-docs/stable/user_guide/indexing.html#returning-a-view-versus-a-copy\n",
      "  ratingDF['rating_ratio'] = ratingDF['positive_ratings'] / steamUniqueTitleRating['total_ratings']\n",
      "<ipython-input-77-6235add563ec>:7: SettingWithCopyWarning: \n",
      "A value is trying to be set on a copy of a slice from a DataFrame.\n",
      "Try using .loc[row_indexer,col_indexer] = value instead\n",
      "\n",
      "See the caveats in the documentation: https://pandas.pydata.org/pandas-docs/stable/user_guide/indexing.html#returning-a-view-versus-a-copy\n",
      "  ratingDF['rating'] = ratingDF.apply(calc_rating, axis=1)\n",
      "<ipython-input-77-6235add563ec>:11: SettingWithCopyWarning: \n",
      "A value is trying to be set on a copy of a slice from a DataFrame.\n",
      "Try using .loc[row_indexer,col_indexer] = value instead\n",
      "\n",
      "See the caveats in the documentation: https://pandas.pydata.org/pandas-docs/stable/user_guide/indexing.html#returning-a-view-versus-a-copy\n",
      "  ratingDF['release_date'] = ratingDF['release_date'].astype('datetime64[ns]')\n",
      "<ipython-input-77-6235add563ec>:12: SettingWithCopyWarning: \n",
      "A value is trying to be set on a copy of a slice from a DataFrame.\n",
      "Try using .loc[row_indexer,col_indexer] = value instead\n",
      "\n",
      "See the caveats in the documentation: https://pandas.pydata.org/pandas-docs/stable/user_guide/indexing.html#returning-a-view-versus-a-copy\n",
      "  ratingDF['release_year'] = ratingDF['release_date'].apply(lambda x: x.year)\n"
     ]
    }
   ],
   "source": [
    "#keep lower bound of owners column, as integer\n",
    "ratingDF['owners'] = steamUniqueTitleRating['owners'].str.split('-').apply(lambda x: x[0]).astype(int)\n",
    "\n",
    "# calculate rating, as well as simple ratio for comparison\n",
    "ratingDF['total_ratings'] = ratingDF['positive_ratings'] + steamUniqueTitleRating['negative_ratings']\n",
    "ratingDF['rating_ratio'] = ratingDF['positive_ratings'] / steamUniqueTitleRating['total_ratings']\n",
    "ratingDF['rating'] = ratingDF.apply(calc_rating, axis=1)\n",
    "#ratingDF['rating'] = ratingDF.apply(calc_rating)\n",
    "    \n",
    "# convert release_date to datetime type and create separate column for release_year\n",
    "ratingDF['release_date'] = ratingDF['release_date'].astype('datetime64[ns]')\n",
    "ratingDF['release_year'] = ratingDF['release_date'].apply(lambda x: x.year) "
   ]
  },
  {
   "cell_type": "code",
   "execution_count": 80,
   "id": "0c2d3f5b",
   "metadata": {},
   "outputs": [
    {
     "data": {
      "text/html": [
       "<div>\n",
       "<style scoped>\n",
       "    .dataframe tbody tr th:only-of-type {\n",
       "        vertical-align: middle;\n",
       "    }\n",
       "\n",
       "    .dataframe tbody tr th {\n",
       "        vertical-align: top;\n",
       "    }\n",
       "\n",
       "    .dataframe thead th {\n",
       "        text-align: right;\n",
       "    }\n",
       "</style>\n",
       "<table border=\"1\" class=\"dataframe\">\n",
       "  <thead>\n",
       "    <tr style=\"text-align: right;\">\n",
       "      <th></th>\n",
       "      <th>title</th>\n",
       "      <th>genre</th>\n",
       "      <th>release_date</th>\n",
       "      <th>owners</th>\n",
       "      <th>positive_ratings</th>\n",
       "      <th>negative_ratings</th>\n",
       "      <th>price</th>\n",
       "      <th>rating</th>\n",
       "      <th>total_ratings</th>\n",
       "      <th>rating_ratio</th>\n",
       "      <th>release_year</th>\n",
       "    </tr>\n",
       "  </thead>\n",
       "  <tbody>\n",
       "    <tr>\n",
       "      <th>0</th>\n",
       "      <td>counter strike</td>\n",
       "      <td>Action</td>\n",
       "      <td>2000-11-01</td>\n",
       "      <td>10000000</td>\n",
       "      <td>124534</td>\n",
       "      <td>3339</td>\n",
       "      <td>7.19</td>\n",
       "      <td>95.975678</td>\n",
       "      <td>127873</td>\n",
       "      <td>0.973888</td>\n",
       "      <td>2000</td>\n",
       "    </tr>\n",
       "    <tr>\n",
       "      <th>10</th>\n",
       "      <td>counter strike source</td>\n",
       "      <td>Action</td>\n",
       "      <td>2004-11-01</td>\n",
       "      <td>10000000</td>\n",
       "      <td>76640</td>\n",
       "      <td>3497</td>\n",
       "      <td>7.19</td>\n",
       "      <td>95.975678</td>\n",
       "      <td>80137</td>\n",
       "      <td>0.956362</td>\n",
       "      <td>2004</td>\n",
       "    </tr>\n",
       "    <tr>\n",
       "      <th>21</th>\n",
       "      <td>left 4 dead 2</td>\n",
       "      <td>Action</td>\n",
       "      <td>2009-11-19</td>\n",
       "      <td>10000000</td>\n",
       "      <td>251789</td>\n",
       "      <td>8418</td>\n",
       "      <td>7.19</td>\n",
       "      <td>95.975678</td>\n",
       "      <td>260207</td>\n",
       "      <td>0.967649</td>\n",
       "      <td>2009</td>\n",
       "    </tr>\n",
       "    <tr>\n",
       "      <th>23</th>\n",
       "      <td>portal 2</td>\n",
       "      <td>Action;Adventure</td>\n",
       "      <td>2011-04-18</td>\n",
       "      <td>10000000</td>\n",
       "      <td>138220</td>\n",
       "      <td>1891</td>\n",
       "      <td>7.19</td>\n",
       "      <td>95.975678</td>\n",
       "      <td>140111</td>\n",
       "      <td>0.986504</td>\n",
       "      <td>2011</td>\n",
       "    </tr>\n",
       "    <tr>\n",
       "      <th>121</th>\n",
       "      <td>garry s mod</td>\n",
       "      <td>Indie;Simulation</td>\n",
       "      <td>2006-11-29</td>\n",
       "      <td>10000000</td>\n",
       "      <td>363721</td>\n",
       "      <td>16433</td>\n",
       "      <td>6.99</td>\n",
       "      <td>95.975678</td>\n",
       "      <td>380154</td>\n",
       "      <td>0.956773</td>\n",
       "      <td>2006</td>\n",
       "    </tr>\n",
       "    <tr>\n",
       "      <th>...</th>\n",
       "      <td>...</td>\n",
       "      <td>...</td>\n",
       "      <td>...</td>\n",
       "      <td>...</td>\n",
       "      <td>...</td>\n",
       "      <td>...</td>\n",
       "      <td>...</td>\n",
       "      <td>...</td>\n",
       "      <td>...</td>\n",
       "      <td>...</td>\n",
       "      <td>...</td>\n",
       "    </tr>\n",
       "    <tr>\n",
       "      <th>20543</th>\n",
       "      <td>assetto corsa competizione</td>\n",
       "      <td>Racing;Simulation;Sports</td>\n",
       "      <td>2018-09-12</td>\n",
       "      <td>50000</td>\n",
       "      <td>1744</td>\n",
       "      <td>278</td>\n",
       "      <td>34.99</td>\n",
       "      <td>95.975678</td>\n",
       "      <td>2022</td>\n",
       "      <td>0.862512</td>\n",
       "      <td>2018</td>\n",
       "    </tr>\n",
       "    <tr>\n",
       "      <th>20867</th>\n",
       "      <td>green hell</td>\n",
       "      <td>Indie;Simulation</td>\n",
       "      <td>2018-08-29</td>\n",
       "      <td>100000</td>\n",
       "      <td>2767</td>\n",
       "      <td>516</td>\n",
       "      <td>15.49</td>\n",
       "      <td>95.975678</td>\n",
       "      <td>3283</td>\n",
       "      <td>0.842827</td>\n",
       "      <td>2018</td>\n",
       "    </tr>\n",
       "    <tr>\n",
       "      <th>21463</th>\n",
       "      <td>atlas</td>\n",
       "      <td>Action;Adventure;Massively Multiplayer;RPG</td>\n",
       "      <td>2018-12-22</td>\n",
       "      <td>1000000</td>\n",
       "      <td>8621</td>\n",
       "      <td>16359</td>\n",
       "      <td>23.79</td>\n",
       "      <td>95.975678</td>\n",
       "      <td>24980</td>\n",
       "      <td>0.345116</td>\n",
       "      <td>2018</td>\n",
       "    </tr>\n",
       "    <tr>\n",
       "      <th>22770</th>\n",
       "      <td>football manager 2019</td>\n",
       "      <td>Simulation;Sports</td>\n",
       "      <td>2018-11-02</td>\n",
       "      <td>200000</td>\n",
       "      <td>2963</td>\n",
       "      <td>1004</td>\n",
       "      <td>37.99</td>\n",
       "      <td>95.975678</td>\n",
       "      <td>3967</td>\n",
       "      <td>0.746912</td>\n",
       "      <td>2018</td>\n",
       "    </tr>\n",
       "    <tr>\n",
       "      <th>25163</th>\n",
       "      <td>bloons td 6</td>\n",
       "      <td>Strategy</td>\n",
       "      <td>2018-12-17</td>\n",
       "      <td>200000</td>\n",
       "      <td>516</td>\n",
       "      <td>251</td>\n",
       "      <td>6.99</td>\n",
       "      <td>95.975678</td>\n",
       "      <td>767</td>\n",
       "      <td>0.672751</td>\n",
       "      <td>2018</td>\n",
       "    </tr>\n",
       "  </tbody>\n",
       "</table>\n",
       "<p>101 rows × 11 columns</p>\n",
       "</div>"
      ],
      "text/plain": [
       "                            title                                       genre  \\\n",
       "0                  counter strike                                      Action   \n",
       "10          counter strike source                                      Action   \n",
       "21                  left 4 dead 2                                      Action   \n",
       "23                       portal 2                            Action;Adventure   \n",
       "121                   garry s mod                            Indie;Simulation   \n",
       "...                           ...                                         ...   \n",
       "20543  assetto corsa competizione                    Racing;Simulation;Sports   \n",
       "20867                  green hell                            Indie;Simulation   \n",
       "21463                       atlas  Action;Adventure;Massively Multiplayer;RPG   \n",
       "22770       football manager 2019                           Simulation;Sports   \n",
       "25163                 bloons td 6                                    Strategy   \n",
       "\n",
       "      release_date    owners  positive_ratings  negative_ratings  price  \\\n",
       "0       2000-11-01  10000000            124534              3339   7.19   \n",
       "10      2004-11-01  10000000             76640              3497   7.19   \n",
       "21      2009-11-19  10000000            251789              8418   7.19   \n",
       "23      2011-04-18  10000000            138220              1891   7.19   \n",
       "121     2006-11-29  10000000            363721             16433   6.99   \n",
       "...            ...       ...               ...               ...    ...   \n",
       "20543   2018-09-12     50000              1744               278  34.99   \n",
       "20867   2018-08-29    100000              2767               516  15.49   \n",
       "21463   2018-12-22   1000000              8621             16359  23.79   \n",
       "22770   2018-11-02    200000              2963              1004  37.99   \n",
       "25163   2018-12-17    200000               516               251   6.99   \n",
       "\n",
       "          rating  total_ratings  rating_ratio  release_year  \n",
       "0      95.975678         127873      0.973888          2000  \n",
       "10     95.975678          80137      0.956362          2004  \n",
       "21     95.975678         260207      0.967649          2009  \n",
       "23     95.975678         140111      0.986504          2011  \n",
       "121    95.975678         380154      0.956773          2006  \n",
       "...          ...            ...           ...           ...  \n",
       "20543  95.975678           2022      0.862512          2018  \n",
       "20867  95.975678           3283      0.842827          2018  \n",
       "21463  95.975678          24980      0.345116          2018  \n",
       "22770  95.975678           3967      0.746912          2018  \n",
       "25163  95.975678            767      0.672751          2018  \n",
       "\n",
       "[101 rows x 11 columns]"
      ]
     },
     "execution_count": 80,
     "metadata": {},
     "output_type": "execute_result"
    }
   ],
   "source": [
    "ratingDF"
   ]
  },
  {
   "cell_type": "code",
   "execution_count": 79,
   "id": "a868788e",
   "metadata": {},
   "outputs": [
    {
     "data": {
      "image/png": "[encoded data removed]",
      "text/plain": [
       "<Figure size 900x900 with 30 Axes>"
      ]
     },
     "metadata": {},
     "output_type": "display_data"
    }
   ],
   "source": [
    "# ensure no 0s in columns we're applying log to\n",
    "ratingDF = ratingDF[(ratingDF['owners'] > 0) & (ratingDF['total_ratings'] > 0)].copy()\n",
    "\n",
    "eda_df = pd.DataFrame(zip(ratingDF['rating'],\n",
    "                          np.log10(ratingDF['total_ratings']),\n",
    "                          np.log10(ratingDF['owners']),\n",
    "                          ratingDF['release_year'],\n",
    "                          ratingDF.price\n",
    "                         ),\n",
    "                      columns=['Rating Score', 'Total Ratings (log)', 'Owners (log)', 'Release Year', 'Current Price'])\n",
    "\n",
    "sb.pairplot(eda_df)\n",
    "plt.show()"
   ]
  },
  {
   "cell_type": "markdown",
   "id": "94ada073",
   "metadata": {},
   "source": [
    "We can see that: \n",
    "\n",
    "The more owners of a game, the more ratings it has. This suggests that the better rated a game, the more people buy it\n",
    "More recent games are more expensive\n",
    "There is an increase in number of the owner over the year.\n",
    "\n",
    "\n",
    "\n",
    "We can conclude that:\n",
    "\n",
    "The more owners of a game, the more ratings it has. This suggests that the better rated a game, the more people buy it"
   ]
  },
  {
   "cell_type": "code",
   "execution_count": 81,
   "id": "59a671fc",
   "metadata": {},
   "outputs": [],
   "source": [
    "action = ratingDF.loc[ratingDF['genre'].str.contains(\"action\", case=False)]\n",
    "indie =ratingDF.loc[ratingDF['genre'].str.contains(\"indie\", case=False)]\n",
    "simulation = ratingDF.loc[ratingDF['genre'].str.contains(\"simulation\", case=False)]\n",
    "strategy = ratingDF.loc[ratingDF['genre'].str.contains(\"strategy\", case=False)]\n",
    "rpg = ratingDF.loc[ratingDF['genre'].str.contains(\"rpg\", case=False)]\n",
    "sports = ratingDF.loc[ratingDF['genre'].str.contains(\"sports\", case=False)]\n",
    "racing = ratingDF.loc[ratingDF['genre'].str.contains(\"racing\", case=False)]"
   ]
  },
  {
   "cell_type": "markdown",
   "id": "38831b81",
   "metadata": {},
   "source": [
    "##### summing all the postive rating and negative rating separately"
   ]
  },
  {
   "cell_type": "code",
   "execution_count": 82,
   "id": "4fef3f46",
   "metadata": {},
   "outputs": [],
   "source": [
    "#action\n",
    "action_posRating = action['positive_ratings'].sum()    \n",
    "action_negRating = action['negative_ratings'].sum() \n",
    "\n",
    "#indie\n",
    "indie_posRating = indie['positive_ratings'].sum()    \n",
    "indie_negRating = indie['negative_ratings'].sum()  \n",
    "\n",
    "#simulation\n",
    "simulation_posRating = simulation['positive_ratings'].sum()    \n",
    "simulation_negRating = simulation['negative_ratings'].sum() \n",
    "\n",
    "#strategy\n",
    "strategy_posRating = strategy['positive_ratings'].sum()    \n",
    "strategy_negRating = strategy['negative_ratings'].sum()\n",
    "\n",
    "#rpg\n",
    "rpg_posRating = rpg['positive_ratings'].sum()    \n",
    "rpg_negRating = rpg['negative_ratings'].sum()\n",
    "\n",
    "#sports\n",
    "sports_posRating = sports['positive_ratings'].sum()    \n",
    "sports_negRating = sports['negative_ratings'].sum()\n",
    "\n",
    "#racing\n",
    "racing_posRating = sports['positive_ratings'].sum()    \n",
    "racing_negRating = sports['negative_ratings'].sum()"
   ]
  },
  {
   "cell_type": "code",
   "execution_count": 83,
   "id": "b04e5f29",
   "metadata": {},
   "outputs": [],
   "source": [
    "# initialize data of lists.\n",
    "data = {'genre':['action', 'indie', 'simulation', 'strategy', 'rpg', 'sports', 'racing'],\n",
    "        'positive_ratings':[action_posRating, indie_posRating, simulation_posRating, strategy_posRating, rpg_posRating, sports_posRating, racing_posRating],\n",
    "        'negative_ratings':[action_negRating, indie_negRating, simulation_negRating, strategy_negRating, rpg_negRating, sports_negRating, racing_negRating]\n",
    "       }\n",
    "  \n",
    "# Create DataFrame\n",
    "genreRating = pd.DataFrame(data)"
   ]
  },
  {
   "cell_type": "code",
   "execution_count": null,
   "id": "688ab1f1",
   "metadata": {},
   "outputs": [],
   "source": [
    "#sum_column = genreRating[\"positive_ratings\"] + genreRating[\"negative_ratings\"]\n",
    "#genreRating[\"total_ratings\"] = sum_column"
   ]
  },
  {
   "cell_type": "code",
   "execution_count": 84,
   "id": "4ad4eb13",
   "metadata": {},
   "outputs": [],
   "source": [
    "genreRating = genreRating.set_index('genre')"
   ]
  },
  {
   "cell_type": "code",
   "execution_count": 85,
   "id": "ad7fc24b",
   "metadata": {},
   "outputs": [],
   "source": [
    "genreRating = genreRating.div(genreRating.sum(axis=1), axis=0)*100"
   ]
  },
  {
   "cell_type": "code",
   "execution_count": 98,
   "id": "6a24ecdd",
   "metadata": {},
   "outputs": [
    {
     "data": {
      "text/plain": [
       "Text(0.5, 0, 'rating in percentage')"
      ]
     },
     "execution_count": 98,
     "metadata": {},
     "output_type": "execute_result"
    },
    {
     "data": {
      "image/png": "[encoded data removed]",
      "text/plain": [
       "<Figure size 432x288 with 1 Axes>"
      ]
     },
     "metadata": {},
     "output_type": "display_data"
    }
   ],
   "source": [
    "genreRating.plot(kind = 'barh', stacked = True, color=(\"forestgreen\",\"firebrick\"))\n",
    "plt.legend(bbox_to_anchor=(1.05,1))\n",
    "plt.title(\"rating of each genre\")\n",
    "plt.xlabel(\"rating in percentage\")"
   ]
  },
  {
   "cell_type": "markdown",
   "id": "2357ed1f",
   "metadata": {},
   "source": [
    "we can see that simulation and indie have a lot more postive ratings compared to the rest. We thought that action would receive more postive rating as it is considered the most popular genre. The reason why simulation and indie has more postive rating may be due to factors such as lenghth of game play and content of the game which we will explore later."
   ]
  },
  {
   "cell_type": "markdown",
   "id": "480c01ee",
   "metadata": {},
   "source": [
    "### Reviews"
   ]
  },
  {
   "cell_type": "code",
   "execution_count": null,
   "id": "0ea8a48d",
   "metadata": {},
   "outputs": [],
   "source": [
    "NUM_TOP_WORDS = 20\n",
    "\n",
    "top_20 = hero.visualization.top_words(reviewsCleanDF['clean_review']).head(NUM_TOP_WORDS)\n",
    "\n",
    "# Draw the bar chart\n",
    "\n",
    "top_20.plot.bar(rot=90, title=\"Top 20 words\");\n",
    "\n",
    "plt.show(block=True);\n"
   ]
  },
  {
   "cell_type": "code",
   "execution_count": null,
   "id": "5ce1feba",
   "metadata": {
    "scrolled": true
   },
   "outputs": [],
   "source": [
    "hero.wordcloud(reviewsCleanDF['clean_review'], max_words=100,)"
   ]
  },
  {
   "cell_type": "markdown",
   "id": "0c385bf7",
   "metadata": {},
   "source": [
    "Some popular words that can be observed here include “good,” “fun\" and \"great\". Also, there are some negative words such\n",
    "as \"bad\" and \"shit\". However, there are more postivive word, indicating that most reviews in the dataset express a positive sentiment."
   ]
  }
 ],
 "metadata": {
  "kernelspec": {
   "display_name": "Python 3",
   "language": "python",
   "name": "python3"
  },
  "language_info": {
   "codemirror_mode": {
    "name": "ipython",
    "version": 3
   },
   "file_extension": ".py",
   "mimetype": "text/x-python",
   "name": "python",
   "nbconvert_exporter": "python",
   "pygments_lexer": "ipython3",
   "version": "3.8.8"
  }
 },
 "nbformat": 4,
 "nbformat_minor": 5
}
