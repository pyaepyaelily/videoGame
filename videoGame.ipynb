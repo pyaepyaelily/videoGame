{
 "cells": [
  {
   "cell_type": "markdown",
   "id": "7792f2c2",
   "metadata": {},
   "source": [
    "### Libraries"
   ]
  },
  {
   "cell_type": "code",
   "execution_count": 1,
   "id": "57adff21",
   "metadata": {},
   "outputs": [],
   "source": [
    "import glob\n",
    "import os\n",
    "import numpy as np\n",
    "import pandas as pd\n",
    "import seaborn as sb\n",
    "import matplotlib.pyplot as plt # we only need pyplot\n",
    "import texthero as hero\n",
    "from texthero import preprocessing\n",
    "from texthero import stopwords\n",
    "sb.set() # set the default Seaborn style for graphics\n",
    "from matplotlib.ticker import FuncFormatter, MaxNLocator\n",
    "import matplotlib.dates as mdates"
   ]
  },
  {
   "cell_type": "markdown",
   "id": "8a01b895",
   "metadata": {},
   "source": [
    "### Chunking CSV to upload onto GitHub"
   ]
  },
  {
   "cell_type": "markdown",
   "id": "4c622cd1",
   "metadata": {},
   "source": [
    "import pandas as pd\n",
    "\n",
    "chunk_size = 55000\n",
    "batch_no = 1\n",
    "\n",
    "for chunk in pd.read_csv('221100_DayZ.csv', chunksize=chunk_size):\n",
    "    #chunk.to_csv('221100_DayZ' + str(batch_no) + '.csv', index=False)\n",
    "    #batch_no +=1"
   ]
  },
  {
   "cell_type": "markdown",
   "id": "06c1ffed",
   "metadata": {},
   "source": [
    "### Dataset"
   ]
  },
  {
   "cell_type": "code",
   "execution_count": 2,
   "id": "73fac1a9",
   "metadata": {},
   "outputs": [],
   "source": [
    "steamData = pd.read_csv('steam_data/steam.csv')\n",
    "#steamSupportInfo = pd.read_csv('steam_data/steam_support_info.csv')\n",
    "#steamChart = pd.read_csv('steam_data/steamCharts.csv')\n",
    "#steamSpyTagData = pd.read_csv('steam_data/steamspy_tag_data.csv')\n",
    "steamGames = pd.concat(map(pd.read_csv, glob.glob(os.path.join('', \"steam_data/steam_games/steam_games*.csv\"))))\n",
    "#steamMediaData = pd.concat(map(pd.read_csv, glob.glob(os.path.join('', \"steam_data/steam_media_data/steam_media_data*.csv\"))))\n",
    "#steamRequirements = pd.concat(map(pd.read_csv, glob.glob(os.path.join('', \"steam_data/steam_requirements/steam_requirements*.csv\"))))\n",
    "#steamDescription = pd.concat(map(pd.read_csv, glob.glob(os.path.join('', \"steam_data/steam_description/steam_description*.csv\"))))\n",
    "\n",
    "#game reviews\n",
    "#steam_HalfOfTheGameReviews = pd.concat(map(pd.read_csv, glob.glob(os.path.join('', \"steam_data/steam_reviews/steam_review_*.csv\"))))\n",
    "#files = glob.glob(\"steam_data/steam_reviews\" + '**/**' + \"/*.csv\")\n",
    "#steamReviews_fromFolder = pd.concat([pd.read_csv(f) for f in files ])\n",
    "#steamReviewsDF = [steam_HalfOfTheGameReviews, steamReviews_fromFolder]\n",
    "#steamCombinedReviews = pd.concat(steamReviewsDF)\n",
    "\n",
    "\n",
    "#currentPath = os.path.dirname(os.path.abspath(__file__))\n",
    "firstHalfReviewFiles =glob.glob(os.path.join('', \"steam_data/steam_reviews/steam_review_*.csv\"))\n",
    "secondHalfReviewFiles = glob.glob(\"steam_data/steam_reviews\" + '**/**' + \"/*.csv\")\n",
    "allReviewFiles = firstHalfReviewFiles + secondHalfReviewFiles\n",
    "\n",
    "#steamCombinedReviews"
   ]
  },
  {
   "cell_type": "markdown",
   "id": "cbd1e37d",
   "metadata": {},
   "source": [
    "### Cleaning the Dataset"
   ]
  },
  {
   "cell_type": "markdown",
   "id": "60ff63bf",
   "metadata": {},
   "source": [
    "##### renaming and getting the columns we need"
   ]
  },
  {
   "cell_type": "code",
   "execution_count": null,
   "id": "faaa72a8",
   "metadata": {},
   "outputs": [],
   "source": [
    "#rename for easier identification\n",
    "steamGames = steamGames.rename(columns={\"name\": \"title\"})\n",
    "steamData = steamData.rename(columns={\"name\": \"title\", \"genres\":\"genre\"})\n",
    "\n",
    "#drop columns\n",
    "#steamCombinedReviews = steamCombinedReviews[[\"title\", \"review\", \"voted_up\"]]\n",
    "steamGames = steamGames[[\"title\", \"genre\",\"release_date\"]]\n",
    "steamData = steamData[['title', 'genre', 'positive_ratings', 'negative_ratings']]"
   ]
  },
  {
   "cell_type": "code",
   "execution_count": null,
   "id": "84f0741f",
   "metadata": {},
   "outputs": [],
   "source": [
    "#create a custom cleaning pipeline\n",
    "custom_pipeline = [preprocessing.fillna\n",
    "                   , preprocessing.lowercase\n",
    "                   , preprocessing.remove_punctuation\n",
    "                   , preprocessing.remove_diacritics\n",
    "                   , preprocessing.remove_whitespace]\n",
    "\n",
    "steamCombinedReviews['title'] = hero.clean(steamCombinedReviews['title'], pipeline = custom_pipeline)\n",
    "#steamCombinedReviews['clean_review'] = hero.clean(steamCombinedReviews['review'], pipeline = custom_pipeline)\n",
    "steamGames['title'] = hero.clean(steamGames['title'], pipeline = custom_pipeline)\n",
    "steamData['title'] = hero.clean(steamData['title'], pipeline = custom_pipeline)"
   ]
  },
  {
   "cell_type": "code",
   "execution_count": 65,
   "id": "38193072",
   "metadata": {},
   "outputs": [],
   "source": [
    "default_stopwords = stopwords.DEFAULT\n",
    "custom_stopwords = default_stopwords.union(set([\"game\",\"mods\"]))\n",
    "\n",
    "custom_pipeline_review = [preprocessing.fillna\n",
    "                          , preprocessing.lowercase\n",
    "                          , preprocessing.remove_punctuation\n",
    "                          , preprocessing.remove_diacritics\n",
    "                          , preprocessing.remove_whitespace\n",
    "                          ,preprocessing.remove_digits]\n",
    "                          #, preprocessing.drop_no_content]"
   ]
  },
  {
   "cell_type": "code",
   "execution_count": 66,
   "id": "e497ea63",
   "metadata": {},
   "outputs": [],
   "source": [
    "def chunks(lst, n):\n",
    "    \"\"\"Yield successive n-sized chunks from lst.\"\"\"\n",
    "    for i in range(0, len(lst), n):\n",
    "        yield lst[i:i + n]\n",
    "\n",
    "testingDF = pd.DataFrame(columns=['clean_reviews'])\n",
    "for files in chunks(allReviewFiles,20):\n",
    "    # print(files)\n",
    "    reviewsDF = pd.concat([pd.read_csv(f, encoding = \"ISO-8859-1\", engine='python') for f in files])\n",
    "    reviewsDF = reviewsDF[[\"title\", \"review\",\"voted_up\"]]\n",
    "    reviewsDF = reviewsDF.reset_index()\n",
    "    \n",
    "    reviewSerie = hero.clean(reviewsDF.review, pipeline=custom_pipeline_review)\n",
    "    reviewSerie = hero.remove_stopwords(reviewSerie, custom_stopwords)\n",
    "    reviews = reviewSerie.to_frame().reset_index()"
   ]
  },
  {
   "cell_type": "code",
   "execution_count": 67,
   "id": "8644f6f5",
   "metadata": {},
   "outputs": [
    {
     "data": {
      "text/html": [
       "<div>\n",
       "<style scoped>\n",
       "    .dataframe tbody tr th:only-of-type {\n",
       "        vertical-align: middle;\n",
       "    }\n",
       "\n",
       "    .dataframe tbody tr th {\n",
       "        vertical-align: top;\n",
       "    }\n",
       "\n",
       "    .dataframe thead th {\n",
       "        text-align: right;\n",
       "    }\n",
       "</style>\n",
       "<table border=\"1\" class=\"dataframe\">\n",
       "  <thead>\n",
       "    <tr style=\"text-align: right;\">\n",
       "      <th></th>\n",
       "      <th>index</th>\n",
       "      <th>title</th>\n",
       "      <th>review</th>\n",
       "      <th>voted_up</th>\n",
       "    </tr>\n",
       "  </thead>\n",
       "  <tbody>\n",
       "    <tr>\n",
       "      <th>0</th>\n",
       "      <td>0</td>\n",
       "      <td>PLAYERUNKNOWN'S BATTLEGROUNDS</td>\n",
       "      <td>im the one idiot here who paid full price. ive...</td>\n",
       "      <td>False</td>\n",
       "    </tr>\n",
       "    <tr>\n",
       "      <th>1</th>\n",
       "      <td>1</td>\n",
       "      <td>PLAYERUNKNOWN'S BATTLEGROUNDS</td>\n",
       "      <td>its very hard at first but once you get the ha...</td>\n",
       "      <td>True</td>\n",
       "    </tr>\n",
       "    <tr>\n",
       "      <th>2</th>\n",
       "      <td>2</td>\n",
       "      <td>PLAYERUNKNOWN'S BATTLEGROUNDS</td>\n",
       "      <td>Nah this game dodo</td>\n",
       "      <td>False</td>\n",
       "    </tr>\n",
       "    <tr>\n",
       "      <th>3</th>\n",
       "      <td>3</td>\n",
       "      <td>PLAYERUNKNOWN'S BATTLEGROUNDS</td>\n",
       "      <td>get big lmg  pewpew</td>\n",
       "      <td>True</td>\n",
       "    </tr>\n",
       "    <tr>\n",
       "      <th>4</th>\n",
       "      <td>4</td>\n",
       "      <td>PLAYERUNKNOWN'S BATTLEGROUNDS</td>\n",
       "      <td>yes</td>\n",
       "      <td>True</td>\n",
       "    </tr>\n",
       "    <tr>\n",
       "      <th>...</th>\n",
       "      <td>...</td>\n",
       "      <td>...</td>\n",
       "      <td>...</td>\n",
       "      <td>...</td>\n",
       "    </tr>\n",
       "    <tr>\n",
       "      <th>607322</th>\n",
       "      <td>386</td>\n",
       "      <td>The Elder Scrolls V Skyrim</td>\n",
       "      <td>Epic!</td>\n",
       "      <td>True</td>\n",
       "    </tr>\n",
       "    <tr>\n",
       "      <th>607323</th>\n",
       "      <td>387</td>\n",
       "      <td>The Elder Scrolls V Skyrim</td>\n",
       "      <td>This game...</td>\n",
       "      <td>True</td>\n",
       "    </tr>\n",
       "    <tr>\n",
       "      <th>607324</th>\n",
       "      <td>388</td>\n",
       "      <td>The Elder Scrolls V Skyrim</td>\n",
       "      <td>Waifu Simulator 2011, OH THANK YOU BETHESDA.</td>\n",
       "      <td>True</td>\n",
       "    </tr>\n",
       "    <tr>\n",
       "      <th>607325</th>\n",
       "      <td>389</td>\n",
       "      <td>The Elder Scrolls V Skyrim</td>\n",
       "      <td>GET IT YOU GNOMERS! :P Fourms be damned, Skyri...</td>\n",
       "      <td>True</td>\n",
       "    </tr>\n",
       "    <tr>\n",
       "      <th>607326</th>\n",
       "      <td>390</td>\n",
       "      <td>The Elder Scrolls V Skyrim</td>\n",
       "      <td>BUY THIS SHIT, LIKE RIGHT NOW YOU STUPID FUCKERS</td>\n",
       "      <td>True</td>\n",
       "    </tr>\n",
       "  </tbody>\n",
       "</table>\n",
       "<p>607327 rows × 4 columns</p>\n",
       "</div>"
      ],
      "text/plain": [
       "        index                          title  \\\n",
       "0           0  PLAYERUNKNOWN'S BATTLEGROUNDS   \n",
       "1           1  PLAYERUNKNOWN'S BATTLEGROUNDS   \n",
       "2           2  PLAYERUNKNOWN'S BATTLEGROUNDS   \n",
       "3           3  PLAYERUNKNOWN'S BATTLEGROUNDS   \n",
       "4           4  PLAYERUNKNOWN'S BATTLEGROUNDS   \n",
       "...       ...                            ...   \n",
       "607322    386     The Elder Scrolls V Skyrim   \n",
       "607323    387     The Elder Scrolls V Skyrim   \n",
       "607324    388     The Elder Scrolls V Skyrim   \n",
       "607325    389     The Elder Scrolls V Skyrim   \n",
       "607326    390     The Elder Scrolls V Skyrim   \n",
       "\n",
       "                                                   review  voted_up  \n",
       "0       im the one idiot here who paid full price. ive...     False  \n",
       "1       its very hard at first but once you get the ha...      True  \n",
       "2                                      Nah this game dodo     False  \n",
       "3                                     get big lmg  pewpew      True  \n",
       "4                                                     yes      True  \n",
       "...                                                   ...       ...  \n",
       "607322                                              Epic!      True  \n",
       "607323                                       This game...      True  \n",
       "607324       Waifu Simulator 2011, OH THANK YOU BETHESDA.      True  \n",
       "607325  GET IT YOU GNOMERS! :P Fourms be damned, Skyri...      True  \n",
       "607326   BUY THIS SHIT, LIKE RIGHT NOW YOU STUPID FUCKERS      True  \n",
       "\n",
       "[607327 rows x 4 columns]"
      ]
     },
     "execution_count": 67,
     "metadata": {},
     "output_type": "execute_result"
    }
   ],
   "source": [
    "reviewsDF"
   ]
  },
  {
   "cell_type": "code",
   "execution_count": 46,
   "id": "4964fd8f",
   "metadata": {},
   "outputs": [
    {
     "data": {
      "text/html": [
       "<div>\n",
       "<style scoped>\n",
       "    .dataframe tbody tr th:only-of-type {\n",
       "        vertical-align: middle;\n",
       "    }\n",
       "\n",
       "    .dataframe tbody tr th {\n",
       "        vertical-align: top;\n",
       "    }\n",
       "\n",
       "    .dataframe thead th {\n",
       "        text-align: right;\n",
       "    }\n",
       "</style>\n",
       "<table border=\"1\" class=\"dataframe\">\n",
       "  <thead>\n",
       "    <tr style=\"text-align: right;\">\n",
       "      <th></th>\n",
       "      <th>index</th>\n",
       "      <th>review</th>\n",
       "    </tr>\n",
       "  </thead>\n",
       "  <tbody>\n",
       "    <tr>\n",
       "      <th>0</th>\n",
       "      <td>0</td>\n",
       "      <td>im  one idiot   paid full price ive played  fo...</td>\n",
       "    </tr>\n",
       "    <tr>\n",
       "      <th>1</th>\n",
       "      <td>1</td>\n",
       "      <td>hard  first    get  hang      bad</td>\n",
       "    </tr>\n",
       "    <tr>\n",
       "      <th>2</th>\n",
       "      <td>2</td>\n",
       "      <td>nah   dodo</td>\n",
       "    </tr>\n",
       "    <tr>\n",
       "      <th>3</th>\n",
       "      <td>3</td>\n",
       "      <td>get big lmg pewpew</td>\n",
       "    </tr>\n",
       "    <tr>\n",
       "      <th>4</th>\n",
       "      <td>4</td>\n",
       "      <td>yes</td>\n",
       "    </tr>\n",
       "    <tr>\n",
       "      <th>...</th>\n",
       "      <td>...</td>\n",
       "      <td>...</td>\n",
       "    </tr>\n",
       "    <tr>\n",
       "      <th>607322</th>\n",
       "      <td>386</td>\n",
       "      <td>epic</td>\n",
       "    </tr>\n",
       "    <tr>\n",
       "      <th>607323</th>\n",
       "      <td>387</td>\n",
       "      <td></td>\n",
       "    </tr>\n",
       "    <tr>\n",
       "      <th>607324</th>\n",
       "      <td>388</td>\n",
       "      <td>waifu simulator 2011 oh thank  bethesda</td>\n",
       "    </tr>\n",
       "    <tr>\n",
       "      <th>607325</th>\n",
       "      <td>389</td>\n",
       "      <td>get   gnomers p fourms  damned skyrim  suck   ...</td>\n",
       "    </tr>\n",
       "    <tr>\n",
       "      <th>607326</th>\n",
       "      <td>390</td>\n",
       "      <td>buy  shit like right   stupid fuckers</td>\n",
       "    </tr>\n",
       "  </tbody>\n",
       "</table>\n",
       "<p>607327 rows × 2 columns</p>\n",
       "</div>"
      ],
      "text/plain": [
       "        index                                             review\n",
       "0           0  im  one idiot   paid full price ive played  fo...\n",
       "1           1                  hard  first    get  hang      bad\n",
       "2           2                                         nah   dodo\n",
       "3           3                                 get big lmg pewpew\n",
       "4           4                                                yes\n",
       "...       ...                                                ...\n",
       "607322    386                                               epic\n",
       "607323    387                                                   \n",
       "607324    388            waifu simulator 2011 oh thank  bethesda\n",
       "607325    389  get   gnomers p fourms  damned skyrim  suck   ...\n",
       "607326    390              buy  shit like right   stupid fuckers\n",
       "\n",
       "[607327 rows x 2 columns]"
      ]
     },
     "execution_count": 46,
     "metadata": {},
     "output_type": "execute_result"
    }
   ],
   "source": [
    "reviews"
   ]
  },
  {
   "cell_type": "code",
   "execution_count": 68,
   "id": "1c474b27",
   "metadata": {},
   "outputs": [
    {
     "data": {
      "text/html": [
       "<div>\n",
       "<style scoped>\n",
       "    .dataframe tbody tr th:only-of-type {\n",
       "        vertical-align: middle;\n",
       "    }\n",
       "\n",
       "    .dataframe tbody tr th {\n",
       "        vertical-align: top;\n",
       "    }\n",
       "\n",
       "    .dataframe thead th {\n",
       "        text-align: right;\n",
       "    }\n",
       "</style>\n",
       "<table border=\"1\" class=\"dataframe\">\n",
       "  <thead>\n",
       "    <tr style=\"text-align: right;\">\n",
       "      <th></th>\n",
       "      <th>title</th>\n",
       "      <th>review</th>\n",
       "      <th>voted_up</th>\n",
       "    </tr>\n",
       "  </thead>\n",
       "  <tbody>\n",
       "    <tr>\n",
       "      <th>0</th>\n",
       "      <td>PLAYERUNKNOWN'S BATTLEGROUNDS</td>\n",
       "      <td>im the one idiot here who paid full price. ive...</td>\n",
       "      <td>False</td>\n",
       "    </tr>\n",
       "    <tr>\n",
       "      <th>1</th>\n",
       "      <td>PLAYERUNKNOWN'S BATTLEGROUNDS</td>\n",
       "      <td>its very hard at first but once you get the ha...</td>\n",
       "      <td>True</td>\n",
       "    </tr>\n",
       "    <tr>\n",
       "      <th>2</th>\n",
       "      <td>PLAYERUNKNOWN'S BATTLEGROUNDS</td>\n",
       "      <td>Nah this game dodo</td>\n",
       "      <td>False</td>\n",
       "    </tr>\n",
       "    <tr>\n",
       "      <th>3</th>\n",
       "      <td>PLAYERUNKNOWN'S BATTLEGROUNDS</td>\n",
       "      <td>get big lmg  pewpew</td>\n",
       "      <td>True</td>\n",
       "    </tr>\n",
       "    <tr>\n",
       "      <th>4</th>\n",
       "      <td>PLAYERUNKNOWN'S BATTLEGROUNDS</td>\n",
       "      <td>yes</td>\n",
       "      <td>True</td>\n",
       "    </tr>\n",
       "    <tr>\n",
       "      <th>...</th>\n",
       "      <td>...</td>\n",
       "      <td>...</td>\n",
       "      <td>...</td>\n",
       "    </tr>\n",
       "    <tr>\n",
       "      <th>607322</th>\n",
       "      <td>The Elder Scrolls V Skyrim</td>\n",
       "      <td>Epic!</td>\n",
       "      <td>True</td>\n",
       "    </tr>\n",
       "    <tr>\n",
       "      <th>607323</th>\n",
       "      <td>The Elder Scrolls V Skyrim</td>\n",
       "      <td>This game...</td>\n",
       "      <td>True</td>\n",
       "    </tr>\n",
       "    <tr>\n",
       "      <th>607324</th>\n",
       "      <td>The Elder Scrolls V Skyrim</td>\n",
       "      <td>Waifu Simulator 2011, OH THANK YOU BETHESDA.</td>\n",
       "      <td>True</td>\n",
       "    </tr>\n",
       "    <tr>\n",
       "      <th>607325</th>\n",
       "      <td>The Elder Scrolls V Skyrim</td>\n",
       "      <td>GET IT YOU GNOMERS! :P Fourms be damned, Skyri...</td>\n",
       "      <td>True</td>\n",
       "    </tr>\n",
       "    <tr>\n",
       "      <th>607326</th>\n",
       "      <td>The Elder Scrolls V Skyrim</td>\n",
       "      <td>BUY THIS SHIT, LIKE RIGHT NOW YOU STUPID FUCKERS</td>\n",
       "      <td>True</td>\n",
       "    </tr>\n",
       "  </tbody>\n",
       "</table>\n",
       "<p>607327 rows × 3 columns</p>\n",
       "</div>"
      ],
      "text/plain": [
       "                                title  \\\n",
       "0       PLAYERUNKNOWN'S BATTLEGROUNDS   \n",
       "1       PLAYERUNKNOWN'S BATTLEGROUNDS   \n",
       "2       PLAYERUNKNOWN'S BATTLEGROUNDS   \n",
       "3       PLAYERUNKNOWN'S BATTLEGROUNDS   \n",
       "4       PLAYERUNKNOWN'S BATTLEGROUNDS   \n",
       "...                               ...   \n",
       "607322     The Elder Scrolls V Skyrim   \n",
       "607323     The Elder Scrolls V Skyrim   \n",
       "607324     The Elder Scrolls V Skyrim   \n",
       "607325     The Elder Scrolls V Skyrim   \n",
       "607326     The Elder Scrolls V Skyrim   \n",
       "\n",
       "                                                   review  voted_up  \n",
       "0       im the one idiot here who paid full price. ive...     False  \n",
       "1       its very hard at first but once you get the ha...      True  \n",
       "2                                      Nah this game dodo     False  \n",
       "3                                     get big lmg  pewpew      True  \n",
       "4                                                     yes      True  \n",
       "...                                                   ...       ...  \n",
       "607322                                              Epic!      True  \n",
       "607323                                       This game...      True  \n",
       "607324       Waifu Simulator 2011, OH THANK YOU BETHESDA.      True  \n",
       "607325  GET IT YOU GNOMERS! :P Fourms be damned, Skyri...      True  \n",
       "607326   BUY THIS SHIT, LIKE RIGHT NOW YOU STUPID FUCKERS      True  \n",
       "\n",
       "[607327 rows x 3 columns]"
      ]
     },
     "execution_count": 68,
     "metadata": {},
     "output_type": "execute_result"
    }
   ],
   "source": [
    "reviews = reviews.rename(columns={\"review\": \"clean_review\"})\n",
    "reviews = reviews[['clean_review']]\n",
    "\n",
    "reviewsDF = reviewsDF[['title', 'review', 'voted_up']]\n",
    "reviewsDF"
   ]
  },
  {
   "cell_type": "code",
   "execution_count": 69,
   "id": "0234d942",
   "metadata": {},
   "outputs": [
    {
     "data": {
      "text/html": [
       "<div>\n",
       "<style scoped>\n",
       "    .dataframe tbody tr th:only-of-type {\n",
       "        vertical-align: middle;\n",
       "    }\n",
       "\n",
       "    .dataframe tbody tr th {\n",
       "        vertical-align: top;\n",
       "    }\n",
       "\n",
       "    .dataframe thead th {\n",
       "        text-align: right;\n",
       "    }\n",
       "</style>\n",
       "<table border=\"1\" class=\"dataframe\">\n",
       "  <thead>\n",
       "    <tr style=\"text-align: right;\">\n",
       "      <th></th>\n",
       "      <th>title</th>\n",
       "      <th>clean_review</th>\n",
       "      <th>voted_up</th>\n",
       "    </tr>\n",
       "  </thead>\n",
       "  <tbody>\n",
       "    <tr>\n",
       "      <th>0</th>\n",
       "      <td>PLAYERUNKNOWN'S BATTLEGROUNDS</td>\n",
       "      <td>im  one idiot   paid full price ive played  fo...</td>\n",
       "      <td>False</td>\n",
       "    </tr>\n",
       "    <tr>\n",
       "      <th>1</th>\n",
       "      <td>PLAYERUNKNOWN'S BATTLEGROUNDS</td>\n",
       "      <td>hard  first    get  hang      bad</td>\n",
       "      <td>True</td>\n",
       "    </tr>\n",
       "    <tr>\n",
       "      <th>2</th>\n",
       "      <td>PLAYERUNKNOWN'S BATTLEGROUNDS</td>\n",
       "      <td>nah   dodo</td>\n",
       "      <td>False</td>\n",
       "    </tr>\n",
       "    <tr>\n",
       "      <th>3</th>\n",
       "      <td>PLAYERUNKNOWN'S BATTLEGROUNDS</td>\n",
       "      <td>get big lmg pewpew</td>\n",
       "      <td>True</td>\n",
       "    </tr>\n",
       "    <tr>\n",
       "      <th>4</th>\n",
       "      <td>PLAYERUNKNOWN'S BATTLEGROUNDS</td>\n",
       "      <td>yes</td>\n",
       "      <td>True</td>\n",
       "    </tr>\n",
       "    <tr>\n",
       "      <th>...</th>\n",
       "      <td>...</td>\n",
       "      <td>...</td>\n",
       "      <td>...</td>\n",
       "    </tr>\n",
       "    <tr>\n",
       "      <th>607322</th>\n",
       "      <td>The Elder Scrolls V Skyrim</td>\n",
       "      <td>epic</td>\n",
       "      <td>True</td>\n",
       "    </tr>\n",
       "    <tr>\n",
       "      <th>607323</th>\n",
       "      <td>The Elder Scrolls V Skyrim</td>\n",
       "      <td></td>\n",
       "      <td>True</td>\n",
       "    </tr>\n",
       "    <tr>\n",
       "      <th>607324</th>\n",
       "      <td>The Elder Scrolls V Skyrim</td>\n",
       "      <td>waifu simulator   oh thank  bethesda</td>\n",
       "      <td>True</td>\n",
       "    </tr>\n",
       "    <tr>\n",
       "      <th>607325</th>\n",
       "      <td>The Elder Scrolls V Skyrim</td>\n",
       "      <td>get   gnomers p fourms  damned skyrim  suck   ...</td>\n",
       "      <td>True</td>\n",
       "    </tr>\n",
       "    <tr>\n",
       "      <th>607326</th>\n",
       "      <td>The Elder Scrolls V Skyrim</td>\n",
       "      <td>buy  shit like right   stupid fuckers</td>\n",
       "      <td>True</td>\n",
       "    </tr>\n",
       "  </tbody>\n",
       "</table>\n",
       "<p>607327 rows × 3 columns</p>\n",
       "</div>"
      ],
      "text/plain": [
       "                                title  \\\n",
       "0       PLAYERUNKNOWN'S BATTLEGROUNDS   \n",
       "1       PLAYERUNKNOWN'S BATTLEGROUNDS   \n",
       "2       PLAYERUNKNOWN'S BATTLEGROUNDS   \n",
       "3       PLAYERUNKNOWN'S BATTLEGROUNDS   \n",
       "4       PLAYERUNKNOWN'S BATTLEGROUNDS   \n",
       "...                               ...   \n",
       "607322     The Elder Scrolls V Skyrim   \n",
       "607323     The Elder Scrolls V Skyrim   \n",
       "607324     The Elder Scrolls V Skyrim   \n",
       "607325     The Elder Scrolls V Skyrim   \n",
       "607326     The Elder Scrolls V Skyrim   \n",
       "\n",
       "                                             clean_review  voted_up  \n",
       "0       im  one idiot   paid full price ive played  fo...     False  \n",
       "1                       hard  first    get  hang      bad      True  \n",
       "2                                              nah   dodo     False  \n",
       "3                                      get big lmg pewpew      True  \n",
       "4                                                     yes      True  \n",
       "...                                                   ...       ...  \n",
       "607322                                               epic      True  \n",
       "607323                                                         True  \n",
       "607324               waifu simulator   oh thank  bethesda      True  \n",
       "607325  get   gnomers p fourms  damned skyrim  suck   ...      True  \n",
       "607326              buy  shit like right   stupid fuckers      True  \n",
       "\n",
       "[607327 rows x 3 columns]"
      ]
     },
     "execution_count": 69,
     "metadata": {},
     "output_type": "execute_result"
    }
   ],
   "source": [
    "reviewsCleanDF = pd.concat([reviewsDF, reviews], axis=1)\n",
    "reviewsCleanDF = reviewsCleanDF[['title', 'clean_review', 'voted_up']]\n",
    "reviewsCleanDF"
   ]
  },
  {
   "cell_type": "code",
   "execution_count": 63,
   "id": "11096a84",
   "metadata": {},
   "outputs": [
    {
     "name": "stderr",
     "output_type": "stream",
     "text": [
      "<ipython-input-63-daacc18410a4>:1: FutureWarning:\n",
      "\n",
      "The default value of regex will change from True to False in a future version.\n",
      "\n"
     ]
    }
   ],
   "source": [
    "#reviewsCleanDF['clean_review'] = reviewsCleanDF['clean_review'].str.replace('\\d+', '')"
   ]
  },
  {
   "cell_type": "code",
   "execution_count": 70,
   "id": "0ea8a48d",
   "metadata": {},
   "outputs": [
    {
     "data": {
      "application/vnd.plotly.v1+json": {
       "config": {
        "plotlyServerURL": "https://plot.ly"
       },
       "data": [
        {
         "alignmentgroup": "True",
         "hovertemplate": "variable=clean_review<br>index=%{x}<br>value=%{y}<extra></extra>",
         "legendgroup": "clean_review",
         "marker": {
          "color": "#636efa",
          "pattern": {
           "shape": ""
          }
         },
         "name": "clean_review",
         "offsetgroup": "clean_review",
         "orientation": "v",
         "showlegend": true,
         "textposition": "auto",
         "type": "bar",
         "x": [
          "good",
          "fun",
          "play",
          "like",
          "get",
          "great",
          "one",
          "/",
          "time",
          "games"
         ],
         "xaxis": "x",
         "y": [
          115521,
          104130,
          93033,
          88724,
          79180,
          73227,
          68464,
          66296,
          64708,
          63624
         ],
         "yaxis": "y"
        }
       ],
       "layout": {
        "barmode": "relative",
        "legend": {
         "title": {
          "text": "variable"
         },
         "tracegroupgap": 0
        },
        "margin": {
         "t": 60
        },
        "template": {
         "data": {
          "bar": [
           {
            "error_x": {
             "color": "#2a3f5f"
            },
            "error_y": {
             "color": "#2a3f5f"
            },
            "marker": {
             "line": {
              "color": "#E5ECF6",
              "width": 0.5
             },
             "pattern": {
              "fillmode": "overlay",
              "size": 10,
              "solidity": 0.2
             }
            },
            "type": "bar"
           }
          ],
          "barpolar": [
           {
            "marker": {
             "line": {
              "color": "#E5ECF6",
              "width": 0.5
             },
             "pattern": {
              "fillmode": "overlay",
              "size": 10,
              "solidity": 0.2
             }
            },
            "type": "barpolar"
           }
          ],
          "carpet": [
           {
            "aaxis": {
             "endlinecolor": "#2a3f5f",
             "gridcolor": "white",
             "linecolor": "white",
             "minorgridcolor": "white",
             "startlinecolor": "#2a3f5f"
            },
            "baxis": {
             "endlinecolor": "#2a3f5f",
             "gridcolor": "white",
             "linecolor": "white",
             "minorgridcolor": "white",
             "startlinecolor": "#2a3f5f"
            },
            "type": "carpet"
           }
          ],
          "choropleth": [
           {
            "colorbar": {
             "outlinewidth": 0,
             "ticks": ""
            },
            "type": "choropleth"
           }
          ],
          "contour": [
           {
            "colorbar": {
             "outlinewidth": 0,
             "ticks": ""
            },
            "colorscale": [
             [
              0,
              "#0d0887"
             ],
             [
              0.1111111111111111,
              "#46039f"
             ],
             [
              0.2222222222222222,
              "#7201a8"
             ],
             [
              0.3333333333333333,
              "#9c179e"
             ],
             [
              0.4444444444444444,
              "#bd3786"
             ],
             [
              0.5555555555555556,
              "#d8576b"
             ],
             [
              0.6666666666666666,
              "#ed7953"
             ],
             [
              0.7777777777777778,
              "#fb9f3a"
             ],
             [
              0.8888888888888888,
              "#fdca26"
             ],
             [
              1,
              "#f0f921"
             ]
            ],
            "type": "contour"
           }
          ],
          "contourcarpet": [
           {
            "colorbar": {
             "outlinewidth": 0,
             "ticks": ""
            },
            "type": "contourcarpet"
           }
          ],
          "heatmap": [
           {
            "colorbar": {
             "outlinewidth": 0,
             "ticks": ""
            },
            "colorscale": [
             [
              0,
              "#0d0887"
             ],
             [
              0.1111111111111111,
              "#46039f"
             ],
             [
              0.2222222222222222,
              "#7201a8"
             ],
             [
              0.3333333333333333,
              "#9c179e"
             ],
             [
              0.4444444444444444,
              "#bd3786"
             ],
             [
              0.5555555555555556,
              "#d8576b"
             ],
             [
              0.6666666666666666,
              "#ed7953"
             ],
             [
              0.7777777777777778,
              "#fb9f3a"
             ],
             [
              0.8888888888888888,
              "#fdca26"
             ],
             [
              1,
              "#f0f921"
             ]
            ],
            "type": "heatmap"
           }
          ],
          "heatmapgl": [
           {
            "colorbar": {
             "outlinewidth": 0,
             "ticks": ""
            },
            "colorscale": [
             [
              0,
              "#0d0887"
             ],
             [
              0.1111111111111111,
              "#46039f"
             ],
             [
              0.2222222222222222,
              "#7201a8"
             ],
             [
              0.3333333333333333,
              "#9c179e"
             ],
             [
              0.4444444444444444,
              "#bd3786"
             ],
             [
              0.5555555555555556,
              "#d8576b"
             ],
             [
              0.6666666666666666,
              "#ed7953"
             ],
             [
              0.7777777777777778,
              "#fb9f3a"
             ],
             [
              0.8888888888888888,
              "#fdca26"
             ],
             [
              1,
              "#f0f921"
             ]
            ],
            "type": "heatmapgl"
           }
          ],
          "histogram": [
           {
            "marker": {
             "pattern": {
              "fillmode": "overlay",
              "size": 10,
              "solidity": 0.2
             }
            },
            "type": "histogram"
           }
          ],
          "histogram2d": [
           {
            "colorbar": {
             "outlinewidth": 0,
             "ticks": ""
            },
            "colorscale": [
             [
              0,
              "#0d0887"
             ],
             [
              0.1111111111111111,
              "#46039f"
             ],
             [
              0.2222222222222222,
              "#7201a8"
             ],
             [
              0.3333333333333333,
              "#9c179e"
             ],
             [
              0.4444444444444444,
              "#bd3786"
             ],
             [
              0.5555555555555556,
              "#d8576b"
             ],
             [
              0.6666666666666666,
              "#ed7953"
             ],
             [
              0.7777777777777778,
              "#fb9f3a"
             ],
             [
              0.8888888888888888,
              "#fdca26"
             ],
             [
              1,
              "#f0f921"
             ]
            ],
            "type": "histogram2d"
           }
          ],
          "histogram2dcontour": [
           {
            "colorbar": {
             "outlinewidth": 0,
             "ticks": ""
            },
            "colorscale": [
             [
              0,
              "#0d0887"
             ],
             [
              0.1111111111111111,
              "#46039f"
             ],
             [
              0.2222222222222222,
              "#7201a8"
             ],
             [
              0.3333333333333333,
              "#9c179e"
             ],
             [
              0.4444444444444444,
              "#bd3786"
             ],
             [
              0.5555555555555556,
              "#d8576b"
             ],
             [
              0.6666666666666666,
              "#ed7953"
             ],
             [
              0.7777777777777778,
              "#fb9f3a"
             ],
             [
              0.8888888888888888,
              "#fdca26"
             ],
             [
              1,
              "#f0f921"
             ]
            ],
            "type": "histogram2dcontour"
           }
          ],
          "mesh3d": [
           {
            "colorbar": {
             "outlinewidth": 0,
             "ticks": ""
            },
            "type": "mesh3d"
           }
          ],
          "parcoords": [
           {
            "line": {
             "colorbar": {
              "outlinewidth": 0,
              "ticks": ""
             }
            },
            "type": "parcoords"
           }
          ],
          "pie": [
           {
            "automargin": true,
            "type": "pie"
           }
          ],
          "scatter": [
           {
            "marker": {
             "colorbar": {
              "outlinewidth": 0,
              "ticks": ""
             }
            },
            "type": "scatter"
           }
          ],
          "scatter3d": [
           {
            "line": {
             "colorbar": {
              "outlinewidth": 0,
              "ticks": ""
             }
            },
            "marker": {
             "colorbar": {
              "outlinewidth": 0,
              "ticks": ""
             }
            },
            "type": "scatter3d"
           }
          ],
          "scattercarpet": [
           {
            "marker": {
             "colorbar": {
              "outlinewidth": 0,
              "ticks": ""
             }
            },
            "type": "scattercarpet"
           }
          ],
          "scattergeo": [
           {
            "marker": {
             "colorbar": {
              "outlinewidth": 0,
              "ticks": ""
             }
            },
            "type": "scattergeo"
           }
          ],
          "scattergl": [
           {
            "marker": {
             "colorbar": {
              "outlinewidth": 0,
              "ticks": ""
             }
            },
            "type": "scattergl"
           }
          ],
          "scattermapbox": [
           {
            "marker": {
             "colorbar": {
              "outlinewidth": 0,
              "ticks": ""
             }
            },
            "type": "scattermapbox"
           }
          ],
          "scatterpolar": [
           {
            "marker": {
             "colorbar": {
              "outlinewidth": 0,
              "ticks": ""
             }
            },
            "type": "scatterpolar"
           }
          ],
          "scatterpolargl": [
           {
            "marker": {
             "colorbar": {
              "outlinewidth": 0,
              "ticks": ""
             }
            },
            "type": "scatterpolargl"
           }
          ],
          "scatterternary": [
           {
            "marker": {
             "colorbar": {
              "outlinewidth": 0,
              "ticks": ""
             }
            },
            "type": "scatterternary"
           }
          ],
          "surface": [
           {
            "colorbar": {
             "outlinewidth": 0,
             "ticks": ""
            },
            "colorscale": [
             [
              0,
              "#0d0887"
             ],
             [
              0.1111111111111111,
              "#46039f"
             ],
             [
              0.2222222222222222,
              "#7201a8"
             ],
             [
              0.3333333333333333,
              "#9c179e"
             ],
             [
              0.4444444444444444,
              "#bd3786"
             ],
             [
              0.5555555555555556,
              "#d8576b"
             ],
             [
              0.6666666666666666,
              "#ed7953"
             ],
             [
              0.7777777777777778,
              "#fb9f3a"
             ],
             [
              0.8888888888888888,
              "#fdca26"
             ],
             [
              1,
              "#f0f921"
             ]
            ],
            "type": "surface"
           }
          ],
          "table": [
           {
            "cells": {
             "fill": {
              "color": "#EBF0F8"
             },
             "line": {
              "color": "white"
             }
            },
            "header": {
             "fill": {
              "color": "#C8D4E3"
             },
             "line": {
              "color": "white"
             }
            },
            "type": "table"
           }
          ]
         },
         "layout": {
          "annotationdefaults": {
           "arrowcolor": "#2a3f5f",
           "arrowhead": 0,
           "arrowwidth": 1
          },
          "autotypenumbers": "strict",
          "coloraxis": {
           "colorbar": {
            "outlinewidth": 0,
            "ticks": ""
           }
          },
          "colorscale": {
           "diverging": [
            [
             0,
             "#8e0152"
            ],
            [
             0.1,
             "#c51b7d"
            ],
            [
             0.2,
             "#de77ae"
            ],
            [
             0.3,
             "#f1b6da"
            ],
            [
             0.4,
             "#fde0ef"
            ],
            [
             0.5,
             "#f7f7f7"
            ],
            [
             0.6,
             "#e6f5d0"
            ],
            [
             0.7,
             "#b8e186"
            ],
            [
             0.8,
             "#7fbc41"
            ],
            [
             0.9,
             "#4d9221"
            ],
            [
             1,
             "#276419"
            ]
           ],
           "sequential": [
            [
             0,
             "#0d0887"
            ],
            [
             0.1111111111111111,
             "#46039f"
            ],
            [
             0.2222222222222222,
             "#7201a8"
            ],
            [
             0.3333333333333333,
             "#9c179e"
            ],
            [
             0.4444444444444444,
             "#bd3786"
            ],
            [
             0.5555555555555556,
             "#d8576b"
            ],
            [
             0.6666666666666666,
             "#ed7953"
            ],
            [
             0.7777777777777778,
             "#fb9f3a"
            ],
            [
             0.8888888888888888,
             "#fdca26"
            ],
            [
             1,
             "#f0f921"
            ]
           ],
           "sequentialminus": [
            [
             0,
             "#0d0887"
            ],
            [
             0.1111111111111111,
             "#46039f"
            ],
            [
             0.2222222222222222,
             "#7201a8"
            ],
            [
             0.3333333333333333,
             "#9c179e"
            ],
            [
             0.4444444444444444,
             "#bd3786"
            ],
            [
             0.5555555555555556,
             "#d8576b"
            ],
            [
             0.6666666666666666,
             "#ed7953"
            ],
            [
             0.7777777777777778,
             "#fb9f3a"
            ],
            [
             0.8888888888888888,
             "#fdca26"
            ],
            [
             1,
             "#f0f921"
            ]
           ]
          },
          "colorway": [
           "#636efa",
           "#EF553B",
           "#00cc96",
           "#ab63fa",
           "#FFA15A",
           "#19d3f3",
           "#FF6692",
           "#B6E880",
           "#FF97FF",
           "#FECB52"
          ],
          "font": {
           "color": "#2a3f5f"
          },
          "geo": {
           "bgcolor": "white",
           "lakecolor": "white",
           "landcolor": "#E5ECF6",
           "showlakes": true,
           "showland": true,
           "subunitcolor": "white"
          },
          "hoverlabel": {
           "align": "left"
          },
          "hovermode": "closest",
          "mapbox": {
           "style": "light"
          },
          "paper_bgcolor": "white",
          "plot_bgcolor": "#E5ECF6",
          "polar": {
           "angularaxis": {
            "gridcolor": "white",
            "linecolor": "white",
            "ticks": ""
           },
           "bgcolor": "#E5ECF6",
           "radialaxis": {
            "gridcolor": "white",
            "linecolor": "white",
            "ticks": ""
           }
          },
          "scene": {
           "xaxis": {
            "backgroundcolor": "#E5ECF6",
            "gridcolor": "white",
            "gridwidth": 2,
            "linecolor": "white",
            "showbackground": true,
            "ticks": "",
            "zerolinecolor": "white"
           },
           "yaxis": {
            "backgroundcolor": "#E5ECF6",
            "gridcolor": "white",
            "gridwidth": 2,
            "linecolor": "white",
            "showbackground": true,
            "ticks": "",
            "zerolinecolor": "white"
           },
           "zaxis": {
            "backgroundcolor": "#E5ECF6",
            "gridcolor": "white",
            "gridwidth": 2,
            "linecolor": "white",
            "showbackground": true,
            "ticks": "",
            "zerolinecolor": "white"
           }
          },
          "shapedefaults": {
           "line": {
            "color": "#2a3f5f"
           }
          },
          "ternary": {
           "aaxis": {
            "gridcolor": "white",
            "linecolor": "white",
            "ticks": ""
           },
           "baxis": {
            "gridcolor": "white",
            "linecolor": "white",
            "ticks": ""
           },
           "bgcolor": "#E5ECF6",
           "caxis": {
            "gridcolor": "white",
            "linecolor": "white",
            "ticks": ""
           }
          },
          "title": {
           "x": 0.05
          },
          "xaxis": {
           "automargin": true,
           "gridcolor": "white",
           "linecolor": "white",
           "ticks": "",
           "title": {
            "standoff": 15
           },
           "zerolinecolor": "white",
           "zerolinewidth": 2
          },
          "yaxis": {
           "automargin": true,
           "gridcolor": "white",
           "linecolor": "white",
           "ticks": "",
           "title": {
            "standoff": 15
           },
           "zerolinecolor": "white",
           "zerolinewidth": 2
          }
         }
        },
        "xaxis": {
         "anchor": "y",
         "domain": [
          0,
          1
         ],
         "title": {
          "text": "index"
         }
        },
        "yaxis": {
         "anchor": "x",
         "domain": [
          0,
          1
         ],
         "title": {
          "text": "value"
         }
        }
       }
      },
      "text/html": [
       "<div>                            <div id=\"e82e18b3-5774-4127-8e51-f39b26d68fb9\" class=\"plotly-graph-div\" style=\"height:525px; width:100%;\"></div>            <script type=\"text/javascript\">                require([\"plotly\"], function(Plotly) {                    window.PLOTLYENV=window.PLOTLYENV || {};                                    if (document.getElementById(\"e82e18b3-5774-4127-8e51-f39b26d68fb9\")) {                    Plotly.newPlot(                        \"e82e18b3-5774-4127-8e51-f39b26d68fb9\",                        [{\"alignmentgroup\":\"True\",\"hovertemplate\":\"variable=clean_review<br>index=%{x}<br>value=%{y}<extra></extra>\",\"legendgroup\":\"clean_review\",\"marker\":{\"color\":\"#636efa\",\"pattern\":{\"shape\":\"\"}},\"name\":\"clean_review\",\"offsetgroup\":\"clean_review\",\"orientation\":\"v\",\"showlegend\":true,\"textposition\":\"auto\",\"type\":\"bar\",\"x\":[\"good\",\"fun\",\"play\",\"like\",\"get\",\"great\",\"one\",\"/\",\"time\",\"games\"],\"xaxis\":\"x\",\"y\":[115521,104130,93033,88724,79180,73227,68464,66296,64708,63624],\"yaxis\":\"y\"}],                        {\"barmode\":\"relative\",\"legend\":{\"title\":{\"text\":\"variable\"},\"tracegroupgap\":0},\"margin\":{\"t\":60},\"template\":{\"data\":{\"bar\":[{\"error_x\":{\"color\":\"#2a3f5f\"},\"error_y\":{\"color\":\"#2a3f5f\"},\"marker\":{\"line\":{\"color\":\"#E5ECF6\",\"width\":0.5},\"pattern\":{\"fillmode\":\"overlay\",\"size\":10,\"solidity\":0.2}},\"type\":\"bar\"}],\"barpolar\":[{\"marker\":{\"line\":{\"color\":\"#E5ECF6\",\"width\":0.5},\"pattern\":{\"fillmode\":\"overlay\",\"size\":10,\"solidity\":0.2}},\"type\":\"barpolar\"}],\"carpet\":[{\"aaxis\":{\"endlinecolor\":\"#2a3f5f\",\"gridcolor\":\"white\",\"linecolor\":\"white\",\"minorgridcolor\":\"white\",\"startlinecolor\":\"#2a3f5f\"},\"baxis\":{\"endlinecolor\":\"#2a3f5f\",\"gridcolor\":\"white\",\"linecolor\":\"white\",\"minorgridcolor\":\"white\",\"startlinecolor\":\"#2a3f5f\"},\"type\":\"carpet\"}],\"choropleth\":[{\"colorbar\":{\"outlinewidth\":0,\"ticks\":\"\"},\"type\":\"choropleth\"}],\"contour\":[{\"colorbar\":{\"outlinewidth\":0,\"ticks\":\"\"},\"colorscale\":[[0.0,\"#0d0887\"],[0.1111111111111111,\"#46039f\"],[0.2222222222222222,\"#7201a8\"],[0.3333333333333333,\"#9c179e\"],[0.4444444444444444,\"#bd3786\"],[0.5555555555555556,\"#d8576b\"],[0.6666666666666666,\"#ed7953\"],[0.7777777777777778,\"#fb9f3a\"],[0.8888888888888888,\"#fdca26\"],[1.0,\"#f0f921\"]],\"type\":\"contour\"}],\"contourcarpet\":[{\"colorbar\":{\"outlinewidth\":0,\"ticks\":\"\"},\"type\":\"contourcarpet\"}],\"heatmap\":[{\"colorbar\":{\"outlinewidth\":0,\"ticks\":\"\"},\"colorscale\":[[0.0,\"#0d0887\"],[0.1111111111111111,\"#46039f\"],[0.2222222222222222,\"#7201a8\"],[0.3333333333333333,\"#9c179e\"],[0.4444444444444444,\"#bd3786\"],[0.5555555555555556,\"#d8576b\"],[0.6666666666666666,\"#ed7953\"],[0.7777777777777778,\"#fb9f3a\"],[0.8888888888888888,\"#fdca26\"],[1.0,\"#f0f921\"]],\"type\":\"heatmap\"}],\"heatmapgl\":[{\"colorbar\":{\"outlinewidth\":0,\"ticks\":\"\"},\"colorscale\":[[0.0,\"#0d0887\"],[0.1111111111111111,\"#46039f\"],[0.2222222222222222,\"#7201a8\"],[0.3333333333333333,\"#9c179e\"],[0.4444444444444444,\"#bd3786\"],[0.5555555555555556,\"#d8576b\"],[0.6666666666666666,\"#ed7953\"],[0.7777777777777778,\"#fb9f3a\"],[0.8888888888888888,\"#fdca26\"],[1.0,\"#f0f921\"]],\"type\":\"heatmapgl\"}],\"histogram\":[{\"marker\":{\"pattern\":{\"fillmode\":\"overlay\",\"size\":10,\"solidity\":0.2}},\"type\":\"histogram\"}],\"histogram2d\":[{\"colorbar\":{\"outlinewidth\":0,\"ticks\":\"\"},\"colorscale\":[[0.0,\"#0d0887\"],[0.1111111111111111,\"#46039f\"],[0.2222222222222222,\"#7201a8\"],[0.3333333333333333,\"#9c179e\"],[0.4444444444444444,\"#bd3786\"],[0.5555555555555556,\"#d8576b\"],[0.6666666666666666,\"#ed7953\"],[0.7777777777777778,\"#fb9f3a\"],[0.8888888888888888,\"#fdca26\"],[1.0,\"#f0f921\"]],\"type\":\"histogram2d\"}],\"histogram2dcontour\":[{\"colorbar\":{\"outlinewidth\":0,\"ticks\":\"\"},\"colorscale\":[[0.0,\"#0d0887\"],[0.1111111111111111,\"#46039f\"],[0.2222222222222222,\"#7201a8\"],[0.3333333333333333,\"#9c179e\"],[0.4444444444444444,\"#bd3786\"],[0.5555555555555556,\"#d8576b\"],[0.6666666666666666,\"#ed7953\"],[0.7777777777777778,\"#fb9f3a\"],[0.8888888888888888,\"#fdca26\"],[1.0,\"#f0f921\"]],\"type\":\"histogram2dcontour\"}],\"mesh3d\":[{\"colorbar\":{\"outlinewidth\":0,\"ticks\":\"\"},\"type\":\"mesh3d\"}],\"parcoords\":[{\"line\":{\"colorbar\":{\"outlinewidth\":0,\"ticks\":\"\"}},\"type\":\"parcoords\"}],\"pie\":[{\"automargin\":true,\"type\":\"pie\"}],\"scatter\":[{\"marker\":{\"colorbar\":{\"outlinewidth\":0,\"ticks\":\"\"}},\"type\":\"scatter\"}],\"scatter3d\":[{\"line\":{\"colorbar\":{\"outlinewidth\":0,\"ticks\":\"\"}},\"marker\":{\"colorbar\":{\"outlinewidth\":0,\"ticks\":\"\"}},\"type\":\"scatter3d\"}],\"scattercarpet\":[{\"marker\":{\"colorbar\":{\"outlinewidth\":0,\"ticks\":\"\"}},\"type\":\"scattercarpet\"}],\"scattergeo\":[{\"marker\":{\"colorbar\":{\"outlinewidth\":0,\"ticks\":\"\"}},\"type\":\"scattergeo\"}],\"scattergl\":[{\"marker\":{\"colorbar\":{\"outlinewidth\":0,\"ticks\":\"\"}},\"type\":\"scattergl\"}],\"scattermapbox\":[{\"marker\":{\"colorbar\":{\"outlinewidth\":0,\"ticks\":\"\"}},\"type\":\"scattermapbox\"}],\"scatterpolar\":[{\"marker\":{\"colorbar\":{\"outlinewidth\":0,\"ticks\":\"\"}},\"type\":\"scatterpolar\"}],\"scatterpolargl\":[{\"marker\":{\"colorbar\":{\"outlinewidth\":0,\"ticks\":\"\"}},\"type\":\"scatterpolargl\"}],\"scatterternary\":[{\"marker\":{\"colorbar\":{\"outlinewidth\":0,\"ticks\":\"\"}},\"type\":\"scatterternary\"}],\"surface\":[{\"colorbar\":{\"outlinewidth\":0,\"ticks\":\"\"},\"colorscale\":[[0.0,\"#0d0887\"],[0.1111111111111111,\"#46039f\"],[0.2222222222222222,\"#7201a8\"],[0.3333333333333333,\"#9c179e\"],[0.4444444444444444,\"#bd3786\"],[0.5555555555555556,\"#d8576b\"],[0.6666666666666666,\"#ed7953\"],[0.7777777777777778,\"#fb9f3a\"],[0.8888888888888888,\"#fdca26\"],[1.0,\"#f0f921\"]],\"type\":\"surface\"}],\"table\":[{\"cells\":{\"fill\":{\"color\":\"#EBF0F8\"},\"line\":{\"color\":\"white\"}},\"header\":{\"fill\":{\"color\":\"#C8D4E3\"},\"line\":{\"color\":\"white\"}},\"type\":\"table\"}]},\"layout\":{\"annotationdefaults\":{\"arrowcolor\":\"#2a3f5f\",\"arrowhead\":0,\"arrowwidth\":1},\"autotypenumbers\":\"strict\",\"coloraxis\":{\"colorbar\":{\"outlinewidth\":0,\"ticks\":\"\"}},\"colorscale\":{\"diverging\":[[0,\"#8e0152\"],[0.1,\"#c51b7d\"],[0.2,\"#de77ae\"],[0.3,\"#f1b6da\"],[0.4,\"#fde0ef\"],[0.5,\"#f7f7f7\"],[0.6,\"#e6f5d0\"],[0.7,\"#b8e186\"],[0.8,\"#7fbc41\"],[0.9,\"#4d9221\"],[1,\"#276419\"]],\"sequential\":[[0.0,\"#0d0887\"],[0.1111111111111111,\"#46039f\"],[0.2222222222222222,\"#7201a8\"],[0.3333333333333333,\"#9c179e\"],[0.4444444444444444,\"#bd3786\"],[0.5555555555555556,\"#d8576b\"],[0.6666666666666666,\"#ed7953\"],[0.7777777777777778,\"#fb9f3a\"],[0.8888888888888888,\"#fdca26\"],[1.0,\"#f0f921\"]],\"sequentialminus\":[[0.0,\"#0d0887\"],[0.1111111111111111,\"#46039f\"],[0.2222222222222222,\"#7201a8\"],[0.3333333333333333,\"#9c179e\"],[0.4444444444444444,\"#bd3786\"],[0.5555555555555556,\"#d8576b\"],[0.6666666666666666,\"#ed7953\"],[0.7777777777777778,\"#fb9f3a\"],[0.8888888888888888,\"#fdca26\"],[1.0,\"#f0f921\"]]},\"colorway\":[\"#636efa\",\"#EF553B\",\"#00cc96\",\"#ab63fa\",\"#FFA15A\",\"#19d3f3\",\"#FF6692\",\"#B6E880\",\"#FF97FF\",\"#FECB52\"],\"font\":{\"color\":\"#2a3f5f\"},\"geo\":{\"bgcolor\":\"white\",\"lakecolor\":\"white\",\"landcolor\":\"#E5ECF6\",\"showlakes\":true,\"showland\":true,\"subunitcolor\":\"white\"},\"hoverlabel\":{\"align\":\"left\"},\"hovermode\":\"closest\",\"mapbox\":{\"style\":\"light\"},\"paper_bgcolor\":\"white\",\"plot_bgcolor\":\"#E5ECF6\",\"polar\":{\"angularaxis\":{\"gridcolor\":\"white\",\"linecolor\":\"white\",\"ticks\":\"\"},\"bgcolor\":\"#E5ECF6\",\"radialaxis\":{\"gridcolor\":\"white\",\"linecolor\":\"white\",\"ticks\":\"\"}},\"scene\":{\"xaxis\":{\"backgroundcolor\":\"#E5ECF6\",\"gridcolor\":\"white\",\"gridwidth\":2,\"linecolor\":\"white\",\"showbackground\":true,\"ticks\":\"\",\"zerolinecolor\":\"white\"},\"yaxis\":{\"backgroundcolor\":\"#E5ECF6\",\"gridcolor\":\"white\",\"gridwidth\":2,\"linecolor\":\"white\",\"showbackground\":true,\"ticks\":\"\",\"zerolinecolor\":\"white\"},\"zaxis\":{\"backgroundcolor\":\"#E5ECF6\",\"gridcolor\":\"white\",\"gridwidth\":2,\"linecolor\":\"white\",\"showbackground\":true,\"ticks\":\"\",\"zerolinecolor\":\"white\"}},\"shapedefaults\":{\"line\":{\"color\":\"#2a3f5f\"}},\"ternary\":{\"aaxis\":{\"gridcolor\":\"white\",\"linecolor\":\"white\",\"ticks\":\"\"},\"baxis\":{\"gridcolor\":\"white\",\"linecolor\":\"white\",\"ticks\":\"\"},\"bgcolor\":\"#E5ECF6\",\"caxis\":{\"gridcolor\":\"white\",\"linecolor\":\"white\",\"ticks\":\"\"}},\"title\":{\"x\":0.05},\"xaxis\":{\"automargin\":true,\"gridcolor\":\"white\",\"linecolor\":\"white\",\"ticks\":\"\",\"title\":{\"standoff\":15},\"zerolinecolor\":\"white\",\"zerolinewidth\":2},\"yaxis\":{\"automargin\":true,\"gridcolor\":\"white\",\"linecolor\":\"white\",\"ticks\":\"\",\"title\":{\"standoff\":15},\"zerolinecolor\":\"white\",\"zerolinewidth\":2}}},\"xaxis\":{\"anchor\":\"y\",\"domain\":[0.0,1.0],\"title\":{\"text\":\"index\"}},\"yaxis\":{\"anchor\":\"x\",\"domain\":[0.0,1.0],\"title\":{\"text\":\"value\"}}},                        {\"responsive\": true}                    ).then(function(){\n",
       "                            \n",
       "var gd = document.getElementById('e82e18b3-5774-4127-8e51-f39b26d68fb9');\n",
       "var x = new MutationObserver(function (mutations, observer) {{\n",
       "        var display = window.getComputedStyle(gd).display;\n",
       "        if (!display || display === 'none') {{\n",
       "            console.log([gd, 'removed!']);\n",
       "            Plotly.purge(gd);\n",
       "            observer.disconnect();\n",
       "        }}\n",
       "}});\n",
       "\n",
       "// Listen for the removal of the full notebook cells\n",
       "var notebookContainer = gd.closest('#notebook-container');\n",
       "if (notebookContainer) {{\n",
       "    x.observe(notebookContainer, {childList: true});\n",
       "}}\n",
       "\n",
       "// Listen for the clearing of the current output cell\n",
       "var outputEl = gd.closest('.output');\n",
       "if (outputEl) {{\n",
       "    x.observe(outputEl, {childList: true});\n",
       "}}\n",
       "\n",
       "                        })                };                });            </script>        </div>"
      ]
     },
     "metadata": {},
     "output_type": "display_data"
    },
    {
     "data": {
      "text/plain": [
       "good    115521\n",
       "fun     104130\n",
       "play     93033\n",
       "like     88724\n",
       "get      79180\n",
       "Name: clean_review, dtype: int64"
      ]
     },
     "execution_count": 70,
     "metadata": {},
     "output_type": "execute_result"
    }
   ],
   "source": [
    "tw = hero.visualization.top_words(reviewsCleanDF['clean_review']).head(10)\n",
    "import plotly.express as px\n",
    "fig = px.bar(tw)\n",
    "fig.show()\n",
    "tw.head()"
   ]
  },
  {
   "cell_type": "markdown",
   "id": "0c385bf7",
   "metadata": {},
   "source": [
    "Some popular words that can be observed here include “taste,” “product,” “love,” and “Amazon.” These words are mostly positive, also indicating that most reviews in the dataset express a positive sentiment."
   ]
  },
  {
   "cell_type": "markdown",
   "id": "5dc3d663",
   "metadata": {},
   "source": [
    "##### Getting title, genre, release date, reviews and ratings"
   ]
  },
  {
   "cell_type": "code",
   "execution_count": null,
   "id": "41d682a5",
   "metadata": {},
   "outputs": [],
   "source": [
    "steamGames"
   ]
  },
  {
   "cell_type": "code",
   "execution_count": null,
   "id": "31280421",
   "metadata": {},
   "outputs": [],
   "source": [
    "steamData"
   ]
  },
  {
   "cell_type": "markdown",
   "id": "cdc2e041",
   "metadata": {},
   "source": [
    "##### putting the data into another dataframe "
   ]
  },
  {
   "cell_type": "code",
   "execution_count": null,
   "id": "ac9b28c2",
   "metadata": {},
   "outputs": [],
   "source": [
    "steamGames_Title_Genre = steamGames\n",
    "steamData_Title_Rating = steamData\n",
    "\n",
    "#getting title and review from steamCombinedReviews df\n",
    "#steamCombinedReviews_Title_Reviews = steamCombinedReviews[['title', 'review', 'clean_content']]"
   ]
  },
  {
   "cell_type": "markdown",
   "id": "a7bcf4fc",
   "metadata": {},
   "source": [
    "##### matching title"
   ]
  },
  {
   "cell_type": "code",
   "execution_count": null,
   "id": "35ed8eae",
   "metadata": {},
   "outputs": [],
   "source": [
    "#Genre\n",
    "matchTitleGenre = steamGames_Title_Genre.title.isin(steamCombinedReviews.title)\n",
    "steamMatchTitleGenre = steamGames_Title_Genre[matchTitleGenre]\n",
    "\n",
    "#Rating\n",
    "matchTitleRating = steamData_Title_Rating.title.isin(steamCombinedReviews.title)\n",
    "steamMatchTitleRating = steamData_Title_Rating[matchTitleRating]\n"
   ]
  },
  {
   "cell_type": "markdown",
   "id": "d21cd5e6",
   "metadata": {},
   "source": [
    "##### dropping duplicate values"
   ]
  },
  {
   "cell_type": "code",
   "execution_count": null,
   "id": "82759861",
   "metadata": {},
   "outputs": [],
   "source": [
    "#Genre\n",
    "steamUniqueTitleGenre = steamMatchTitleGenre.drop_duplicates(['title'])\n",
    "steamUniqueTitleGenre = steamUniqueTitleGenre.reset_index(drop=True)\n",
    "\n",
    "#Rating\n",
    "steamUniqueTitleRating = steamMatchTitleRating.reset_index(drop=True)\n",
    "\n",
    "#Drop nan rows\n",
    "nan_value = float(\"NaN\")\n",
    "steamUniqueTitleGenre.replace(\"\", nan_value, inplace=True)\n",
    "steamUniqueTitleGenre.dropna(subset = [\"genre\"], inplace=True)\n",
    "\n",
    "steamUniqueTitleRating.replace(\"\", nan_value, inplace=True)\n",
    "steamUniqueTitleRating.dropna(subset = [\"title\"], inplace=True)"
   ]
  },
  {
   "cell_type": "markdown",
   "id": "1ad28e49",
   "metadata": {},
   "source": [
    "##### remove values that we don't use"
   ]
  },
  {
   "cell_type": "code",
   "execution_count": null,
   "id": "4d0de1a8",
   "metadata": {},
   "outputs": [],
   "source": [
    "#Genre\n",
    "steamUniqueTitleGenre['genre'] = steamUniqueTitleGenre.genre.str.replace(',Early Access?', '')\n",
    "steamUniqueTitleGenre['genre'] = steamUniqueTitleGenre.genre.str.replace('Early Access,?', '')\n",
    "steamUniqueTitleGenre['genre'] = steamUniqueTitleGenre.genre.str.replace(',Free to Play?', '')\n",
    "steamUniqueTitleGenre['genre'] = steamUniqueTitleGenre.genre.str.replace('Free to Play,?', '')\n",
    "\n",
    "steamUniqueTitleGenre['release_date'] = steamUniqueTitleGenre.release_date.str.replace('Early Access' , '')\n",
    "steamUniqueTitleGenre['release_date'] = steamUniqueTitleGenre.release_date.str.replace('Coming Soon' , '')\n",
    "steamUniqueTitleGenre['release_date'] = steamUniqueTitleGenre.release_date.str.replace('To Be Announced' , '')\n",
    "\n",
    "#steamUniqueTitleGenre.to_excel(\"steamUniqueTitleGenre.xlsx\")\n",
    "\n",
    "#Rating\n",
    "steamUniqueTitleRating['genre'] = steamUniqueTitleRating.genre.str.replace(';Early Access?', '')\n",
    "steamUniqueTitleRating['genre'] = steamUniqueTitleRating.genre.str.replace('Early Access;?', '')\n",
    "steamUniqueTitleRating['genre'] = steamUniqueTitleRating.genre.str.replace(';Free to Play?', '')\n",
    "steamUniqueTitleRating['genre'] = steamUniqueTitleRating.genre.str.replace('Free to Play;?', '')\n",
    "\n",
    "#steamUniqueTitleRating.to_excel(\"steamUniqueTitleRating.xlsx\")"
   ]
  },
  {
   "cell_type": "markdown",
   "id": "740f2cbb",
   "metadata": {},
   "source": [
    "### Genre"
   ]
  },
  {
   "cell_type": "markdown",
   "id": "6bfa7bec",
   "metadata": {},
   "source": [
    "##### split genre into 6 columns"
   ]
  },
  {
   "cell_type": "code",
   "execution_count": null,
   "id": "6335e08d",
   "metadata": {},
   "outputs": [],
   "source": [
    "steamUniqueTitleGenre[['genre1', 'genre2', 'genre3','genre4','genre5','genre6']] = steamUniqueTitleGenre['genre'].str.split(',', expand=True)"
   ]
  },
  {
   "cell_type": "code",
   "execution_count": null,
   "id": "22649620",
   "metadata": {},
   "outputs": [],
   "source": [
    "steamUniqueTitleGenre"
   ]
  },
  {
   "cell_type": "markdown",
   "id": "5a1395cc",
   "metadata": {},
   "source": [
    "##### dropping genre, title, and release date columns to get the total count of genre"
   ]
  },
  {
   "cell_type": "code",
   "execution_count": null,
   "id": "86aef8d3",
   "metadata": {},
   "outputs": [],
   "source": [
    "steamGenreCount = steamUniqueTitleGenre.drop(columns=['genre','title', 'release_date'])"
   ]
  },
  {
   "cell_type": "markdown",
   "id": "ebc11f7d",
   "metadata": {},
   "source": [
    "##### reset index and rename the column"
   ]
  },
  {
   "cell_type": "code",
   "execution_count": null,
   "id": "f61a4926",
   "metadata": {},
   "outputs": [],
   "source": [
    "steamGenreGraph = steamGenreCount.stack().value_counts().reset_index()\n",
    "steamGenreGraph.columns = ['genre','count']\n",
    "steamGenreGraph"
   ]
  },
  {
   "cell_type": "markdown",
   "id": "a172ccd0",
   "metadata": {},
   "source": [
    "##### graph to see which genre is most popular "
   ]
  },
  {
   "cell_type": "code",
   "execution_count": null,
   "id": "e8fc8af9",
   "metadata": {},
   "outputs": [],
   "source": [
    "fig_dims = (15, 6)\n",
    "fig, ax = plt.subplots(figsize=fig_dims)\n",
    "sb.barplot(x=\"genre\", y=\"count\", data=steamGenreGraph, ax=ax)"
   ]
  },
  {
   "cell_type": "markdown",
   "id": "0a265dfe",
   "metadata": {},
   "source": [
    "we can see that most of the games' genres are action, indie and simulation. Hence, We can conclude that players are most likely to play these genres compared to the rest."
   ]
  },
  {
   "cell_type": "code",
   "execution_count": null,
   "id": "f9d2e940",
   "metadata": {},
   "outputs": [],
   "source": [
    "# storing last 4 letters of release_date as year\n",
    "steamGenre_Date = steamUniqueTitleGenre\n",
    "steamGenre_Date['year'] = steamGenre_Date['release_date'].str.slice(-4)\n",
    "\n",
    "#dropping unused columns\n",
    "steamGenre_Date = steamUniqueTitleGenre.drop(columns=['title', 'genre1', 'genre2', 'genre3','genre4','genre5','genre6'])\n",
    "steamGenre_Date"
   ]
  },
  {
   "cell_type": "markdown",
   "id": "09e930d7",
   "metadata": {},
   "source": [
    "##### storing the top 3 genre individually"
   ]
  },
  {
   "cell_type": "code",
   "execution_count": null,
   "id": "44c3b543",
   "metadata": {},
   "outputs": [],
   "source": [
    "action =steamGenre_Date.loc[steamGenre_Date['genre'].str.contains(\"action\", case=False)]\n",
    "indie =steamGenre_Date.loc[steamGenre_Date['genre'].str.contains(\"indie\", case=False)]\n",
    "simulation = steamGenre_Date.loc[steamGenre_Date['genre'].str.contains(\"simulation\", case=False)]"
   ]
  },
  {
   "cell_type": "markdown",
   "id": "4b938ca3",
   "metadata": {},
   "source": [
    "##### converting year to int"
   ]
  },
  {
   "cell_type": "code",
   "execution_count": null,
   "id": "50e656ba",
   "metadata": {},
   "outputs": [],
   "source": [
    "action[\"year\"] = pd.to_numeric(action[\"year\"])\n",
    "indie[\"year\"] = pd.to_numeric(indie[\"year\"])\n",
    "simulation[\"year\"] = pd.to_numeric(simulation[\"year\"])\n",
    "\n",
    "action[\"year\"] = action[\"year\"].fillna(0.0).astype(int)\n",
    "indie[\"year\"] = indie[\"year\"].fillna(0.0).astype(int)\n",
    "simulation[\"year\"] = simulation[\"year\"].fillna(0.0).astype(int)"
   ]
  },
  {
   "cell_type": "markdown",
   "id": "e1a29a25",
   "metadata": {},
   "source": [
    "##### dropping rows that has 2020 in \"year\" column because it is outlier"
   ]
  },
  {
   "cell_type": "code",
   "execution_count": null,
   "id": "bcb3148a",
   "metadata": {},
   "outputs": [],
   "source": [
    "# Get names of indexes for which column action has value 2020\n",
    "indexAction = action[action['year'] == 2020].index\n",
    "# Delete these row indexes from dataFrame\n",
    "indexAction = action.drop(indexAction , inplace=True)\n",
    "\n",
    "# Get names of indexes for which indie action has value 2020\n",
    "indexIndie = indie[indie['year'] == 2020].index\n",
    "# Delete these row indexes from dataFrame\n",
    "indexIndie = indie.drop(indexIndie , inplace=True)\n",
    "\n",
    "# Get names of indexes for which column simulation has value 2020\n",
    "indexSimulation = simulation[simulation['year'] == 2020].index\n",
    "# Delete these row indexes from dataFrame\n",
    "indexIndie = simulation.drop(indexSimulation , inplace=True)\n"
   ]
  },
  {
   "cell_type": "markdown",
   "id": "5fe4d86d",
   "metadata": {},
   "source": [
    "##### grouping data based on year"
   ]
  },
  {
   "cell_type": "code",
   "execution_count": null,
   "id": "462ceb84",
   "metadata": {},
   "outputs": [],
   "source": [
    "groupedAction = action.groupby(\"year\").count()\n",
    "groupedIndie = indie.groupby(\"year\").count()\n",
    "groupedSimulation = simulation.groupby(\"year\").count()\n",
    "\n",
    "#reset index\n",
    "groupedAction.reset_index(inplace=True)\n",
    "groupedIndie.reset_index(inplace=True)\n",
    "groupedSimulation.reset_index(inplace=True)"
   ]
  },
  {
   "cell_type": "markdown",
   "id": "00937136",
   "metadata": {},
   "source": [
    "##### rename and convert the count to corresponding genre"
   ]
  },
  {
   "cell_type": "code",
   "execution_count": null,
   "id": "b8a5cdf2",
   "metadata": {},
   "outputs": [],
   "source": [
    "groupedAction = groupedAction.rename(columns={'genre': 'action count'})\n",
    "groupedAction['action count'] = groupedAction['action count'].astype(int)\n",
    "\n",
    "groupedIndie = groupedIndie.rename(columns={'genre': 'indie count'}) \n",
    "groupedIndie['indie count'] = groupedIndie['indie count'].astype(int)\n",
    "\n",
    "groupedSimulation = groupedSimulation.rename(columns={'genre': 'simulation count'})\n",
    "groupedSimulation['simulation count'] = groupedSimulation['simulation count'].astype(int)\n",
    "\n",
    "#drop \"release_date\" column\n",
    "groupedAction = groupedAction.drop(columns=['release_date'])\n",
    "groupedIndie = groupedIndie.drop(columns=['release_date'])\n",
    "groupedSimulation = groupedSimulation.drop(columns=['release_date'])\n"
   ]
  },
  {
   "cell_type": "markdown",
   "id": "99a8ab94",
   "metadata": {},
   "source": [
    "##### merge the top 3 dataframes into one for lineplot"
   ]
  },
  {
   "cell_type": "code",
   "execution_count": null,
   "id": "530e471c",
   "metadata": {},
   "outputs": [],
   "source": [
    "genreTimeLine = groupedAction.merge(groupedIndie,on='year').merge(groupedSimulation,on='year')\n",
    "genreTimeLine"
   ]
  },
  {
   "cell_type": "code",
   "execution_count": null,
   "id": "ae15bc29",
   "metadata": {},
   "outputs": [],
   "source": [
    "plt.figure(figsize=(15,8))\n",
    "sb.lineplot(x='year', y='value', hue='variable', \n",
    "             data=pd.melt(genreTimeLine, ['year']))\n",
    "\n",
    "ya = ax.get_yaxis()\n",
    "ya.set_major_locator(MaxNLocator(integer=True))\n",
    "\n",
    "xa = ax.get_xaxis()\n",
    "xa.set_major_locator(MaxNLocator(integer=True))\n",
    "\n",
    "plt.show()"
   ]
  },
  {
   "cell_type": "markdown",
   "id": "76385df1",
   "metadata": {},
   "source": [
    " We can see that there is a sharp drop in 2019. \n",
    " \n",
    " Based on this article, https://gamedaily.biz/article/1489/year-over-year-game-release-numbers-slowed-for-steam-in-2019 , they also said that there is a drop 2019 which is the same as the graph shown above. They mentioned that the drop may be due to the Steam’s notoriously-difficultmarketing and discoverability environment."
   ]
  },
  {
   "cell_type": "markdown",
   "id": "1978ad1e",
   "metadata": {},
   "source": [
    "### Rating "
   ]
  },
  {
   "cell_type": "code",
   "execution_count": null,
   "id": "dc0569e9",
   "metadata": {},
   "outputs": [],
   "source": [
    "steamUniqueTitleRating"
   ]
  },
  {
   "cell_type": "markdown",
   "id": "296e3281",
   "metadata": {},
   "source": [
    "##### getting total ratings"
   ]
  },
  {
   "cell_type": "code",
   "execution_count": null,
   "id": "fdd1f7cd",
   "metadata": {},
   "outputs": [],
   "source": [
    "#sum_column = steamUniqueTitleRating[\"positive_ratings\"] + steamUniqueTitleRating[\"negative_ratings\"]\n",
    "#steamUniqueTitleRating[\"total_ratings\"] = sum_column\n",
    "#steamUniqueTitleRating\n",
    "\n",
    "# sort the dataframe based on total_ratings\n",
    "#steamUniqueTitleRating.sort_values(by=['total_ratings'], ascending=False)"
   ]
  },
  {
   "cell_type": "code",
   "execution_count": null,
   "id": "8bcf6d2c",
   "metadata": {},
   "outputs": [],
   "source": [
    "#top5_Rating = steamUniqueTitleRating.nlargest(5,['total_ratings'])\n",
    "#below5_Rating = steamUniqueTitleRating.nsmallest(5,['total_ratings'])"
   ]
  },
  {
   "cell_type": "code",
   "execution_count": null,
   "id": "1363ac50",
   "metadata": {},
   "outputs": [],
   "source": [
    "#frames = [top5_Rating, below5_Rating]\n",
    "#ratingDF = pd.concat(frames)"
   ]
  },
  {
   "cell_type": "code",
   "execution_count": null,
   "id": "07d2fb21",
   "metadata": {},
   "outputs": [],
   "source": [
    "steamUniqueTitleRating['type'] = 'Free'\n",
    "steamUniqueTitleRating.loc[steamUniqueTitleRating['price'] > 0, 'type'] = 'Paid'"
   ]
  },
  {
   "cell_type": "code",
   "execution_count": null,
   "id": "9d2e2901",
   "metadata": {},
   "outputs": [],
   "source": [
    "steamUniqueTitleRating.to_excel(\"output.xlsx\")"
   ]
  },
  {
   "cell_type": "code",
   "execution_count": null,
   "id": "59a671fc",
   "metadata": {},
   "outputs": [],
   "source": [
    "action = steamUniqueTitleRating.loc[steamUniqueTitleRating['genre'].str.contains(\"action\", case=False)]\n",
    "indie =steamUniqueTitleRating.loc[steamUniqueTitleRating['genre'].str.contains(\"indie\", case=False)]\n",
    "simulation = steamUniqueTitleRating.loc[steamUniqueTitleRating['genre'].str.contains(\"simulation\", case=False)]\n",
    "strategy = steamUniqueTitleRating.loc[steamUniqueTitleRating['genre'].str.contains(\"strategy\", case=False)]\n",
    "rpg = steamUniqueTitleRating.loc[steamUniqueTitleRating['genre'].str.contains(\"rpg\", case=False)]\n",
    "sports = steamUniqueTitleRating.loc[steamUniqueTitleRating['genre'].str.contains(\"sports\", case=False)]\n",
    "racing = steamUniqueTitleRating.loc[steamUniqueTitleRating['genre'].str.contains(\"racing\", case=False)]"
   ]
  },
  {
   "cell_type": "code",
   "execution_count": null,
   "id": "f0461847",
   "metadata": {},
   "outputs": [],
   "source": [
    "action"
   ]
  },
  {
   "cell_type": "markdown",
   "id": "38831b81",
   "metadata": {},
   "source": [
    "##### summing all the postive rating and negative rating separately"
   ]
  },
  {
   "cell_type": "code",
   "execution_count": null,
   "id": "4fef3f46",
   "metadata": {},
   "outputs": [],
   "source": [
    "#action\n",
    "action_posRating = action['positive_ratings'].sum()    \n",
    "action_negRating = action['negative_ratings'].sum() \n",
    "\n",
    "#indie\n",
    "indie_posRating = indie['positive_ratings'].sum()    \n",
    "indie_negRating = indie['negative_ratings'].sum()  \n",
    "\n",
    "#simulation\n",
    "simulation_posRating = simulation['positive_ratings'].sum()    \n",
    "simulation_negRating = simulation['negative_ratings'].sum() \n",
    "\n",
    "#strategy\n",
    "strategy_posRating = strategy['positive_ratings'].sum()    \n",
    "strategy_negRating = strategy['negative_ratings'].sum()\n",
    "\n",
    "#rpg\n",
    "rpg_posRating = rpg['positive_ratings'].sum()    \n",
    "rpg_negRating = rpg['negative_ratings'].sum()\n",
    "\n",
    "#sports\n",
    "sports_posRating = sports['positive_ratings'].sum()    \n",
    "sports_negRating = sports['negative_ratings'].sum()\n",
    "\n",
    "#racing\n",
    "racing_posRating = sports['positive_ratings'].sum()    \n",
    "racing_negRating = sports['negative_ratings'].sum()"
   ]
  },
  {
   "cell_type": "code",
   "execution_count": null,
   "id": "b04e5f29",
   "metadata": {},
   "outputs": [],
   "source": [
    "# initialize data of lists.\n",
    "data = {'genre':['action', 'indie', 'simulation', 'strategy', 'rpg', 'sports', 'racing'],\n",
    "        'positive_ratings':[action_posRating, indie_posRating, simulation_posRating, strategy_posRating, rpg_posRating, sports_posRating, racing_posRating],\n",
    "        'negative_ratings':[action_negRating, indie_negRating, simulation_negRating, strategy_negRating, rpg_negRating, sports_negRating, racing_negRating]\n",
    "       }\n",
    "  \n",
    "# Create DataFrame\n",
    "genreRating = pd.DataFrame(data)"
   ]
  },
  {
   "cell_type": "code",
   "execution_count": null,
   "id": "688ab1f1",
   "metadata": {},
   "outputs": [],
   "source": [
    "#sum_column = genreRating[\"positive_ratings\"] + genreRating[\"negative_ratings\"]\n",
    "#genreRating[\"total_ratings\"] = sum_column"
   ]
  },
  {
   "cell_type": "code",
   "execution_count": null,
   "id": "4ad4eb13",
   "metadata": {},
   "outputs": [],
   "source": [
    "genreRating = genreRating.set_index('genre')"
   ]
  },
  {
   "cell_type": "code",
   "execution_count": null,
   "id": "ad7fc24b",
   "metadata": {},
   "outputs": [],
   "source": [
    "genreRating = genreRating.div(genreRating.sum(axis=1), axis=0)*100"
   ]
  },
  {
   "cell_type": "code",
   "execution_count": null,
   "id": "6a24ecdd",
   "metadata": {},
   "outputs": [],
   "source": [
    "genreRating.plot(kind = 'barh', stacked = True)\n",
    "plt.legend(bbox_to_anchor=(1.05,1))\n",
    "plt.title(\"rating of each genre\")\n",
    "plt.xlabel(\"rating in percentage\")"
   ]
  },
  {
   "cell_type": "markdown",
   "id": "2357ed1f",
   "metadata": {},
   "source": [
    "we can see that simulation and indie have a lot more postive ratings compared to the rest. We thought that action would receive more postive rating as it is considered the most popular genre. The reason why simulation and indie has more postive rating may be due to factors such as lenghth of game play and content of the game which we will explore later."
   ]
  },
  {
   "cell_type": "markdown",
   "id": "480c01ee",
   "metadata": {},
   "source": [
    "### Reviews"
   ]
  },
  {
   "cell_type": "code",
   "execution_count": null,
   "id": "664603a8",
   "metadata": {},
   "outputs": [],
   "source": [
    "#steamCombinedReviews_Title_Reviews"
   ]
  },
  {
   "cell_type": "code",
   "execution_count": null,
   "id": "1e3f633e",
   "metadata": {},
   "outputs": [],
   "source": [
    "#NUM_TOP_WORDS = 20\n",
    "#top_20 = hero.visualization.top_words(news_content['clean_content']).head(NUM_TOP_WORDS)# Draw the bar chart\n",
    "#top_20.plot.bar(rot=90, title=\"Top 20 words\");\n",
    "#plt.show(block=True);\n"
   ]
  }
 ],
 "metadata": {
  "kernelspec": {
   "display_name": "Python 3",
   "language": "python",
   "name": "python3"
  },
  "language_info": {
   "codemirror_mode": {
    "name": "ipython",
    "version": 3
   },
   "file_extension": ".py",
   "mimetype": "text/x-python",
   "name": "python",
   "nbconvert_exporter": "python",
   "pygments_lexer": "ipython3",
   "version": "3.8.8"
  }
 },
 "nbformat": 4,
 "nbformat_minor": 5
}
