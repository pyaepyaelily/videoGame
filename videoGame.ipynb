{
 "cells": [
  {
   "cell_type": "markdown",
   "id": "7792f2c2",
   "metadata": {},
   "source": [
    "### Libraries"
   ]
  },
  {
   "cell_type": "code",
   "execution_count": 19,
   "id": "57adff21",
   "metadata": {},
   "outputs": [],
   "source": [
    "import glob\n",
    "import os\n",
    "import numpy as np\n",
    "import pandas as pd\n",
    "import seaborn as sb\n",
    "import matplotlib.pyplot as plt # we only need pyplot\n",
    "sb.set() # set the default Seaborn style for graphics"
   ]
  },
  {
   "cell_type": "markdown",
   "id": "06c1ffed",
   "metadata": {},
   "source": [
    "### Dataset"
   ]
  },
  {
   "cell_type": "code",
   "execution_count": 32,
   "id": "73fac1a9",
   "metadata": {},
   "outputs": [],
   "source": [
    "steamData = pd.read_csv('steam_data/steam.csv')\n",
    "steamSupportInfo = pd.read_csv('steam_data/steam_support_info.csv')\n",
    "steamChart = pd.read_csv('steam_data/steamCharts.csv')\n",
    "steamSpyTagData = pd.read_csv('steam_data/steamspy_tag_data.csv')\n",
    "steamGames = pd.concat(map(pd.read_csv, glob.glob(os.path.join('', \"steam_data/steam_games/steam_games*.csv\"))))\n",
    "steamMediaData = pd.concat(map(pd.read_csv, glob.glob(os.path.join('', \"steam_data/steam_media_data/steam_media_data*.csv\"))))\n",
    "steamRequirements = pd.concat(map(pd.read_csv, glob.glob(os.path.join('', \"steam_data/steam_requirements/steam_requirements*.csv\"))))\n",
    "steamDescription = pd.concat(map(pd.read_csv, glob.glob(os.path.join('', \"steam_data/steam_description/steam_description*.csv\"))))"
   ]
  }
 ],
 "metadata": {
  "kernelspec": {
   "display_name": "Python 3",
   "language": "python",
   "name": "python3"
  },
  "language_info": {
   "codemirror_mode": {
    "name": "ipython",
    "version": 3
   },
   "file_extension": ".py",
   "mimetype": "text/x-python",
   "name": "python",
   "nbconvert_exporter": "python",
   "pygments_lexer": "ipython3",
   "version": "3.8.8"
  }
 },
 "nbformat": 4,
 "nbformat_minor": 5
}
