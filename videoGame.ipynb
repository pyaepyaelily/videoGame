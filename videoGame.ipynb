{
 "cells": [
  {
   "cell_type": "markdown",
   "id": "09fa7230",
   "metadata": {},
   "source": [
    "### Libraries"
   ]
  },
  {
   "cell_type": "code",
   "execution_count": 19,
   "id": "4abca864",
   "metadata": {},
   "outputs": [],
   "source": [
    "import glob\n",
    "import os\n",
    "import numpy as np\n",
    "import pandas as pd\n",
    "import seaborn as sb\n",
    "import matplotlib.pyplot as plt # we only need pyplot\n",
    "sb.set() # set the default Seaborn style for graphics"
   ]
  },
  {
   "cell_type": "markdown",
   "id": "f41ada14",
   "metadata": {},
   "source": [
    "### Dataset"
   ]
  },
  {
   "cell_type": "code",
   "execution_count": 17,
   "id": "54d663d1",
   "metadata": {},
   "outputs": [],
   "source": [
    "steamData = pd.read_csv('steam_data/steam.csv')\n",
    "steamSupportInfo = pd.read_csv('steam_data/steam_support_info.csv')\n",
    "steamChart = pd.read_csv('steam_data/steamCharts.csv')\n",
    "steamSpyTagData = pd.read_csv('steam_data/steamspy_tag_data.csv')\n",
    "steamGames = pd.concat(map(pd.read_csv, glob.glob(os.path.join('', \"steam_data/steam_games/steam_games*.csv\"))))\n",
    "steamMediaData = pd.concat(map(pd.read_csv, glob.glob(os.path.join('', \"steam_data/steam_media_data/steam_media_data*.csv\"))))"
   ]
  },
  {
   "cell_type": "code",
   "execution_count": 28,
   "id": "f544fea1",
   "metadata": {},
   "outputs": [],
   "source": [
    "steamRequirements = pd.concat(map(pd.read_csv, glob.glob(os.path.join('', \"steam_data/steam_requirements/steam_requirements*.csv\"))))"
   ]
  },
  {
   "cell_type": "code",
   "execution_count": 29,
   "id": "28cc3942",
   "metadata": {},
   "outputs": [
    {
     "data": {
      "text/plain": [
       "<bound method DataFrame.info of       steam_appid                                    pc_requirements  \\\n",
       "0              10  {'minimum': '\\r\\n\\t\\t\\t<p><strong>Minimum:</st...   \n",
       "1              20  {'minimum': '\\r\\n\\t\\t\\t<p><strong>Minimum:</st...   \n",
       "2              30  {'minimum': '\\r\\n\\t\\t\\t<p><strong>Minimum:</st...   \n",
       "3              40  {'minimum': '\\r\\n\\t\\t\\t<p><strong>Minimum:</st...   \n",
       "4              50  {'minimum': '\\r\\n\\t\\t\\t<p><strong>Minimum:</st...   \n",
       "...           ...                                                ...   \n",
       "7314      1065230  {'minimum': '<strong>Minimum:</strong><br><ul ...   \n",
       "7315      1065570  {'minimum': '<strong>Minimum:</strong><br><ul ...   \n",
       "7316      1065650  {'minimum': '<strong>Minimum:</strong><br><ul ...   \n",
       "7317      1066700  {'minimum': '<strong>Minimum:</strong><br><ul ...   \n",
       "7318      1069460  {'minimum': '<strong>Minimum:</strong><br><ul ...   \n",
       "\n",
       "                                       mac_requirements  \\\n",
       "0     {'minimum': 'Minimum: OS X  Snow Leopard 10.6....   \n",
       "1     {'minimum': 'Minimum: OS X  Snow Leopard 10.6....   \n",
       "2     {'minimum': 'Minimum: OS X  Snow Leopard 10.6....   \n",
       "3     {'minimum': 'Minimum: OS X  Snow Leopard 10.6....   \n",
       "4     {'minimum': 'Minimum: OS X  Snow Leopard 10.6....   \n",
       "...                                                 ...   \n",
       "7314                                                 []   \n",
       "7315                                                 []   \n",
       "7316                                                 []   \n",
       "7317  {'minimum': '<strong>Minimum:</strong><br><ul ...   \n",
       "7318  {'minimum': '<strong>Minimum:</strong><br><ul ...   \n",
       "\n",
       "                                     linux_requirements  \\\n",
       "0     {'minimum': 'Minimum: Linux Ubuntu 12.04, Dual...   \n",
       "1     {'minimum': 'Minimum: Linux Ubuntu 12.04, Dual...   \n",
       "2     {'minimum': 'Minimum: Linux Ubuntu 12.04, Dual...   \n",
       "3     {'minimum': 'Minimum: Linux Ubuntu 12.04, Dual...   \n",
       "4     {'minimum': 'Minimum: Linux Ubuntu 12.04, Dual...   \n",
       "...                                                 ...   \n",
       "7314                                                 []   \n",
       "7315                                                 []   \n",
       "7316                                                 []   \n",
       "7317                                                 []   \n",
       "7318                                                 []   \n",
       "\n",
       "                                                minimum  \\\n",
       "0     500 mhz processor, 96mb ram, 16mb video card, ...   \n",
       "1     500 mhz processor, 96mb ram, 16mb video card, ...   \n",
       "2     500 mhz processor, 96mb ram, 16mb video card, ...   \n",
       "3     500 mhz processor, 96mb ram, 16mb video card, ...   \n",
       "4     500 mhz processor, 96mb ram, 16mb video card, ...   \n",
       "...                                                 ...   \n",
       "7314  OS: Windows 7 Processor: Inter Core i7 Memory:...   \n",
       "7315  OS: Windows XP, Vista, 7, 8, 10 Processor: Int...   \n",
       "7316  OS: Windows 7, Windows 8, Windows 10 (32/64bit...   \n",
       "7317  OS: Windows XP or later Processor: 1.5 GHz Mem...   \n",
       "7318  OS: Windows XP or later Processor: 2 GHz Memor...   \n",
       "\n",
       "                                            recommended  \n",
       "0                                                   NaN  \n",
       "1                                                   NaN  \n",
       "2                                                   NaN  \n",
       "3                                                   NaN  \n",
       "4                                                   NaN  \n",
       "...                                                 ...  \n",
       "7314                                                NaN  \n",
       "7315                                                NaN  \n",
       "7316                                                NaN  \n",
       "7317  OS: Windows 7 or later Processor: 1.5 GHz Memo...  \n",
       "7318  OS: Windows 7 or later Processor: 4 GHZ proces...  \n",
       "\n",
       "[27319 rows x 6 columns]>"
      ]
     },
     "execution_count": 29,
     "metadata": {},
     "output_type": "execute_result"
    }
   ],
   "source": [
    "steamRequirements.info"
   ]
  },
  {
   "cell_type": "code",
   "execution_count": null,
   "id": "581faf7d",
   "metadata": {},
   "outputs": [],
   "source": []
  }
 ],
 "metadata": {
  "kernelspec": {
   "display_name": "Python 3",
   "language": "python",
   "name": "python3"
  },
  "language_info": {
   "codemirror_mode": {
    "name": "ipython",
    "version": 3
   },
   "file_extension": ".py",
   "mimetype": "text/x-python",
   "name": "python",
   "nbconvert_exporter": "python",
   "pygments_lexer": "ipython3",
   "version": "3.8.8"
  }
 },
 "nbformat": 4,
 "nbformat_minor": 5
}
