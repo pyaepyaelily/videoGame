{
 "cells": [
  {
   "cell_type": "markdown",
   "id": "7792f2c2",
   "metadata": {},
   "source": [
    "### Libraries"
   ]
  },
  {
   "cell_type": "code",
   "execution_count": 1,
   "id": "57adff21",
   "metadata": {},
   "outputs": [],
   "source": [
    "import glob\n",
    "import os\n",
    "import numpy as np\n",
    "import pandas as pd\n",
    "import seaborn as sb\n",
    "import matplotlib.pyplot as plt # we only need pyplot\n",
    "import texthero as hero\n",
    "from texthero import preprocessing\n",
    "sb.set() # set the default Seaborn style for graphics\n",
    "from matplotlib.ticker import FuncFormatter, MaxNLocator\n",
    "import matplotlib.dates as mdates"
   ]
  },
  {
   "cell_type": "markdown",
   "id": "8a01b895",
   "metadata": {},
   "source": [
    "### Chunking CSV to upload onto GitHub"
   ]
  },
  {
   "cell_type": "markdown",
   "id": "4c622cd1",
   "metadata": {},
   "source": [
    "import pandas as pd\n",
    "\n",
    "chunk_size = 55000\n",
    "batch_no = 1\n",
    "\n",
    "for chunk in pd.read_csv('221100_DayZ.csv', chunksize=chunk_size):\n",
    "    #chunk.to_csv('221100_DayZ' + str(batch_no) + '.csv', index=False)\n",
    "    #batch_no +=1"
   ]
  },
  {
   "cell_type": "markdown",
   "id": "06c1ffed",
   "metadata": {},
   "source": [
    "### Dataset"
   ]
  },
  {
   "cell_type": "code",
   "execution_count": 2,
   "id": "73fac1a9",
   "metadata": {},
   "outputs": [
    {
     "name": "stderr",
     "output_type": "stream",
     "text": [
      "C:\\Users\\Pyae Pyae\\anaconda3\\lib\\site-packages\\IPython\\core\\interactiveshell.py:3437: DtypeWarning: Columns (23) have mixed types.Specify dtype option on import or set low_memory=False.\n",
      "  exec(code_obj, self.user_global_ns, self.user_ns)\n",
      "C:\\Users\\Pyae Pyae\\anaconda3\\lib\\site-packages\\IPython\\core\\interactiveshell.py:3437: DtypeWarning: Columns (1,23) have mixed types.Specify dtype option on import or set low_memory=False.\n",
      "  exec(code_obj, self.user_global_ns, self.user_ns)\n",
      "C:\\Users\\Pyae Pyae\\anaconda3\\lib\\site-packages\\IPython\\core\\interactiveshell.py:3357: DtypeWarning: Columns (2) have mixed types.Specify dtype option on import or set low_memory=False.\n",
      "  if (await self.run_code(code, result,  async_=asy)):\n",
      "C:\\Users\\Pyae Pyae\\anaconda3\\lib\\site-packages\\IPython\\core\\interactiveshell.py:3357: DtypeWarning: Columns (23) have mixed types.Specify dtype option on import or set low_memory=False.\n",
      "  if (await self.run_code(code, result,  async_=asy)):\n"
     ]
    }
   ],
   "source": [
    "steamData = pd.read_csv('steam_data/steam.csv')\n",
    "steamSupportInfo = pd.read_csv('steam_data/steam_support_info.csv')\n",
    "steamChart = pd.read_csv('steam_data/steamCharts.csv')\n",
    "steamSpyTagData = pd.read_csv('steam_data/steamspy_tag_data.csv')\n",
    "steamGames = pd.concat(map(pd.read_csv, glob.glob(os.path.join('', \"steam_data/steam_games/steam_games*.csv\"))))\n",
    "steamMediaData = pd.concat(map(pd.read_csv, glob.glob(os.path.join('', \"steam_data/steam_media_data/steam_media_data*.csv\"))))\n",
    "steamRequirements = pd.concat(map(pd.read_csv, glob.glob(os.path.join('', \"steam_data/steam_requirements/steam_requirements*.csv\"))))\n",
    "steamDescription = pd.concat(map(pd.read_csv, glob.glob(os.path.join('', \"steam_data/steam_description/steam_description*.csv\"))))\n",
    "\n",
    "#game reviews\n",
    "steam_HalfOfTheGameReviews = pd.concat(map(pd.read_csv, glob.glob(os.path.join('', \"steam_data/steam_reviews/steam_review_*.csv\"))))\n",
    "files = glob.glob(\"steam_data/steam_reviews\" + '**/**' + \"/*.csv\")\n",
    "steamReviews_fromFolder = pd.concat([pd.read_csv(f) for f in files ])\n",
    "steamReviewsDF = [steam_HalfOfTheGameReviews, steamReviews_fromFolder]\n",
    "steamCombinedReviews = pd.concat(steamReviewsDF)\n",
    "\n",
    "#steamCombinedReviews"
   ]
  },
  {
   "cell_type": "markdown",
   "id": "cbd1e37d",
   "metadata": {},
   "source": [
    "### Cleaning the Dataset"
   ]
  },
  {
   "cell_type": "markdown",
   "id": "b9d29aa9",
   "metadata": {},
   "source": [
    "##### renaming and getting the columns we need"
   ]
  },
  {
   "cell_type": "code",
   "execution_count": 3,
   "id": "faaa72a8",
   "metadata": {},
   "outputs": [],
   "source": [
    "#rename for easier identification\n",
    "steamGames = steamGames.rename(columns={\"name\": \"title\"})\n",
    "steamData = steamData.rename(columns={\"name\": \"title\", \"genres\":\"genre\"})\n",
    "\n",
    "#drop columns\n",
    "steamCombinedReviews = steamCombinedReviews[[\"title\", \"review\", \"voted_up\"]]\n",
    "steamGames = steamGames[[\"title\", \"genre\",\"release_date\"]]\n",
    "steamData = steamData[['title', 'genre', 'positive_ratings', 'negative_ratings']]"
   ]
  },
  {
   "cell_type": "code",
   "execution_count": null,
   "id": "7256b49c",
   "metadata": {},
   "outputs": [],
   "source": [
    "#steamReviews_1 = steamCombinedReviews.iloc[:1000000,:]\n",
    "#steamReviews_2 = steamCombinedReviews.iloc[1000000:2000000,:]\n",
    "#steamReviews_3 = steamCombinedReviews.iloc[2000000:3000000,:]\n",
    "#steamReviews_3 = steamCombinedReviews.iloc[30000000:,:]"
   ]
  },
  {
   "cell_type": "code",
   "execution_count": null,
   "id": "2250497f",
   "metadata": {},
   "outputs": [],
   "source": [
    "steamReviews_1 = steamCombinedReviews.iloc[:50,:]"
   ]
  },
  {
   "cell_type": "code",
   "execution_count": null,
   "id": "8f8eb41e",
   "metadata": {},
   "outputs": [],
   "source": [
    "chunks = list()\n",
    "chunk_size = 10\n",
    "num_chunks = len(steamReviews_1) // chunk_size + 1\n",
    "for i in range(num_chunks):\n",
    "    chunks.append(steamReviews_1[i*chunk_size:(i+1)*chunk_size])"
   ]
  },
  {
   "cell_type": "code",
   "execution_count": null,
   "id": "4917f37e",
   "metadata": {},
   "outputs": [],
   "source": [
    "#chunks = list()\n",
    "#chunk_size = 100000\n",
    "#num_chunks = len(steamCombinedReviews) // chunk_size + 1\n",
    "#for i in range(num_chunks):\n",
    "    #chunks.append(steamCombinedReviews[i*chunk_size:(i+1)*chunk_size])"
   ]
  },
  {
   "cell_type": "code",
   "execution_count": 4,
   "id": "84f0741f",
   "metadata": {},
   "outputs": [],
   "source": [
    "#create a custom cleaning pipeline\n",
    "custom_pipeline = [preprocessing.fillna\n",
    "                   , preprocessing.lowercase\n",
    "                   , preprocessing.remove_punctuation\n",
    "                   , preprocessing.remove_diacritics\n",
    "                   , preprocessing.remove_whitespace]\n",
    "\n",
    "steamCombinedReviews['title'] = hero.clean(steamCombinedReviews['title'], pipeline = custom_pipeline)\n",
    "#steamCombinedReviews['clean_review'] = hero.clean(steamCombinedReviews['review'], pipeline = custom_pipeline)\n",
    "steamGames['title'] = hero.clean(steamGames['title'], pipeline = custom_pipeline)\n",
    "steamData['title'] = hero.clean(steamData['title'], pipeline = custom_pipeline)"
   ]
  },
  {
   "cell_type": "code",
   "execution_count": null,
   "id": "7b765b01",
   "metadata": {},
   "outputs": [],
   "source": [
    "from texthero import stopwords\n",
    "default_stopwords = stopwords.DEFAULT\n",
    "custom_stopwords = default_stopwords.union(set([\"game\",\"mods\"]))\n",
    "\n",
    "\n",
    "custom_pipeline_review = [preprocessing.fillna\n",
    "                          , preprocessing.lowercase\n",
    "                          , preprocessing.remove_punctuation\n",
    "                          , preprocessing.remove_diacritics\n",
    "                          , preprocessing.remove_whitespace\n",
    "                          , preprocessing.drop_no_content]\n",
    "\n",
    "#steamCombinedReviews['clean_review'] = hero.clean(steamCombinedReviews['review'], pipeline = custom_pipeline_review)\n",
    "\n",
    "for dataframeTest in chunks:\n",
    "    dataframeTest.review = hero.clean(dataframeTest.review, pipeline = custom_pipeline_review)\n",
    "    #dataframeTest.review = hero.remove_stopwords(dataframeTest.review, custom_stopwords)\n"
   ]
  },
  {
   "cell_type": "code",
   "execution_count": null,
   "id": "c4a5aecc",
   "metadata": {},
   "outputs": [],
   "source": [
    "df = pd.concat(chunks)"
   ]
  },
  {
   "cell_type": "code",
   "execution_count": null,
   "id": "0ea8a48d",
   "metadata": {},
   "outputs": [],
   "source": [
    "#tw = hero.visualization.top_words(testing).head(50)\n",
    "#import plotly.express as px\n",
    "#fig = px.bar(tw)\n",
    "#fig.show()\n",
    "#tw.head()"
   ]
  },
  {
   "cell_type": "markdown",
   "id": "0c385bf7",
   "metadata": {},
   "source": [
    "Some popular words that can be observed here include “taste,” “product,” “love,” and “Amazon.” These words are mostly positive, also indicating that most reviews in the dataset express a positive sentiment."
   ]
  },
  {
   "cell_type": "markdown",
   "id": "5dc3d663",
   "metadata": {},
   "source": [
    "##### Getting title, genre, release date, reviews and ratings"
   ]
  },
  {
   "cell_type": "code",
   "execution_count": 5,
   "id": "3db2a4cb",
   "metadata": {},
   "outputs": [
    {
     "data": {
      "text/html": [
       "<div>\n",
       "<style scoped>\n",
       "    .dataframe tbody tr th:only-of-type {\n",
       "        vertical-align: middle;\n",
       "    }\n",
       "\n",
       "    .dataframe tbody tr th {\n",
       "        vertical-align: top;\n",
       "    }\n",
       "\n",
       "    .dataframe thead th {\n",
       "        text-align: right;\n",
       "    }\n",
       "</style>\n",
       "<table border=\"1\" class=\"dataframe\">\n",
       "  <thead>\n",
       "    <tr style=\"text-align: right;\">\n",
       "      <th></th>\n",
       "      <th>title</th>\n",
       "      <th>genre</th>\n",
       "      <th>release_date</th>\n",
       "    </tr>\n",
       "  </thead>\n",
       "  <tbody>\n",
       "    <tr>\n",
       "      <th>0</th>\n",
       "      <td>doom</td>\n",
       "      <td>Action</td>\n",
       "      <td>May 12, 2016</td>\n",
       "    </tr>\n",
       "    <tr>\n",
       "      <th>1</th>\n",
       "      <td>playerunknown s battlegrounds</td>\n",
       "      <td>Action,Adventure,Massively Multiplayer</td>\n",
       "      <td>Dec 21, 2017</td>\n",
       "    </tr>\n",
       "    <tr>\n",
       "      <th>2</th>\n",
       "      <td>battletech</td>\n",
       "      <td>Action,Adventure,Strategy</td>\n",
       "      <td>Apr 24, 2018</td>\n",
       "    </tr>\n",
       "    <tr>\n",
       "      <th>3</th>\n",
       "      <td>dayz</td>\n",
       "      <td>Action,Adventure,Massively Multiplayer</td>\n",
       "      <td>Dec 13, 2018</td>\n",
       "    </tr>\n",
       "    <tr>\n",
       "      <th>4</th>\n",
       "      <td>eve online</td>\n",
       "      <td>Action,Free to Play,Massively Multiplayer,RPG,...</td>\n",
       "      <td>May 6, 2003</td>\n",
       "    </tr>\n",
       "    <tr>\n",
       "      <th>...</th>\n",
       "      <td>...</td>\n",
       "      <td>...</td>\n",
       "      <td>...</td>\n",
       "    </tr>\n",
       "    <tr>\n",
       "      <th>828</th>\n",
       "      <td>rocksmith(r) 2014 edition - remastered - sabat...</td>\n",
       "      <td>Casual,Simulation</td>\n",
       "      <td>Feb 12, 2019</td>\n",
       "    </tr>\n",
       "    <tr>\n",
       "      <th>829</th>\n",
       "      <td>rocksmith(r) 2014 edition - remastered - stone...</td>\n",
       "      <td>Casual,Simulation</td>\n",
       "      <td>Feb 5, 2019</td>\n",
       "    </tr>\n",
       "    <tr>\n",
       "      <th>830</th>\n",
       "      <td>fantasy grounds quests of doom 4 a midnight co...</td>\n",
       "      <td>Indie,RPG,Strategy</td>\n",
       "      <td>Jul 31, 2018</td>\n",
       "    </tr>\n",
       "    <tr>\n",
       "      <th>831</th>\n",
       "      <td>mega man x5 sound collection</td>\n",
       "      <td>Action</td>\n",
       "      <td>Jul 24, 2018</td>\n",
       "    </tr>\n",
       "    <tr>\n",
       "      <th>832</th>\n",
       "      <td>stories in stone</td>\n",
       "      <td>Adventure,RPG</td>\n",
       "      <td>Aug 8, 2018</td>\n",
       "    </tr>\n",
       "  </tbody>\n",
       "</table>\n",
       "<p>40833 rows × 3 columns</p>\n",
       "</div>"
      ],
      "text/plain": [
       "                                                 title  \\\n",
       "0                                                 doom   \n",
       "1                        playerunknown s battlegrounds   \n",
       "2                                           battletech   \n",
       "3                                                 dayz   \n",
       "4                                           eve online   \n",
       "..                                                 ...   \n",
       "828  rocksmith(r) 2014 edition - remastered - sabat...   \n",
       "829  rocksmith(r) 2014 edition - remastered - stone...   \n",
       "830  fantasy grounds quests of doom 4 a midnight co...   \n",
       "831                       mega man x5 sound collection   \n",
       "832                                   stories in stone   \n",
       "\n",
       "                                                 genre  release_date  \n",
       "0                                               Action  May 12, 2016  \n",
       "1               Action,Adventure,Massively Multiplayer  Dec 21, 2017  \n",
       "2                            Action,Adventure,Strategy  Apr 24, 2018  \n",
       "3               Action,Adventure,Massively Multiplayer  Dec 13, 2018  \n",
       "4    Action,Free to Play,Massively Multiplayer,RPG,...   May 6, 2003  \n",
       "..                                                 ...           ...  \n",
       "828                                  Casual,Simulation  Feb 12, 2019  \n",
       "829                                  Casual,Simulation   Feb 5, 2019  \n",
       "830                                 Indie,RPG,Strategy  Jul 31, 2018  \n",
       "831                                             Action  Jul 24, 2018  \n",
       "832                                      Adventure,RPG   Aug 8, 2018  \n",
       "\n",
       "[40833 rows x 3 columns]"
      ]
     },
     "execution_count": 5,
     "metadata": {},
     "output_type": "execute_result"
    }
   ],
   "source": [
    "steamGames"
   ]
  },
  {
   "cell_type": "code",
   "execution_count": 6,
   "id": "8b656094",
   "metadata": {},
   "outputs": [
    {
     "data": {
      "text/html": [
       "<div>\n",
       "<style scoped>\n",
       "    .dataframe tbody tr th:only-of-type {\n",
       "        vertical-align: middle;\n",
       "    }\n",
       "\n",
       "    .dataframe tbody tr th {\n",
       "        vertical-align: top;\n",
       "    }\n",
       "\n",
       "    .dataframe thead th {\n",
       "        text-align: right;\n",
       "    }\n",
       "</style>\n",
       "<table border=\"1\" class=\"dataframe\">\n",
       "  <thead>\n",
       "    <tr style=\"text-align: right;\">\n",
       "      <th></th>\n",
       "      <th>title</th>\n",
       "      <th>genre</th>\n",
       "      <th>positive_ratings</th>\n",
       "      <th>negative_ratings</th>\n",
       "      <th>price</th>\n",
       "    </tr>\n",
       "  </thead>\n",
       "  <tbody>\n",
       "    <tr>\n",
       "      <th>0</th>\n",
       "      <td>counter strike</td>\n",
       "      <td>Action</td>\n",
       "      <td>124534</td>\n",
       "      <td>3339</td>\n",
       "      <td>7.19</td>\n",
       "    </tr>\n",
       "    <tr>\n",
       "      <th>1</th>\n",
       "      <td>team fortress classic</td>\n",
       "      <td>Action</td>\n",
       "      <td>3318</td>\n",
       "      <td>633</td>\n",
       "      <td>3.99</td>\n",
       "    </tr>\n",
       "    <tr>\n",
       "      <th>2</th>\n",
       "      <td>day of defeat</td>\n",
       "      <td>Action</td>\n",
       "      <td>3416</td>\n",
       "      <td>398</td>\n",
       "      <td>3.99</td>\n",
       "    </tr>\n",
       "    <tr>\n",
       "      <th>3</th>\n",
       "      <td>deathmatch classic</td>\n",
       "      <td>Action</td>\n",
       "      <td>1273</td>\n",
       "      <td>267</td>\n",
       "      <td>3.99</td>\n",
       "    </tr>\n",
       "    <tr>\n",
       "      <th>4</th>\n",
       "      <td>half life opposing force</td>\n",
       "      <td>Action</td>\n",
       "      <td>5250</td>\n",
       "      <td>288</td>\n",
       "      <td>3.99</td>\n",
       "    </tr>\n",
       "    <tr>\n",
       "      <th>...</th>\n",
       "      <td>...</td>\n",
       "      <td>...</td>\n",
       "      <td>...</td>\n",
       "      <td>...</td>\n",
       "      <td>...</td>\n",
       "    </tr>\n",
       "    <tr>\n",
       "      <th>27070</th>\n",
       "      <td>room of pandora</td>\n",
       "      <td>Adventure;Casual;Indie</td>\n",
       "      <td>3</td>\n",
       "      <td>0</td>\n",
       "      <td>2.09</td>\n",
       "    </tr>\n",
       "    <tr>\n",
       "      <th>27071</th>\n",
       "      <td>cyber gun</td>\n",
       "      <td>Action;Adventure;Indie</td>\n",
       "      <td>8</td>\n",
       "      <td>1</td>\n",
       "      <td>1.69</td>\n",
       "    </tr>\n",
       "    <tr>\n",
       "      <th>27072</th>\n",
       "      <td>super star blast</td>\n",
       "      <td>Action;Casual;Indie</td>\n",
       "      <td>0</td>\n",
       "      <td>1</td>\n",
       "      <td>3.99</td>\n",
       "    </tr>\n",
       "    <tr>\n",
       "      <th>27073</th>\n",
       "      <td>new yankee 7 deer hunters</td>\n",
       "      <td>Adventure;Casual;Indie</td>\n",
       "      <td>2</td>\n",
       "      <td>0</td>\n",
       "      <td>5.19</td>\n",
       "    </tr>\n",
       "    <tr>\n",
       "      <th>27074</th>\n",
       "      <td>rune lord</td>\n",
       "      <td>Adventure;Casual;Indie</td>\n",
       "      <td>4</td>\n",
       "      <td>0</td>\n",
       "      <td>5.19</td>\n",
       "    </tr>\n",
       "  </tbody>\n",
       "</table>\n",
       "<p>27075 rows × 5 columns</p>\n",
       "</div>"
      ],
      "text/plain": [
       "                           title                   genre  positive_ratings  \\\n",
       "0                 counter strike                  Action            124534   \n",
       "1          team fortress classic                  Action              3318   \n",
       "2                  day of defeat                  Action              3416   \n",
       "3             deathmatch classic                  Action              1273   \n",
       "4       half life opposing force                  Action              5250   \n",
       "...                          ...                     ...               ...   \n",
       "27070            room of pandora  Adventure;Casual;Indie                 3   \n",
       "27071                  cyber gun  Action;Adventure;Indie                 8   \n",
       "27072           super star blast     Action;Casual;Indie                 0   \n",
       "27073  new yankee 7 deer hunters  Adventure;Casual;Indie                 2   \n",
       "27074                  rune lord  Adventure;Casual;Indie                 4   \n",
       "\n",
       "       negative_ratings  price  \n",
       "0                  3339   7.19  \n",
       "1                   633   3.99  \n",
       "2                   398   3.99  \n",
       "3                   267   3.99  \n",
       "4                   288   3.99  \n",
       "...                 ...    ...  \n",
       "27070                 0   2.09  \n",
       "27071                 1   1.69  \n",
       "27072                 1   3.99  \n",
       "27073                 0   5.19  \n",
       "27074                 0   5.19  \n",
       "\n",
       "[27075 rows x 5 columns]"
      ]
     },
     "execution_count": 6,
     "metadata": {},
     "output_type": "execute_result"
    }
   ],
   "source": [
    "steamData"
   ]
  },
  {
   "cell_type": "markdown",
   "id": "48fff162",
   "metadata": {},
   "source": [
    "##### putting the data into another dataframe "
   ]
  },
  {
   "cell_type": "code",
   "execution_count": 7,
   "id": "ac9b28c2",
   "metadata": {},
   "outputs": [],
   "source": [
    "steamGames_Title_Genre = steamGames\n",
    "steamData_Title_Rating = steamData\n",
    "\n",
    "#getting title and review from steamCombinedReviews df\n",
    "#steamCombinedReviews_Title_Reviews = steamCombinedReviews[['title', 'review', 'clean_content']]"
   ]
  },
  {
   "cell_type": "markdown",
   "id": "a7bcf4fc",
   "metadata": {},
   "source": [
    "##### matching title"
   ]
  },
  {
   "cell_type": "code",
   "execution_count": 9,
   "id": "35ed8eae",
   "metadata": {},
   "outputs": [],
   "source": [
    "#Genre\n",
    "matchTitleGenre = steamGames_Title_Genre.title.isin(steamCombinedReviews.title)\n",
    "steamMatchTitleGenre = steamGames_Title_Genre[matchTitleGenre]\n",
    "\n",
    "#Rating\n",
    "matchTitleRating = steamData_Title_Rating.title.isin(steamCombinedReviews.title)\n",
    "steamMatchTitleRating = steamData_Title_Rating[matchTitleRating]\n"
   ]
  },
  {
   "cell_type": "markdown",
   "id": "d21cd5e6",
   "metadata": {},
   "source": [
    "##### dropping duplicate values"
   ]
  },
  {
   "cell_type": "code",
   "execution_count": 10,
   "id": "82759861",
   "metadata": {},
   "outputs": [],
   "source": [
    "#Genre\n",
    "steamUniqueTitleGenre = steamMatchTitleGenre.drop_duplicates(['title'])\n",
    "steamUniqueTitleGenre = steamUniqueTitleGenre.reset_index(drop=True)\n",
    "\n",
    "#Rating\n",
    "steamUniqueTitleRating = steamMatchTitleRating.reset_index(drop=True)\n",
    "\n",
    "#Drop nan rows\n",
    "nan_value = float(\"NaN\")\n",
    "steamUniqueTitleGenre.replace(\"\", nan_value, inplace=True)\n",
    "steamUniqueTitleGenre.dropna(subset = [\"genre\"], inplace=True)\n",
    "\n",
    "steamUniqueTitleRating.replace(\"\", nan_value, inplace=True)\n",
    "steamUniqueTitleRating.dropna(subset = [\"title\"], inplace=True)"
   ]
  },
  {
   "cell_type": "markdown",
   "id": "1ad28e49",
   "metadata": {},
   "source": [
    "##### remove values that we don't use"
   ]
  },
  {
   "cell_type": "code",
   "execution_count": 11,
   "id": "4d0de1a8",
   "metadata": {},
   "outputs": [
    {
     "name": "stderr",
     "output_type": "stream",
     "text": [
      "<ipython-input-11-79a5f394d0a3>:2: FutureWarning: The default value of regex will change from True to False in a future version.\n",
      "  steamUniqueTitleGenre['genre'] = steamUniqueTitleGenre.genre.str.replace(',Early Access?', '')\n",
      "<ipython-input-11-79a5f394d0a3>:3: FutureWarning: The default value of regex will change from True to False in a future version.\n",
      "  steamUniqueTitleGenre['genre'] = steamUniqueTitleGenre.genre.str.replace('Early Access,?', '')\n",
      "<ipython-input-11-79a5f394d0a3>:4: FutureWarning: The default value of regex will change from True to False in a future version.\n",
      "  steamUniqueTitleGenre['genre'] = steamUniqueTitleGenre.genre.str.replace(',Free to Play?', '')\n",
      "<ipython-input-11-79a5f394d0a3>:5: FutureWarning: The default value of regex will change from True to False in a future version.\n",
      "  steamUniqueTitleGenre['genre'] = steamUniqueTitleGenre.genre.str.replace('Free to Play,?', '')\n",
      "<ipython-input-11-79a5f394d0a3>:14: FutureWarning: The default value of regex will change from True to False in a future version.\n",
      "  steamUniqueTitleRating['genre'] = steamUniqueTitleRating.genre.str.replace(';Early Access?', '')\n",
      "<ipython-input-11-79a5f394d0a3>:15: FutureWarning: The default value of regex will change from True to False in a future version.\n",
      "  steamUniqueTitleRating['genre'] = steamUniqueTitleRating.genre.str.replace('Early Access;?', '')\n",
      "<ipython-input-11-79a5f394d0a3>:16: FutureWarning: The default value of regex will change from True to False in a future version.\n",
      "  steamUniqueTitleRating['genre'] = steamUniqueTitleRating.genre.str.replace(';Free to Play?', '')\n",
      "<ipython-input-11-79a5f394d0a3>:17: FutureWarning: The default value of regex will change from True to False in a future version.\n",
      "  steamUniqueTitleRating['genre'] = steamUniqueTitleRating.genre.str.replace('Free to Play;?', '')\n"
     ]
    }
   ],
   "source": [
    "#Genre\n",
    "steamUniqueTitleGenre['genre'] = steamUniqueTitleGenre.genre.str.replace(',Early Access?', '')\n",
    "steamUniqueTitleGenre['genre'] = steamUniqueTitleGenre.genre.str.replace('Early Access,?', '')\n",
    "steamUniqueTitleGenre['genre'] = steamUniqueTitleGenre.genre.str.replace(',Free to Play?', '')\n",
    "steamUniqueTitleGenre['genre'] = steamUniqueTitleGenre.genre.str.replace('Free to Play,?', '')\n",
    "\n",
    "steamUniqueTitleGenre['release_date'] = steamUniqueTitleGenre.release_date.str.replace('Early Access' , '')\n",
    "steamUniqueTitleGenre['release_date'] = steamUniqueTitleGenre.release_date.str.replace('Coming Soon' , '')\n",
    "steamUniqueTitleGenre['release_date'] = steamUniqueTitleGenre.release_date.str.replace('To Be Announced' , '')\n",
    "\n",
    "#steamUniqueTitleGenre.to_excel(\"steamUniqueTitleGenre.xlsx\")\n",
    "\n",
    "#Rating\n",
    "steamUniqueTitleRating['genre'] = steamUniqueTitleRating.genre.str.replace(';Early Access?', '')\n",
    "steamUniqueTitleRating['genre'] = steamUniqueTitleRating.genre.str.replace('Early Access;?', '')\n",
    "steamUniqueTitleRating['genre'] = steamUniqueTitleRating.genre.str.replace(';Free to Play?', '')\n",
    "steamUniqueTitleRating['genre'] = steamUniqueTitleRating.genre.str.replace('Free to Play;?', '')\n",
    "\n",
    "#steamUniqueTitleRating.to_excel(\"steamUniqueTitleRating.xlsx\")"
   ]
  },
  {
   "cell_type": "markdown",
   "id": "740f2cbb",
   "metadata": {},
   "source": [
    "### Genre"
   ]
  },
  {
   "cell_type": "markdown",
   "id": "6bfa7bec",
   "metadata": {},
   "source": [
    "##### split genre into 6 columns"
   ]
  },
  {
   "cell_type": "code",
   "execution_count": null,
   "id": "6335e08d",
   "metadata": {},
   "outputs": [],
   "source": [
    "steamUniqueTitleGenre[['genre1', 'genre2', 'genre3','genre4','genre5','genre6']] = steamUniqueTitleGenre['genre'].str.split(',', expand=True)"
   ]
  },
  {
   "cell_type": "code",
   "execution_count": null,
   "id": "4ea4bd41",
   "metadata": {},
   "outputs": [],
   "source": [
    "steamUniqueTitleGenre"
   ]
  },
  {
   "cell_type": "markdown",
   "id": "5a1395cc",
   "metadata": {},
   "source": [
    "##### dropping genre, title, and release date columns to get the total count of genre"
   ]
  },
  {
   "cell_type": "code",
   "execution_count": null,
   "id": "86aef8d3",
   "metadata": {},
   "outputs": [],
   "source": [
    "steamGenreCount = steamUniqueTitleGenre.drop(columns=['genre','title', 'release_date'])"
   ]
  },
  {
   "cell_type": "markdown",
   "id": "ebc11f7d",
   "metadata": {},
   "source": [
    "##### reset index and rename the column"
   ]
  },
  {
   "cell_type": "code",
   "execution_count": null,
   "id": "f61a4926",
   "metadata": {},
   "outputs": [],
   "source": [
    "steamGenreGraph = steamGenreCount.stack().value_counts().reset_index()\n",
    "steamGenreGraph.columns = ['genre','count']\n",
    "steamGenreGraph"
   ]
  },
  {
   "cell_type": "markdown",
   "id": "a172ccd0",
   "metadata": {},
   "source": [
    "##### graph to see which genre is most popular "
   ]
  },
  {
   "cell_type": "code",
   "execution_count": null,
   "id": "e8fc8af9",
   "metadata": {},
   "outputs": [],
   "source": [
    "fig_dims = (15, 6)\n",
    "fig, ax = plt.subplots(figsize=fig_dims)\n",
    "sb.barplot(x=\"genre\", y=\"count\", data=steamGenreGraph, ax=ax)"
   ]
  },
  {
   "cell_type": "markdown",
   "id": "0a265dfe",
   "metadata": {},
   "source": [
    "we can see that most of the games' genres are action, indie and simulation. Hence, We can conclude that players are most likely to play these genres compared to the rest."
   ]
  },
  {
   "cell_type": "code",
   "execution_count": null,
   "id": "f9d2e940",
   "metadata": {},
   "outputs": [],
   "source": [
    "# storing last 4 letters of release_date as year\n",
    "steamGenre_Date = steamUniqueTitleGenre\n",
    "steamGenre_Date['year'] = steamGenre_Date['release_date'].str.slice(-4)\n",
    "\n",
    "#dropping unused columns\n",
    "steamGenre_Date = steamUniqueTitleGenre.drop(columns=['title', 'genre1', 'genre2', 'genre3','genre4','genre5','genre6'])\n",
    "steamGenre_Date"
   ]
  },
  {
   "cell_type": "markdown",
   "id": "09e930d7",
   "metadata": {},
   "source": [
    "##### storing the top 3 genre individually"
   ]
  },
  {
   "cell_type": "code",
   "execution_count": null,
   "id": "44c3b543",
   "metadata": {},
   "outputs": [],
   "source": [
    "action =steamGenre_Date.loc[steamGenre_Date['genre'].str.contains(\"action\", case=False)]\n",
    "indie =steamGenre_Date.loc[steamGenre_Date['genre'].str.contains(\"indie\", case=False)]\n",
    "simulation = steamGenre_Date.loc[steamGenre_Date['genre'].str.contains(\"simulation\", case=False)]"
   ]
  },
  {
   "cell_type": "markdown",
   "id": "4b938ca3",
   "metadata": {},
   "source": [
    "##### converting year to int"
   ]
  },
  {
   "cell_type": "code",
   "execution_count": null,
   "id": "50e656ba",
   "metadata": {},
   "outputs": [],
   "source": [
    "action[\"year\"] = pd.to_numeric(action[\"year\"])\n",
    "indie[\"year\"] = pd.to_numeric(indie[\"year\"])\n",
    "simulation[\"year\"] = pd.to_numeric(simulation[\"year\"])\n",
    "\n",
    "action[\"year\"] = action[\"year\"].fillna(0.0).astype(int)\n",
    "indie[\"year\"] = indie[\"year\"].fillna(0.0).astype(int)\n",
    "simulation[\"year\"] = simulation[\"year\"].fillna(0.0).astype(int)"
   ]
  },
  {
   "cell_type": "markdown",
   "id": "e1a29a25",
   "metadata": {},
   "source": [
    "##### dropping rows that has 2020 in \"year\" column because it is outlier"
   ]
  },
  {
   "cell_type": "code",
   "execution_count": null,
   "id": "bcb3148a",
   "metadata": {},
   "outputs": [],
   "source": [
    "# Get names of indexes for which column action has value 2020\n",
    "indexAction = action[action['year'] == 2020].index\n",
    "# Delete these row indexes from dataFrame\n",
    "indexAction = action.drop(indexAction , inplace=True)\n",
    "\n",
    "# Get names of indexes for which indie action has value 2020\n",
    "indexIndie = indie[indie['year'] == 2020].index\n",
    "# Delete these row indexes from dataFrame\n",
    "indexIndie = indie.drop(indexIndie , inplace=True)\n",
    "\n",
    "# Get names of indexes for which column simulation has value 2020\n",
    "indexSimulation = simulation[simulation['year'] == 2020].index\n",
    "# Delete these row indexes from dataFrame\n",
    "indexIndie = simulation.drop(indexSimulation , inplace=True)\n"
   ]
  },
  {
   "cell_type": "markdown",
   "id": "5fe4d86d",
   "metadata": {},
   "source": [
    "##### grouping data based on year"
   ]
  },
  {
   "cell_type": "code",
   "execution_count": null,
   "id": "462ceb84",
   "metadata": {},
   "outputs": [],
   "source": [
    "groupedAction = action.groupby(\"year\").count()\n",
    "groupedIndie = indie.groupby(\"year\").count()\n",
    "groupedSimulation = simulation.groupby(\"year\").count()\n",
    "\n",
    "#reset index\n",
    "groupedAction.reset_index(inplace=True)\n",
    "groupedIndie.reset_index(inplace=True)\n",
    "groupedSimulation.reset_index(inplace=True)"
   ]
  },
  {
   "cell_type": "markdown",
   "id": "00937136",
   "metadata": {},
   "source": [
    "##### rename and convert the count to corresponding genre"
   ]
  },
  {
   "cell_type": "code",
   "execution_count": null,
   "id": "b8a5cdf2",
   "metadata": {},
   "outputs": [],
   "source": [
    "groupedAction = groupedAction.rename(columns={'genre': 'action count'})\n",
    "groupedAction['action count'] = groupedAction['action count'].astype(int)\n",
    "\n",
    "groupedIndie = groupedIndie.rename(columns={'genre': 'indie count'}) \n",
    "groupedIndie['indie count'] = groupedIndie['indie count'].astype(int)\n",
    "\n",
    "groupedSimulation = groupedSimulation.rename(columns={'genre': 'simulation count'})\n",
    "groupedSimulation['simulation count'] = groupedSimulation['simulation count'].astype(int)\n",
    "\n",
    "#drop \"release_date\" column\n",
    "groupedAction = groupedAction.drop(columns=['release_date'])\n",
    "groupedIndie = groupedIndie.drop(columns=['release_date'])\n",
    "groupedSimulation = groupedSimulation.drop(columns=['release_date'])\n"
   ]
  },
  {
   "cell_type": "markdown",
   "id": "99a8ab94",
   "metadata": {},
   "source": [
    "##### merge the top 3 dataframes into one for lineplot"
   ]
  },
  {
   "cell_type": "code",
   "execution_count": null,
   "id": "530e471c",
   "metadata": {},
   "outputs": [],
   "source": [
    "genreTimeLine = groupedAction.merge(groupedIndie,on='year').merge(groupedSimulation,on='year')\n",
    "genreTimeLine"
   ]
  },
  {
   "cell_type": "code",
   "execution_count": null,
   "id": "ae15bc29",
   "metadata": {},
   "outputs": [],
   "source": [
    "plt.figure(figsize=(15,8))\n",
    "sb.lineplot(x='year', y='value', hue='variable', \n",
    "             data=pd.melt(genreTimeLine, ['year']))\n",
    "\n",
    "ya = ax.get_yaxis()\n",
    "ya.set_major_locator(MaxNLocator(integer=True))\n",
    "\n",
    "xa = ax.get_xaxis()\n",
    "xa.set_major_locator(MaxNLocator(integer=True))\n",
    "\n",
    "plt.show()"
   ]
  },
  {
   "cell_type": "markdown",
   "id": "76385df1",
   "metadata": {},
   "source": [
    " We can see that there is a sharp drop in 2019. \n",
    " \n",
    " Based on this article, https://gamedaily.biz/article/1489/year-over-year-game-release-numbers-slowed-for-steam-in-2019 , they also said that there is a drop 2019 which is the same as the graph shown above. They mentioned that the drop may be due to the Steam’s notoriously-difficultmarketing and discoverability environment."
   ]
  },
  {
   "cell_type": "markdown",
   "id": "1978ad1e",
   "metadata": {},
   "source": [
    "### Rating "
   ]
  },
  {
   "cell_type": "code",
   "execution_count": null,
   "id": "dc0569e9",
   "metadata": {},
   "outputs": [],
   "source": [
    "steamUniqueTitleRating"
   ]
  },
  {
   "cell_type": "markdown",
   "id": "296e3281",
   "metadata": {},
   "source": [
    "##### getting total ratings"
   ]
  },
  {
   "cell_type": "code",
   "execution_count": null,
   "id": "fdd1f7cd",
   "metadata": {},
   "outputs": [],
   "source": [
    "#sum_column = steamUniqueTitleRating[\"positive_ratings\"] + steamUniqueTitleRating[\"negative_ratings\"]\n",
    "#steamUniqueTitleRating[\"total_ratings\"] = sum_column\n",
    "#steamUniqueTitleRating\n",
    "\n",
    "# sort the dataframe based on total_ratings\n",
    "#steamUniqueTitleRating.sort_values(by=['total_ratings'], ascending=False)"
   ]
  },
  {
   "cell_type": "code",
   "execution_count": null,
   "id": "8bcf6d2c",
   "metadata": {},
   "outputs": [],
   "source": [
    "#top5_Rating = steamUniqueTitleRating.nlargest(5,['total_ratings'])\n",
    "#below5_Rating = steamUniqueTitleRating.nsmallest(5,['total_ratings'])"
   ]
  },
  {
   "cell_type": "code",
   "execution_count": null,
   "id": "1363ac50",
   "metadata": {},
   "outputs": [],
   "source": [
    "#frames = [top5_Rating, below5_Rating]\n",
    "#ratingDF = pd.concat(frames)"
   ]
  },
  {
   "cell_type": "code",
   "execution_count": null,
   "id": "d2466abc",
   "metadata": {},
   "outputs": [],
   "source": [
    "steamUniqueTitleRating['type'] = 'Free'\n",
    "steamUniqueTitleRating.loc[steamUniqueTitleRating['price'] > 0, 'type'] = 'Paid'"
   ]
  },
  {
   "cell_type": "code",
   "execution_count": null,
   "id": "6d245071",
   "metadata": {},
   "outputs": [],
   "source": [
    "steamUniqueTitleRating.to_excel(\"output.xlsx\")"
   ]
  },
  {
   "cell_type": "code",
   "execution_count": null,
   "id": "59a671fc",
   "metadata": {},
   "outputs": [],
   "source": [
    "action = steamUniqueTitleRating.loc[steamUniqueTitleRating['genre'].str.contains(\"action\", case=False)]\n",
    "indie =steamUniqueTitleRating.loc[steamUniqueTitleRating['genre'].str.contains(\"indie\", case=False)]\n",
    "simulation = steamUniqueTitleRating.loc[steamUniqueTitleRating['genre'].str.contains(\"simulation\", case=False)]\n",
    "strategy = steamUniqueTitleRating.loc[steamUniqueTitleRating['genre'].str.contains(\"strategy\", case=False)]\n",
    "rpg = steamUniqueTitleRating.loc[steamUniqueTitleRating['genre'].str.contains(\"rpg\", case=False)]\n",
    "sports = steamUniqueTitleRating.loc[steamUniqueTitleRating['genre'].str.contains(\"sports\", case=False)]\n",
    "racing = steamUniqueTitleRating.loc[steamUniqueTitleRating['genre'].str.contains(\"racing\", case=False)]"
   ]
  },
  {
   "cell_type": "code",
   "execution_count": null,
   "id": "f0461847",
   "metadata": {},
   "outputs": [],
   "source": [
    "action"
   ]
  },
  {
   "cell_type": "markdown",
   "id": "38831b81",
   "metadata": {},
   "source": [
    "##### summing all the postive rating and negative rating separately"
   ]
  },
  {
   "cell_type": "code",
   "execution_count": null,
   "id": "4fef3f46",
   "metadata": {},
   "outputs": [],
   "source": [
    "#action\n",
    "action_posRating = action['positive_ratings'].sum()    \n",
    "action_negRating = action['negative_ratings'].sum() \n",
    "\n",
    "#indie\n",
    "indie_posRating = indie['positive_ratings'].sum()    \n",
    "indie_negRating = indie['negative_ratings'].sum()  \n",
    "\n",
    "#simulation\n",
    "simulation_posRating = simulation['positive_ratings'].sum()    \n",
    "simulation_negRating = simulation['negative_ratings'].sum() \n",
    "\n",
    "#strategy\n",
    "strategy_posRating = strategy['positive_ratings'].sum()    \n",
    "strategy_negRating = strategy['negative_ratings'].sum()\n",
    "\n",
    "#rpg\n",
    "rpg_posRating = rpg['positive_ratings'].sum()    \n",
    "rpg_negRating = rpg['negative_ratings'].sum()\n",
    "\n",
    "#sports\n",
    "sports_posRating = sports['positive_ratings'].sum()    \n",
    "sports_negRating = sports['negative_ratings'].sum()\n",
    "\n",
    "#racing\n",
    "racing_posRating = sports['positive_ratings'].sum()    \n",
    "racing_negRating = sports['negative_ratings'].sum()"
   ]
  },
  {
   "cell_type": "code",
   "execution_count": null,
   "id": "b04e5f29",
   "metadata": {},
   "outputs": [],
   "source": [
    "# initialize data of lists.\n",
    "data = {'genre':['action', 'indie', 'simulation', 'strategy', 'rpg', 'sports', 'racing'],\n",
    "        'positive_ratings':[action_posRating, indie_posRating, simulation_posRating, strategy_posRating, rpg_posRating, sports_posRating, racing_posRating],\n",
    "        'negative_ratings':[action_negRating, indie_negRating, simulation_negRating, strategy_negRating, rpg_negRating, sports_negRating, racing_negRating]\n",
    "       }\n",
    "  \n",
    "# Create DataFrame\n",
    "genreRating = pd.DataFrame(data)"
   ]
  },
  {
   "cell_type": "code",
   "execution_count": null,
   "id": "688ab1f1",
   "metadata": {},
   "outputs": [],
   "source": [
    "#sum_column = genreRating[\"positive_ratings\"] + genreRating[\"negative_ratings\"]\n",
    "#genreRating[\"total_ratings\"] = sum_column"
   ]
  },
  {
   "cell_type": "code",
   "execution_count": null,
   "id": "4ad4eb13",
   "metadata": {},
   "outputs": [],
   "source": [
    "genreRating = genreRating.set_index('genre')"
   ]
  },
  {
   "cell_type": "code",
   "execution_count": null,
   "id": "ad7fc24b",
   "metadata": {},
   "outputs": [],
   "source": [
    "genreRating = genreRating.div(genreRating.sum(axis=1), axis=0)*100"
   ]
  },
  {
   "cell_type": "code",
   "execution_count": null,
   "id": "6a24ecdd",
   "metadata": {},
   "outputs": [],
   "source": [
    "genreRating.plot(kind = 'barh', stacked = True)\n",
    "plt.legend(bbox_to_anchor=(1.05,1))\n",
    "plt.title(\"rating of each genre\")\n",
    "plt.xlabel(\"rating in percentage\")"
   ]
  },
  {
   "cell_type": "markdown",
   "id": "2357ed1f",
   "metadata": {},
   "source": [
    "we can see that simulation and indie have a lot more postive ratings compared to the rest. We thought that action would receive more postive rating as it is considered the most popular genre. The reason why simulation and indie has more postive rating may be due to factors such as lenghth of game play and content of the game which we will explore later."
   ]
  },
  {
   "cell_type": "markdown",
   "id": "480c01ee",
   "metadata": {},
   "source": [
    "### Reviews"
   ]
  },
  {
   "cell_type": "code",
   "execution_count": null,
   "id": "664603a8",
   "metadata": {},
   "outputs": [],
   "source": [
    "#steamCombinedReviews_Title_Reviews"
   ]
  },
  {
   "cell_type": "code",
   "execution_count": null,
   "id": "1e3f633e",
   "metadata": {},
   "outputs": [],
   "source": [
    "#NUM_TOP_WORDS = 20\n",
    "#top_20 = hero.visualization.top_words(news_content['clean_content']).head(NUM_TOP_WORDS)# Draw the bar chart\n",
    "#top_20.plot.bar(rot=90, title=\"Top 20 words\");\n",
    "#plt.show(block=True);\n"
   ]
  }
 ],
 "metadata": {
  "kernelspec": {
   "display_name": "Python 3",
   "language": "python",
   "name": "python3"
  },
  "language_info": {
   "codemirror_mode": {
    "name": "ipython",
    "version": 3
   },
   "file_extension": ".py",
   "mimetype": "text/x-python",
   "name": "python",
   "nbconvert_exporter": "python",
   "pygments_lexer": "ipython3",
   "version": "3.8.8"
  }
 },
 "nbformat": 4,
 "nbformat_minor": 5
}
