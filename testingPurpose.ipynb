{
 "cells": [
  {
   "cell_type": "markdown",
   "id": "7792f2c2",
   "metadata": {},
   "source": [
    "### Libraries"
   ]
  },
  {
   "cell_type": "code",
   "execution_count": 28,
   "id": "57adff21",
   "metadata": {},
   "outputs": [],
   "source": [
    "import glob\n",
    "import os\n",
    "import numpy as np\n",
    "import pandas as pd\n",
    "import seaborn as sb\n",
    "import matplotlib.pyplot as plt # we only need pyplot\n",
    "sb.set() # set the default Seaborn style for graphics"
   ]
  },
  {
   "cell_type": "markdown",
   "id": "06c1ffed",
   "metadata": {},
   "source": [
    "### Dataset"
   ]
  },
  {
   "cell_type": "code",
   "execution_count": 22,
   "id": "73fac1a9",
   "metadata": {},
   "outputs": [
    {
     "name": "stderr",
     "output_type": "stream",
     "text": [
      "C:\\Users\\Pyae Pyae\\anaconda3\\lib\\site-packages\\IPython\\core\\interactiveshell.py:3437: DtypeWarning: Columns (1) have mixed types.Specify dtype option on import or set low_memory=False.\n",
      "  exec(code_obj, self.user_global_ns, self.user_ns)\n",
      "C:\\Users\\Pyae Pyae\\anaconda3\\lib\\site-packages\\IPython\\core\\interactiveshell.py:3437: DtypeWarning: Columns (22) have mixed types.Specify dtype option on import or set low_memory=False.\n",
      "  exec(code_obj, self.user_global_ns, self.user_ns)\n"
     ]
    }
   ],
   "source": [
    "steamData = pd.read_csv('steam_data/steam.csv')\n",
    "steamSupportInfo = pd.read_csv('steam_data/steam_support_info.csv')\n",
    "steamChart = pd.read_csv('steam_data/steamCharts.csv')\n",
    "steamSpyTagData = pd.read_csv('steam_data/steamspy_tag_data.csv')\n",
    "steamGames = pd.concat(map(pd.read_csv, glob.glob(os.path.join('', \"steam_data/steam_games/steam_games*.csv\"))))\n",
    "steamMediaData = pd.concat(map(pd.read_csv, glob.glob(os.path.join('', \"steam_data/steam_media_data/steam_media_data*.csv\"))))\n",
    "steamRequirements = pd.concat(map(pd.read_csv, glob.glob(os.path.join('', \"steam_data/steam_requirements/steam_requirements*.csv\"))))\n",
    "steamDescription = pd.concat(map(pd.read_csv, glob.glob(os.path.join('', \"steam_data/steam_description/steam_description*.csv\"))))\n",
    "\n",
    "#game reviews\n",
    "#steamDayZReview = pd.concat(map(pd.read_csv, glob.glob(os.path.join('', \"steam_data/steam_reviews/DayZ/steam_review_*.csv\"))))\n",
    "#steamDeadbyDaylightReview = pd.concat(map(pd.read_csv, glob.glob(os.path.join('', \"steam_data/steam_reviews/DeadbyDaylight/steam_review_*.csv\"))))\n",
    "#steamFallout4Review = pd.concat(map(pd.read_csv, glob.glob(os.path.join('', \"steam_data/steam_reviews/Fallout4/steam_review_*.csv\"))))\n",
    "#steamNoMansSkyReview = pd.concat(map(pd.read_csv, glob.glob(os.path.join('', \"steam_data/steam_reviews/NoMansSky/steam_review_*.csv\"))))\n",
    "#steamPAYDAY2Review = pd.concat(map(pd.read_csv, glob.glob(os.path.join('', \"steam_data/steam_reviews/PAYDAY2/steam_review_*.csv\"))))\n",
    "#steamPLAYERUNKNOWNSBATTLEGROUNDSReview = pd.concat(map(pd.read_csv, glob.glob(os.path.join('', \"steam_data/steam_reviews/PLAYERUNKNOWNSBATTLEGROUNDS/steam_review_*.csv\"))))\n",
    "#steamSubnauticaReview = pd.concat(map(pd.read_csv, glob.glob(os.path.join('', \"steam_data/steam_reviews/Subnautica/steam_review_*.csv\"))))\n",
    "#steamTerrariaReview = pd.concat(map(pd.read_csv, glob.glob(os.path.join('', \"steam_data/steam_reviews/Terraria/steam_review_*.csv\"))))\n",
    "#steamTheElderScrollsVSkyrimReview = pd.concat(map(pd.read_csv, glob.glob(os.path.join('', \"steam_data/steam_reviews/TheElderScrollsVSkyrim/steam_review_*.csv\"))))\n",
    "steam_HalfOfTheGameReviews = pd.concat(map(pd.read_csv, glob.glob(os.path.join('', \"steam_data/steam_reviews/steam_review_*.csv\"))))\n"
   ]
  },
  {
   "cell_type": "code",
   "execution_count": 39,
   "id": "ca8c4252",
   "metadata": {},
   "outputs": [
    {
     "name": "stdout",
     "output_type": "stream",
     "text": [
      "steam_data\\steam_reviews\\DayZ\\steam_review_DayZ1.csv\n",
      "steam_data\\steam_reviews\\DayZ\\steam_review_DayZ2.csv\n",
      "steam_data\\steam_reviews\\DeadbyDaylight\\steam_review_DeadbyDaylight1.csv\n",
      "steam_data\\steam_reviews\\DeadbyDaylight\\steam_review_DeadbyDaylight2.csv\n",
      "steam_data\\steam_reviews\\Fallout4\\steam_review_Fallout41.csv\n",
      "steam_data\\steam_reviews\\Fallout4\\steam_review_Fallout42.csv\n",
      "steam_data\\steam_reviews\\NoMansSky\\steam_review_NoMansSky1.csv\n",
      "steam_data\\steam_reviews\\NoMansSky\\steam_review_NoMansSky2.csv\n",
      "steam_data\\steam_reviews\\NoMansSky\\steam_review_NoMansSky3.csv\n",
      "steam_data\\steam_reviews\\PAYDAY2\\steam_review_PAYDAY21.csv\n",
      "steam_data\\steam_reviews\\PAYDAY2\\steam_review_PAYDAY22.csv\n",
      "steam_data\\steam_reviews\\PLAYERUNKNOWNSBATTLEGROUNDS\\steam_review_PLAYERUNKNOWNSBATTLEGROUNDS1.csv\n",
      "steam_data\\steam_reviews\\PLAYERUNKNOWNSBATTLEGROUNDS\\steam_review_PLAYERUNKNOWNSBATTLEGROUNDS2.csv\n",
      "steam_data\\steam_reviews\\PLAYERUNKNOWNSBATTLEGROUNDS\\steam_review_PLAYERUNKNOWNSBATTLEGROUNDS3.csv\n",
      "steam_data\\steam_reviews\\PLAYERUNKNOWNSBATTLEGROUNDS\\steam_review_PLAYERUNKNOWNSBATTLEGROUNDS4.csv\n",
      "steam_data\\steam_reviews\\Subnautica\\steam_review_Subnautica1.csv\n",
      "steam_data\\steam_reviews\\Subnautica\\steam_review_Subnautica2.csv\n",
      "steam_data\\steam_reviews\\Terraria\\steam_review_Terraria1.csv\n",
      "steam_data\\steam_reviews\\Terraria\\steam_review_Terraria2.csv\n",
      "steam_data\\steam_reviews\\TheElderScrollsVSkyrim\\steam_review_TheElderScrollsVSkyrim1.csv\n",
      "steam_data\\steam_reviews\\TheElderScrollsVSkyrim\\steam_review_TheElderScrollsVSkyrim2.csv\n",
      "steam_data\\steam_reviews\\TheElderScrollsVSkyrim\\steam_review_TheElderScrollsVSkyrim3.csv\n"
     ]
    },
    {
     "name": "stderr",
     "output_type": "stream",
     "text": [
      "C:\\Users\\Pyae Pyae\\anaconda3\\lib\\site-packages\\IPython\\core\\interactiveshell.py:3357: DtypeWarning: Columns (2) have mixed types.Specify dtype option on import or set low_memory=False.\n",
      "  if (await self.run_code(code, result,  async_=asy)):\n",
      "C:\\Users\\Pyae Pyae\\anaconda3\\lib\\site-packages\\IPython\\core\\interactiveshell.py:3357: DtypeWarning: Columns (23) have mixed types.Specify dtype option on import or set low_memory=False.\n",
      "  if (await self.run_code(code, result,  async_=asy)):\n"
     ]
    }
   ],
   "source": [
    "#for filename in glob.iglob(\"steam_data/steam_reviews\" + '**/**', recursive=True):\n",
    "    #print(filename)\n",
    "\n",
    "files = glob.glob(\"steam_data/steam_reviews\" + '**/**' + \"/*.csv\")\n",
    "for i in files:\n",
    "    print (i)\n",
    "combined_csv = pd.concat([pd.read_csv(f) for f in files ])"
   ]
  },
  {
   "cell_type": "code",
   "execution_count": null,
   "id": "fb465094",
   "metadata": {},
   "outputs": [],
   "source": [
    "#game reviews\n",
    "files = glob.glob(\"steam_data/steam_reviews\" + '**/**' + \"/*.csv\")\n",
    "steamReviews_fromFolder = pd.concat([pd.read_csv(f) for f in files ])\n",
    "steam_HalfOfTheGameReviews = pd.concat(map(pd.read_csv, glob.glob(os.path.join('', \"steam_data/steam_reviews/steam_review_*.csv\"))))\n",
    "df3 = pd.merge(steamReviews_fromFolder, steam_HalfOfTheGameReviews)"
   ]
  },
  {
   "cell_type": "code",
   "execution_count": null,
   "id": "d1231bde",
   "metadata": {},
   "outputs": [],
   "source": []
  }
 ],
 "metadata": {
  "kernelspec": {
   "display_name": "Python 3",
   "language": "python",
   "name": "python3"
  },
  "language_info": {
   "codemirror_mode": {
    "name": "ipython",
    "version": 3
   },
   "file_extension": ".py",
   "mimetype": "text/x-python",
   "name": "python",
   "nbconvert_exporter": "python",
   "pygments_lexer": "ipython3",
   "version": "3.8.8"
  }
 },
 "nbformat": 4,
 "nbformat_minor": 5
}
